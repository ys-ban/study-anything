{
 "cells": [
  {
   "cell_type": "markdown",
   "metadata": {},
   "source": [
    "# 0. Library Import and Set the Directory"
   ]
  },
  {
   "cell_type": "code",
   "execution_count": 47,
   "metadata": {},
   "outputs": [],
   "source": [
    "import dataset\n",
    "import models\n",
    "import csv\n",
    "import os\n",
    "import torch\n",
    "import torchvision\n",
    "\n",
    "from PIL import Image\n",
    "\n",
    "import pandas as pd"
   ]
  },
  {
   "cell_type": "code",
   "execution_count": 14,
   "metadata": {},
   "outputs": [],
   "source": [
    "test_dir = '/opt/ml/input/data/eval'"
   ]
  },
  {
   "cell_type": "code",
   "execution_count": 8,
   "metadata": {},
   "outputs": [
    {
     "name": "stdout",
     "output_type": "stream",
     "text": [
      "torch version: 1.6.0\n",
      "device: cuda:0\n"
     ]
    }
   ],
   "source": [
    "device = torch.device(\"cuda:0\" if torch.cuda.is_available() else \"cpu\")\n",
    "\n",
    "print(f\"torch version: {torch.__version__}\")\n",
    "print(f\"device: {device}\")"
   ]
  },
  {
   "cell_type": "markdown",
   "metadata": {},
   "source": [
    "# 1. Model Setting"
   ]
  },
  {
   "cell_type": "code",
   "execution_count": 10,
   "metadata": {},
   "outputs": [],
   "source": [
    "def load_ckp(checkpoint_fpath, model, optimizer, device):\n",
    "    checkpoint = torch.load(checkpoint_fpath, map_location = device)\n",
    "    model.load_state_dict(checkpoint['state_dict'])\n",
    "    optimizer.load_state_dict(checkpoint['optimizer'])\n",
    "    return model, optimizer, checkpoint['epoch']"
   ]
  },
  {
   "cell_type": "code",
   "execution_count": 34,
   "metadata": {},
   "outputs": [],
   "source": [
    "A_model_path = f\"./ckpt/{A_model_ckpt}\"\n",
    "B_model_path = f\"./ckpt/{B_model_ckpt}\"\n",
    "C_model_path = f\"./ckpt/{C_model_ckpt}\""
   ]
  },
  {
   "cell_type": "code",
   "execution_count": 35,
   "metadata": {},
   "outputs": [],
   "source": [
    "A_model = models.EffiB3Based(num_classes=2)\n",
    "B_model = models.EffiB3Based(num_classes=3)\n",
    "C_model = models.EffiB3Based(num_classes=2)"
   ]
  },
  {
   "cell_type": "markdown",
   "metadata": {},
   "source": [
    "# 2. Dataset Load"
   ]
  },
  {
   "cell_type": "code",
   "execution_count": 30,
   "metadata": {},
   "outputs": [],
   "source": [
    "submission = pd.read_csv(os.path.join(test_dir, 'info.csv'))"
   ]
  },
  {
   "cell_type": "code",
   "execution_count": 31,
   "metadata": {},
   "outputs": [],
   "source": [
    "image_dir = os.path.join(test_dir, 'images')"
   ]
  },
  {
   "cell_type": "code",
   "execution_count": 32,
   "metadata": {},
   "outputs": [],
   "source": [
    "image_paths = [os.path.join(image_dir, img_id) for img_id in submission.ImageID]\n",
    "\n",
    "transformations = dataset.get_transforms(('val'))\n",
    "\n",
    "pred_data = dataset.MaskDataset(image_paths, (lambda x:-1),transformations['val'])\n",
    "\n",
    "loader = torch.utils.data.DataLoader(\n",
    "    pred_data,\n",
    "    shuffle=False\n",
    ")\n"
   ]
  },
  {
   "cell_type": "markdown",
   "metadata": {},
   "source": [
    "# 3. Inference"
   ]
  },
  {
   "cell_type": "code",
   "execution_count": 33,
   "metadata": {},
   "outputs": [
    {
     "name": "stdout",
     "output_type": "stream",
     "text": [
      "test inference is done!\n"
     ]
    }
   ],
   "source": [
    "# 모델을 정의합니다. (학습한 모델이 있다면 torch.load로 모델을 불러주세요!)\n",
    "B_model, _, _ = load_ckp(B_model_path, B_model, torch.optim.Adam(B_model.parameters(), lr=1), device)\n",
    "B_model.eval()\n",
    "B_model.to(device)\n",
    "\n",
    "# 모델이 테스트 데이터셋을 예측하고 결과를 저장합니다.\n",
    "B_predictions = []\n",
    "for images, label in loader:\n",
    "    with torch.no_grad():\n",
    "        images = images.to(device)\n",
    "        pred = B_model(images)\n",
    "        pred = pred.argmax(dim=-1)\n",
    "        B_predictions.extend(pred.cpu().numpy())\n",
    "\n",
    "C_model, _, _ = load_ckp(C_model_path, C_model, torch.optim.Adam(C_model.parameters(), lr=1), device)\n",
    "C_model.eval()\n",
    "C_model.to(device)\n",
    "\n",
    "# 모델이 테스트 데이터셋을 예측하고 결과를 저장합니다.\n",
    "C_predictions = []\n",
    "for images, label in loader:\n",
    "    with torch.no_grad():\n",
    "        images = images.to(device)\n",
    "        pred = C_model(images)\n",
    "        pred = pred.argmax(dim=-1)\n",
    "        C_predictions.extend(pred.cpu().numpy())\n",
    "\n",
    "\n",
    "A_detail_model, _, _ = load_ckp(A_model_path, A_model, torch.optim.SGD(A_model.parameters(), lr=1e-3), device)\n",
    "A_detail_model.eval()\n",
    "A_detail_model.to(device)\n",
    "\n",
    "# 모델이 테스트 데이터셋을 예측하고 결과를 저장합니다.\n",
    "A_predictions = []\n",
    "for images, label in pred_iter_for_age:\n",
    "    with torch.no_grad():\n",
    "        images = images.to(device)\n",
    "        pred = A_model(images)\n",
    "        pred = pred.argmax(dim=-1)\n",
    "        A_predictions.extend(pred.cpu().numpy())\n",
    "\n",
    "        \n",
    "all_predictions = []\n",
    "\n",
    "for pred_tuple in zip(B_predictions, C_predictions, A_predictions):\n",
    "    predicted_ans = pred_tuple[0]*6 + pred_tuple[1]*3 + (0 if pred_tuple[2]<3 else (1 if pred_tuple[2]<9 else 2))\n",
    "    all_predictions.append(predicted_ans)\n",
    "    \n",
    "        \n",
    "submission['ans'] = all_predictions\n",
    "\n",
    "# 제출할 파일을 저장합니다.\n",
    "submission.to_csv(os.path.join(test_dir, 'submission_3.csv'), index=False)\n",
    "print('test inference is done!')"
   ]
  },
  {
   "cell_type": "code",
   "execution_count": null,
   "metadata": {},
   "outputs": [],
   "source": []
  }
 ],
 "metadata": {
  "kernelspec": {
   "display_name": "Python 3",
   "language": "python",
   "name": "python3"
  },
  "language_info": {
   "codemirror_mode": {
    "name": "ipython",
    "version": 3
   },
   "file_extension": ".py",
   "mimetype": "text/x-python",
   "name": "python",
   "nbconvert_exporter": "python",
   "pygments_lexer": "ipython3",
   "version": "3.6.8"
  }
 },
 "nbformat": 4,
 "nbformat_minor": 5
}