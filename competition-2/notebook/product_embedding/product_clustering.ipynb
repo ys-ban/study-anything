{
 "cells": [
  {
   "cell_type": "code",
   "execution_count": 1,
   "id": "2faa7cd2",
   "metadata": {},
   "outputs": [],
   "source": [
    "import pandas as pd\n",
    "import numpy as np\n",
    "import matplotlib.pyplot as plt"
   ]
  },
  {
   "cell_type": "code",
   "execution_count": 7,
   "id": "c8cb353d",
   "metadata": {},
   "outputs": [],
   "source": [
    "train_csv = pd.read_csv('/opt/ml/code/input/train.csv')"
   ]
  },
  {
   "cell_type": "code",
   "execution_count": 8,
   "id": "b7cce012",
   "metadata": {},
   "outputs": [
    {
     "data": {
      "text/html": [
       "<div>\n",
       "<style scoped>\n",
       "    .dataframe tbody tr th:only-of-type {\n",
       "        vertical-align: middle;\n",
       "    }\n",
       "\n",
       "    .dataframe tbody tr th {\n",
       "        vertical-align: top;\n",
       "    }\n",
       "\n",
       "    .dataframe thead th {\n",
       "        text-align: right;\n",
       "    }\n",
       "</style>\n",
       "<table border=\"1\" class=\"dataframe\">\n",
       "  <thead>\n",
       "    <tr style=\"text-align: right;\">\n",
       "      <th></th>\n",
       "      <th>order_id</th>\n",
       "      <th>product_id</th>\n",
       "      <th>description</th>\n",
       "      <th>quantity</th>\n",
       "      <th>order_date</th>\n",
       "      <th>price</th>\n",
       "      <th>customer_id</th>\n",
       "      <th>country</th>\n",
       "      <th>total</th>\n",
       "    </tr>\n",
       "  </thead>\n",
       "  <tbody>\n",
       "    <tr>\n",
       "      <th>0</th>\n",
       "      <td>489434</td>\n",
       "      <td>85048</td>\n",
       "      <td>15CM CHRISTMAS GLASS BALL 20 LIGHTS</td>\n",
       "      <td>12</td>\n",
       "      <td>2009-12-01 07:45:00</td>\n",
       "      <td>11.4675</td>\n",
       "      <td>13085</td>\n",
       "      <td>United Kingdom</td>\n",
       "      <td>137.61</td>\n",
       "    </tr>\n",
       "    <tr>\n",
       "      <th>1</th>\n",
       "      <td>489434</td>\n",
       "      <td>79323P</td>\n",
       "      <td>PINK CHERRY LIGHTS</td>\n",
       "      <td>12</td>\n",
       "      <td>2009-12-01 07:45:00</td>\n",
       "      <td>11.1375</td>\n",
       "      <td>13085</td>\n",
       "      <td>United Kingdom</td>\n",
       "      <td>133.65</td>\n",
       "    </tr>\n",
       "    <tr>\n",
       "      <th>2</th>\n",
       "      <td>489434</td>\n",
       "      <td>79323W</td>\n",
       "      <td>WHITE CHERRY LIGHTS</td>\n",
       "      <td>12</td>\n",
       "      <td>2009-12-01 07:45:00</td>\n",
       "      <td>11.1375</td>\n",
       "      <td>13085</td>\n",
       "      <td>United Kingdom</td>\n",
       "      <td>133.65</td>\n",
       "    </tr>\n",
       "    <tr>\n",
       "      <th>3</th>\n",
       "      <td>489434</td>\n",
       "      <td>22041</td>\n",
       "      <td>RECORD FRAME 7\" SINGLE SIZE</td>\n",
       "      <td>48</td>\n",
       "      <td>2009-12-01 07:45:00</td>\n",
       "      <td>3.4650</td>\n",
       "      <td>13085</td>\n",
       "      <td>United Kingdom</td>\n",
       "      <td>166.32</td>\n",
       "    </tr>\n",
       "    <tr>\n",
       "      <th>4</th>\n",
       "      <td>489434</td>\n",
       "      <td>21232</td>\n",
       "      <td>STRAWBERRY CERAMIC TRINKET BOX</td>\n",
       "      <td>24</td>\n",
       "      <td>2009-12-01 07:45:00</td>\n",
       "      <td>2.0625</td>\n",
       "      <td>13085</td>\n",
       "      <td>United Kingdom</td>\n",
       "      <td>49.50</td>\n",
       "    </tr>\n",
       "  </tbody>\n",
       "</table>\n",
       "</div>"
      ],
      "text/plain": [
       "  order_id product_id                          description  quantity  \\\n",
       "0   489434      85048  15CM CHRISTMAS GLASS BALL 20 LIGHTS        12   \n",
       "1   489434     79323P                   PINK CHERRY LIGHTS        12   \n",
       "2   489434     79323W                  WHITE CHERRY LIGHTS        12   \n",
       "3   489434      22041         RECORD FRAME 7\" SINGLE SIZE         48   \n",
       "4   489434      21232       STRAWBERRY CERAMIC TRINKET BOX        24   \n",
       "\n",
       "            order_date    price  customer_id         country   total  \n",
       "0  2009-12-01 07:45:00  11.4675        13085  United Kingdom  137.61  \n",
       "1  2009-12-01 07:45:00  11.1375        13085  United Kingdom  133.65  \n",
       "2  2009-12-01 07:45:00  11.1375        13085  United Kingdom  133.65  \n",
       "3  2009-12-01 07:45:00   3.4650        13085  United Kingdom  166.32  \n",
       "4  2009-12-01 07:45:00   2.0625        13085  United Kingdom   49.50  "
      ]
     },
     "execution_count": 8,
     "metadata": {},
     "output_type": "execute_result"
    }
   ],
   "source": [
    "train_csv.head()"
   ]
  },
  {
   "cell_type": "code",
   "execution_count": 4,
   "id": "e28560ed",
   "metadata": {},
   "outputs": [],
   "source": [
    "cluster_res = pd.read_csv('./cluster_res.csv')"
   ]
  },
  {
   "cell_type": "code",
   "execution_count": 5,
   "id": "aac17cea",
   "metadata": {},
   "outputs": [
    {
     "data": {
      "text/html": [
       "<div>\n",
       "<style scoped>\n",
       "    .dataframe tbody tr th:only-of-type {\n",
       "        vertical-align: middle;\n",
       "    }\n",
       "\n",
       "    .dataframe tbody tr th {\n",
       "        vertical-align: top;\n",
       "    }\n",
       "\n",
       "    .dataframe thead th {\n",
       "        text-align: right;\n",
       "    }\n",
       "</style>\n",
       "<table border=\"1\" class=\"dataframe\">\n",
       "  <thead>\n",
       "    <tr style=\"text-align: right;\">\n",
       "      <th></th>\n",
       "      <th>prod_id</th>\n",
       "      <th>prod_name</th>\n",
       "      <th>cluster_id</th>\n",
       "    </tr>\n",
       "  </thead>\n",
       "  <tbody>\n",
       "    <tr>\n",
       "      <th>0</th>\n",
       "      <td>22084</td>\n",
       "      <td>PAPER CHAIN KIT EMPIRE</td>\n",
       "      <td>3</td>\n",
       "    </tr>\n",
       "    <tr>\n",
       "      <th>1</th>\n",
       "      <td>21792</td>\n",
       "      <td>CLASSIC FRENCH STYLE BASKET GREEN</td>\n",
       "      <td>1</td>\n",
       "    </tr>\n",
       "    <tr>\n",
       "      <th>2</th>\n",
       "      <td>22960</td>\n",
       "      <td>JAM MAKING SET WITH JARS</td>\n",
       "      <td>3</td>\n",
       "    </tr>\n",
       "    <tr>\n",
       "      <th>3</th>\n",
       "      <td>22722</td>\n",
       "      <td>SET OF 6 SPICE TINS PANTRY DESIGN</td>\n",
       "      <td>3</td>\n",
       "    </tr>\n",
       "    <tr>\n",
       "      <th>4</th>\n",
       "      <td>22652</td>\n",
       "      <td>TRAVEL SEWING KIT</td>\n",
       "      <td>3</td>\n",
       "    </tr>\n",
       "  </tbody>\n",
       "</table>\n",
       "</div>"
      ],
      "text/plain": [
       "   prod_id                           prod_name  cluster_id\n",
       "0    22084              PAPER CHAIN KIT EMPIRE           3\n",
       "1    21792  CLASSIC FRENCH STYLE BASKET GREEN            1\n",
       "2    22960            JAM MAKING SET WITH JARS           3\n",
       "3    22722   SET OF 6 SPICE TINS PANTRY DESIGN           3\n",
       "4    22652                   TRAVEL SEWING KIT           3"
      ]
     },
     "execution_count": 5,
     "metadata": {},
     "output_type": "execute_result"
    }
   ],
   "source": [
    "cluster_res.head()"
   ]
  },
  {
   "cell_type": "code",
   "execution_count": 11,
   "id": "0f091ba0",
   "metadata": {},
   "outputs": [],
   "source": [
    "prod_to_cluster = {}\n",
    "\n",
    "for zip_out in zip(cluster_res.prod_id, cluster_res.cluster_id):\n",
    "    prod_to_cluster[str(zip_out[0])] = zip_out[1]"
   ]
  },
  {
   "cell_type": "code",
   "execution_count": 12,
   "id": "60ae5ac6",
   "metadata": {},
   "outputs": [],
   "source": [
    "check_case = [\"ADJUST\", \"ADJUST2\", \"BANK CHARGES\", \"C2\", \"CRUK\", \"D\", \"DOT\", \"M\", \"PADS\", \"POST\", \"SP1002\", \"TEST001\", \"TEST002\"]\n",
    "\n",
    "train_csv['unique_prod_id'] = [(str(x[:5]) if len(x)>5 else str(x)) if x not in check_case else x for x in list(train_csv['product_id'][:].copy())]"
   ]
  },
  {
   "cell_type": "code",
   "execution_count": 13,
   "id": "2b691d5e",
   "metadata": {},
   "outputs": [
    {
     "data": {
      "text/html": [
       "<div>\n",
       "<style scoped>\n",
       "    .dataframe tbody tr th:only-of-type {\n",
       "        vertical-align: middle;\n",
       "    }\n",
       "\n",
       "    .dataframe tbody tr th {\n",
       "        vertical-align: top;\n",
       "    }\n",
       "\n",
       "    .dataframe thead th {\n",
       "        text-align: right;\n",
       "    }\n",
       "</style>\n",
       "<table border=\"1\" class=\"dataframe\">\n",
       "  <thead>\n",
       "    <tr style=\"text-align: right;\">\n",
       "      <th></th>\n",
       "      <th>order_id</th>\n",
       "      <th>product_id</th>\n",
       "      <th>description</th>\n",
       "      <th>quantity</th>\n",
       "      <th>order_date</th>\n",
       "      <th>price</th>\n",
       "      <th>customer_id</th>\n",
       "      <th>country</th>\n",
       "      <th>total</th>\n",
       "      <th>unique_prod_id</th>\n",
       "    </tr>\n",
       "  </thead>\n",
       "  <tbody>\n",
       "    <tr>\n",
       "      <th>0</th>\n",
       "      <td>489434</td>\n",
       "      <td>85048</td>\n",
       "      <td>15CM CHRISTMAS GLASS BALL 20 LIGHTS</td>\n",
       "      <td>12</td>\n",
       "      <td>2009-12-01 07:45:00</td>\n",
       "      <td>11.4675</td>\n",
       "      <td>13085</td>\n",
       "      <td>United Kingdom</td>\n",
       "      <td>137.61</td>\n",
       "      <td>85048</td>\n",
       "    </tr>\n",
       "    <tr>\n",
       "      <th>1</th>\n",
       "      <td>489434</td>\n",
       "      <td>79323P</td>\n",
       "      <td>PINK CHERRY LIGHTS</td>\n",
       "      <td>12</td>\n",
       "      <td>2009-12-01 07:45:00</td>\n",
       "      <td>11.1375</td>\n",
       "      <td>13085</td>\n",
       "      <td>United Kingdom</td>\n",
       "      <td>133.65</td>\n",
       "      <td>79323</td>\n",
       "    </tr>\n",
       "    <tr>\n",
       "      <th>2</th>\n",
       "      <td>489434</td>\n",
       "      <td>79323W</td>\n",
       "      <td>WHITE CHERRY LIGHTS</td>\n",
       "      <td>12</td>\n",
       "      <td>2009-12-01 07:45:00</td>\n",
       "      <td>11.1375</td>\n",
       "      <td>13085</td>\n",
       "      <td>United Kingdom</td>\n",
       "      <td>133.65</td>\n",
       "      <td>79323</td>\n",
       "    </tr>\n",
       "    <tr>\n",
       "      <th>3</th>\n",
       "      <td>489434</td>\n",
       "      <td>22041</td>\n",
       "      <td>RECORD FRAME 7\" SINGLE SIZE</td>\n",
       "      <td>48</td>\n",
       "      <td>2009-12-01 07:45:00</td>\n",
       "      <td>3.4650</td>\n",
       "      <td>13085</td>\n",
       "      <td>United Kingdom</td>\n",
       "      <td>166.32</td>\n",
       "      <td>22041</td>\n",
       "    </tr>\n",
       "    <tr>\n",
       "      <th>4</th>\n",
       "      <td>489434</td>\n",
       "      <td>21232</td>\n",
       "      <td>STRAWBERRY CERAMIC TRINKET BOX</td>\n",
       "      <td>24</td>\n",
       "      <td>2009-12-01 07:45:00</td>\n",
       "      <td>2.0625</td>\n",
       "      <td>13085</td>\n",
       "      <td>United Kingdom</td>\n",
       "      <td>49.50</td>\n",
       "      <td>21232</td>\n",
       "    </tr>\n",
       "  </tbody>\n",
       "</table>\n",
       "</div>"
      ],
      "text/plain": [
       "  order_id product_id                          description  quantity  \\\n",
       "0   489434      85048  15CM CHRISTMAS GLASS BALL 20 LIGHTS        12   \n",
       "1   489434     79323P                   PINK CHERRY LIGHTS        12   \n",
       "2   489434     79323W                  WHITE CHERRY LIGHTS        12   \n",
       "3   489434      22041         RECORD FRAME 7\" SINGLE SIZE         48   \n",
       "4   489434      21232       STRAWBERRY CERAMIC TRINKET BOX        24   \n",
       "\n",
       "            order_date    price  customer_id         country   total  \\\n",
       "0  2009-12-01 07:45:00  11.4675        13085  United Kingdom  137.61   \n",
       "1  2009-12-01 07:45:00  11.1375        13085  United Kingdom  133.65   \n",
       "2  2009-12-01 07:45:00  11.1375        13085  United Kingdom  133.65   \n",
       "3  2009-12-01 07:45:00   3.4650        13085  United Kingdom  166.32   \n",
       "4  2009-12-01 07:45:00   2.0625        13085  United Kingdom   49.50   \n",
       "\n",
       "  unique_prod_id  \n",
       "0          85048  \n",
       "1          79323  \n",
       "2          79323  \n",
       "3          22041  \n",
       "4          21232  "
      ]
     },
     "execution_count": 13,
     "metadata": {},
     "output_type": "execute_result"
    }
   ],
   "source": [
    "train_csv.head()"
   ]
  },
  {
   "cell_type": "code",
   "execution_count": 14,
   "id": "a3f00ddf",
   "metadata": {},
   "outputs": [],
   "source": [
    "for i, ck in enumerate(check_case):\n",
    "    prod_to_cluster[ck] = i+8"
   ]
  },
  {
   "cell_type": "code",
   "execution_count": 15,
   "id": "e0896679",
   "metadata": {},
   "outputs": [],
   "source": [
    "for unique_prod_id in list(set(train_csv.unique_prod_id[:].copy())):\n",
    "    try:\n",
    "        cls_id = prod_to_cluster[unique_prod_id]\n",
    "    except:\n",
    "        print(unique_prod_id)"
   ]
  },
  {
   "cell_type": "code",
   "execution_count": 16,
   "id": "90d3dd21",
   "metadata": {},
   "outputs": [],
   "source": [
    "train_csv['cluster_id'] = [prod_to_cluster[x] for x in list(train_csv.unique_prod_id[:].copy())]"
   ]
  },
  {
   "cell_type": "code",
   "execution_count": 17,
   "id": "513a7cda",
   "metadata": {},
   "outputs": [
    {
     "data": {
      "text/html": [
       "<div>\n",
       "<style scoped>\n",
       "    .dataframe tbody tr th:only-of-type {\n",
       "        vertical-align: middle;\n",
       "    }\n",
       "\n",
       "    .dataframe tbody tr th {\n",
       "        vertical-align: top;\n",
       "    }\n",
       "\n",
       "    .dataframe thead th {\n",
       "        text-align: right;\n",
       "    }\n",
       "</style>\n",
       "<table border=\"1\" class=\"dataframe\">\n",
       "  <thead>\n",
       "    <tr style=\"text-align: right;\">\n",
       "      <th></th>\n",
       "      <th>order_id</th>\n",
       "      <th>product_id</th>\n",
       "      <th>description</th>\n",
       "      <th>quantity</th>\n",
       "      <th>order_date</th>\n",
       "      <th>price</th>\n",
       "      <th>customer_id</th>\n",
       "      <th>country</th>\n",
       "      <th>total</th>\n",
       "      <th>unique_prod_id</th>\n",
       "      <th>cluster_id</th>\n",
       "    </tr>\n",
       "  </thead>\n",
       "  <tbody>\n",
       "    <tr>\n",
       "      <th>0</th>\n",
       "      <td>489434</td>\n",
       "      <td>85048</td>\n",
       "      <td>15CM CHRISTMAS GLASS BALL 20 LIGHTS</td>\n",
       "      <td>12</td>\n",
       "      <td>2009-12-01 07:45:00</td>\n",
       "      <td>11.4675</td>\n",
       "      <td>13085</td>\n",
       "      <td>United Kingdom</td>\n",
       "      <td>137.61</td>\n",
       "      <td>85048</td>\n",
       "      <td>3</td>\n",
       "    </tr>\n",
       "    <tr>\n",
       "      <th>1</th>\n",
       "      <td>489434</td>\n",
       "      <td>79323P</td>\n",
       "      <td>PINK CHERRY LIGHTS</td>\n",
       "      <td>12</td>\n",
       "      <td>2009-12-01 07:45:00</td>\n",
       "      <td>11.1375</td>\n",
       "      <td>13085</td>\n",
       "      <td>United Kingdom</td>\n",
       "      <td>133.65</td>\n",
       "      <td>79323</td>\n",
       "      <td>3</td>\n",
       "    </tr>\n",
       "    <tr>\n",
       "      <th>2</th>\n",
       "      <td>489434</td>\n",
       "      <td>79323W</td>\n",
       "      <td>WHITE CHERRY LIGHTS</td>\n",
       "      <td>12</td>\n",
       "      <td>2009-12-01 07:45:00</td>\n",
       "      <td>11.1375</td>\n",
       "      <td>13085</td>\n",
       "      <td>United Kingdom</td>\n",
       "      <td>133.65</td>\n",
       "      <td>79323</td>\n",
       "      <td>3</td>\n",
       "    </tr>\n",
       "    <tr>\n",
       "      <th>3</th>\n",
       "      <td>489434</td>\n",
       "      <td>22041</td>\n",
       "      <td>RECORD FRAME 7\" SINGLE SIZE</td>\n",
       "      <td>48</td>\n",
       "      <td>2009-12-01 07:45:00</td>\n",
       "      <td>3.4650</td>\n",
       "      <td>13085</td>\n",
       "      <td>United Kingdom</td>\n",
       "      <td>166.32</td>\n",
       "      <td>22041</td>\n",
       "      <td>3</td>\n",
       "    </tr>\n",
       "    <tr>\n",
       "      <th>4</th>\n",
       "      <td>489434</td>\n",
       "      <td>21232</td>\n",
       "      <td>STRAWBERRY CERAMIC TRINKET BOX</td>\n",
       "      <td>24</td>\n",
       "      <td>2009-12-01 07:45:00</td>\n",
       "      <td>2.0625</td>\n",
       "      <td>13085</td>\n",
       "      <td>United Kingdom</td>\n",
       "      <td>49.50</td>\n",
       "      <td>21232</td>\n",
       "      <td>3</td>\n",
       "    </tr>\n",
       "  </tbody>\n",
       "</table>\n",
       "</div>"
      ],
      "text/plain": [
       "  order_id product_id                          description  quantity  \\\n",
       "0   489434      85048  15CM CHRISTMAS GLASS BALL 20 LIGHTS        12   \n",
       "1   489434     79323P                   PINK CHERRY LIGHTS        12   \n",
       "2   489434     79323W                  WHITE CHERRY LIGHTS        12   \n",
       "3   489434      22041         RECORD FRAME 7\" SINGLE SIZE         48   \n",
       "4   489434      21232       STRAWBERRY CERAMIC TRINKET BOX        24   \n",
       "\n",
       "            order_date    price  customer_id         country   total  \\\n",
       "0  2009-12-01 07:45:00  11.4675        13085  United Kingdom  137.61   \n",
       "1  2009-12-01 07:45:00  11.1375        13085  United Kingdom  133.65   \n",
       "2  2009-12-01 07:45:00  11.1375        13085  United Kingdom  133.65   \n",
       "3  2009-12-01 07:45:00   3.4650        13085  United Kingdom  166.32   \n",
       "4  2009-12-01 07:45:00   2.0625        13085  United Kingdom   49.50   \n",
       "\n",
       "  unique_prod_id  cluster_id  \n",
       "0          85048           3  \n",
       "1          79323           3  \n",
       "2          79323           3  \n",
       "3          22041           3  \n",
       "4          21232           3  "
      ]
     },
     "execution_count": 17,
     "metadata": {},
     "output_type": "execute_result"
    }
   ],
   "source": [
    "train_csv.head()"
   ]
  },
  {
   "cell_type": "code",
   "execution_count": 18,
   "id": "f50d3083",
   "metadata": {},
   "outputs": [],
   "source": [
    "train_csv['y_m'] = [x[:7] for x in train_csv.order_date[:]]"
   ]
  },
  {
   "cell_type": "code",
   "execution_count": 19,
   "id": "d5c64128",
   "metadata": {},
   "outputs": [
    {
     "data": {
      "text/html": [
       "<div>\n",
       "<style scoped>\n",
       "    .dataframe tbody tr th:only-of-type {\n",
       "        vertical-align: middle;\n",
       "    }\n",
       "\n",
       "    .dataframe tbody tr th {\n",
       "        vertical-align: top;\n",
       "    }\n",
       "\n",
       "    .dataframe thead th {\n",
       "        text-align: right;\n",
       "    }\n",
       "</style>\n",
       "<table border=\"1\" class=\"dataframe\">\n",
       "  <thead>\n",
       "    <tr style=\"text-align: right;\">\n",
       "      <th></th>\n",
       "      <th>order_id</th>\n",
       "      <th>product_id</th>\n",
       "      <th>description</th>\n",
       "      <th>quantity</th>\n",
       "      <th>order_date</th>\n",
       "      <th>price</th>\n",
       "      <th>customer_id</th>\n",
       "      <th>country</th>\n",
       "      <th>total</th>\n",
       "      <th>unique_prod_id</th>\n",
       "      <th>cluster_id</th>\n",
       "      <th>y_m</th>\n",
       "    </tr>\n",
       "  </thead>\n",
       "  <tbody>\n",
       "    <tr>\n",
       "      <th>0</th>\n",
       "      <td>489434</td>\n",
       "      <td>85048</td>\n",
       "      <td>15CM CHRISTMAS GLASS BALL 20 LIGHTS</td>\n",
       "      <td>12</td>\n",
       "      <td>2009-12-01 07:45:00</td>\n",
       "      <td>11.4675</td>\n",
       "      <td>13085</td>\n",
       "      <td>United Kingdom</td>\n",
       "      <td>137.61</td>\n",
       "      <td>85048</td>\n",
       "      <td>3</td>\n",
       "      <td>2009-12</td>\n",
       "    </tr>\n",
       "    <tr>\n",
       "      <th>1</th>\n",
       "      <td>489434</td>\n",
       "      <td>79323P</td>\n",
       "      <td>PINK CHERRY LIGHTS</td>\n",
       "      <td>12</td>\n",
       "      <td>2009-12-01 07:45:00</td>\n",
       "      <td>11.1375</td>\n",
       "      <td>13085</td>\n",
       "      <td>United Kingdom</td>\n",
       "      <td>133.65</td>\n",
       "      <td>79323</td>\n",
       "      <td>3</td>\n",
       "      <td>2009-12</td>\n",
       "    </tr>\n",
       "    <tr>\n",
       "      <th>2</th>\n",
       "      <td>489434</td>\n",
       "      <td>79323W</td>\n",
       "      <td>WHITE CHERRY LIGHTS</td>\n",
       "      <td>12</td>\n",
       "      <td>2009-12-01 07:45:00</td>\n",
       "      <td>11.1375</td>\n",
       "      <td>13085</td>\n",
       "      <td>United Kingdom</td>\n",
       "      <td>133.65</td>\n",
       "      <td>79323</td>\n",
       "      <td>3</td>\n",
       "      <td>2009-12</td>\n",
       "    </tr>\n",
       "    <tr>\n",
       "      <th>3</th>\n",
       "      <td>489434</td>\n",
       "      <td>22041</td>\n",
       "      <td>RECORD FRAME 7\" SINGLE SIZE</td>\n",
       "      <td>48</td>\n",
       "      <td>2009-12-01 07:45:00</td>\n",
       "      <td>3.4650</td>\n",
       "      <td>13085</td>\n",
       "      <td>United Kingdom</td>\n",
       "      <td>166.32</td>\n",
       "      <td>22041</td>\n",
       "      <td>3</td>\n",
       "      <td>2009-12</td>\n",
       "    </tr>\n",
       "    <tr>\n",
       "      <th>4</th>\n",
       "      <td>489434</td>\n",
       "      <td>21232</td>\n",
       "      <td>STRAWBERRY CERAMIC TRINKET BOX</td>\n",
       "      <td>24</td>\n",
       "      <td>2009-12-01 07:45:00</td>\n",
       "      <td>2.0625</td>\n",
       "      <td>13085</td>\n",
       "      <td>United Kingdom</td>\n",
       "      <td>49.50</td>\n",
       "      <td>21232</td>\n",
       "      <td>3</td>\n",
       "      <td>2009-12</td>\n",
       "    </tr>\n",
       "  </tbody>\n",
       "</table>\n",
       "</div>"
      ],
      "text/plain": [
       "  order_id product_id                          description  quantity  \\\n",
       "0   489434      85048  15CM CHRISTMAS GLASS BALL 20 LIGHTS        12   \n",
       "1   489434     79323P                   PINK CHERRY LIGHTS        12   \n",
       "2   489434     79323W                  WHITE CHERRY LIGHTS        12   \n",
       "3   489434      22041         RECORD FRAME 7\" SINGLE SIZE         48   \n",
       "4   489434      21232       STRAWBERRY CERAMIC TRINKET BOX        24   \n",
       "\n",
       "            order_date    price  customer_id         country   total  \\\n",
       "0  2009-12-01 07:45:00  11.4675        13085  United Kingdom  137.61   \n",
       "1  2009-12-01 07:45:00  11.1375        13085  United Kingdom  133.65   \n",
       "2  2009-12-01 07:45:00  11.1375        13085  United Kingdom  133.65   \n",
       "3  2009-12-01 07:45:00   3.4650        13085  United Kingdom  166.32   \n",
       "4  2009-12-01 07:45:00   2.0625        13085  United Kingdom   49.50   \n",
       "\n",
       "  unique_prod_id  cluster_id      y_m  \n",
       "0          85048           3  2009-12  \n",
       "1          79323           3  2009-12  \n",
       "2          79323           3  2009-12  \n",
       "3          22041           3  2009-12  \n",
       "4          21232           3  2009-12  "
      ]
     },
     "execution_count": 19,
     "metadata": {},
     "output_type": "execute_result"
    }
   ],
   "source": [
    "train_csv.head()"
   ]
  },
  {
   "cell_type": "code",
   "execution_count": 20,
   "id": "8a1a9a80",
   "metadata": {},
   "outputs": [],
   "source": [
    "time_cluster_grouped = train_csv.groupby(['cluster_id', 'y_m'])[['total', 'quantity']].sum()"
   ]
  },
  {
   "cell_type": "code",
   "execution_count": 21,
   "id": "cd1bc480",
   "metadata": {},
   "outputs": [
    {
     "data": {
      "text/html": [
       "<div>\n",
       "<style scoped>\n",
       "    .dataframe tbody tr th:only-of-type {\n",
       "        vertical-align: middle;\n",
       "    }\n",
       "\n",
       "    .dataframe tbody tr th {\n",
       "        vertical-align: top;\n",
       "    }\n",
       "\n",
       "    .dataframe thead th {\n",
       "        text-align: right;\n",
       "    }\n",
       "</style>\n",
       "<table border=\"1\" class=\"dataframe\">\n",
       "  <thead>\n",
       "    <tr style=\"text-align: right;\">\n",
       "      <th></th>\n",
       "      <th></th>\n",
       "      <th>total</th>\n",
       "      <th>quantity</th>\n",
       "    </tr>\n",
       "    <tr>\n",
       "      <th>cluster_id</th>\n",
       "      <th>y_m</th>\n",
       "      <th></th>\n",
       "      <th></th>\n",
       "    </tr>\n",
       "  </thead>\n",
       "  <tbody>\n",
       "    <tr>\n",
       "      <th rowspan=\"5\" valign=\"top\">1</th>\n",
       "      <th>2009-12</th>\n",
       "      <td>191733.6300</td>\n",
       "      <td>90392</td>\n",
       "    </tr>\n",
       "    <tr>\n",
       "      <th>2010-01</th>\n",
       "      <td>157333.6545</td>\n",
       "      <td>115527</td>\n",
       "    </tr>\n",
       "    <tr>\n",
       "      <th>2010-02</th>\n",
       "      <td>120685.9170</td>\n",
       "      <td>102527</td>\n",
       "    </tr>\n",
       "    <tr>\n",
       "      <th>2010-03</th>\n",
       "      <td>167183.4450</td>\n",
       "      <td>121788</td>\n",
       "    </tr>\n",
       "    <tr>\n",
       "      <th>2010-04</th>\n",
       "      <td>109703.0220</td>\n",
       "      <td>45575</td>\n",
       "    </tr>\n",
       "    <tr>\n",
       "      <th>...</th>\n",
       "      <th>...</th>\n",
       "      <td>...</td>\n",
       "      <td>...</td>\n",
       "    </tr>\n",
       "    <tr>\n",
       "      <th rowspan=\"4\" valign=\"top\">19</th>\n",
       "      <th>2010-01</th>\n",
       "      <td>148.5000</td>\n",
       "      <td>20</td>\n",
       "    </tr>\n",
       "    <tr>\n",
       "      <th>2010-02</th>\n",
       "      <td>0.0000</td>\n",
       "      <td>10</td>\n",
       "    </tr>\n",
       "    <tr>\n",
       "      <th>2010-04</th>\n",
       "      <td>37.1250</td>\n",
       "      <td>5</td>\n",
       "    </tr>\n",
       "    <tr>\n",
       "      <th>2010-10</th>\n",
       "      <td>-37.1250</td>\n",
       "      <td>-5</td>\n",
       "    </tr>\n",
       "    <tr>\n",
       "      <th>20</th>\n",
       "      <th>2009-12</th>\n",
       "      <td>1.6500</td>\n",
       "      <td>1</td>\n",
       "    </tr>\n",
       "  </tbody>\n",
       "</table>\n",
       "<p>309 rows × 2 columns</p>\n",
       "</div>"
      ],
      "text/plain": [
       "                          total  quantity\n",
       "cluster_id y_m                           \n",
       "1          2009-12  191733.6300     90392\n",
       "           2010-01  157333.6545    115527\n",
       "           2010-02  120685.9170    102527\n",
       "           2010-03  167183.4450    121788\n",
       "           2010-04  109703.0220     45575\n",
       "...                         ...       ...\n",
       "19         2010-01     148.5000        20\n",
       "           2010-02       0.0000        10\n",
       "           2010-04      37.1250         5\n",
       "           2010-10     -37.1250        -5\n",
       "20         2009-12       1.6500         1\n",
       "\n",
       "[309 rows x 2 columns]"
      ]
     },
     "execution_count": 21,
     "metadata": {},
     "output_type": "execute_result"
    }
   ],
   "source": [
    "time_cluster_grouped"
   ]
  },
  {
   "cell_type": "code",
   "execution_count": 29,
   "id": "6c7e8f61",
   "metadata": {},
   "outputs": [
    {
     "data": {
      "text/plain": [
       "total       191733.63\n",
       "quantity     90392.00\n",
       "Name: 2009-12, dtype: float64"
      ]
     },
     "execution_count": 29,
     "metadata": {},
     "output_type": "execute_result"
    }
   ],
   "source": [
    "time_cluster_grouped.xs(1).xs('2009-12')"
   ]
  },
  {
   "cell_type": "code",
   "execution_count": 25,
   "id": "1fc16e4e",
   "metadata": {},
   "outputs": [
    {
     "data": {
      "text/plain": [
       "['2009-12',\n",
       " '2010-01',\n",
       " '2010-02',\n",
       " '2010-03',\n",
       " '2010-04',\n",
       " '2010-05',\n",
       " '2010-06',\n",
       " '2010-07',\n",
       " '2010-08',\n",
       " '2010-09',\n",
       " '2010-10',\n",
       " '2010-11',\n",
       " '2010-12',\n",
       " '2011-01',\n",
       " '2011-02',\n",
       " '2011-03',\n",
       " '2011-04',\n",
       " '2011-05',\n",
       " '2011-06',\n",
       " '2011-07',\n",
       " '2011-08',\n",
       " '2011-09',\n",
       " '2011-10',\n",
       " '2011-11']"
      ]
     },
     "execution_count": 25,
     "metadata": {},
     "output_type": "execute_result"
    }
   ],
   "source": [
    "base_idx = list(time_cluster_grouped.xs(1).index[:])\n",
    "base_idx"
   ]
  },
  {
   "cell_type": "code",
   "execution_count": 45,
   "id": "64e83512",
   "metadata": {},
   "outputs": [],
   "source": [
    "cluster_timeseries = [[] for _ in range(20)]"
   ]
  },
  {
   "cell_type": "code",
   "execution_count": 46,
   "id": "53be94ce",
   "metadata": {},
   "outputs": [],
   "source": [
    "for i in range(1, 21):\n",
    "    cluster_df = time_cluster_grouped.xs(i)\n",
    "    for y_m_idx in base_idx:\n",
    "        try:\n",
    "            item_added = cluster_df.xs(y_m_idx)[:]['total']\n",
    "            cluster_timeseries[i-1].append(item_added)\n",
    "        except:\n",
    "            cluster_timeseries[i-1].append(0)"
   ]
  },
  {
   "cell_type": "code",
   "execution_count": 60,
   "id": "2d368d9c",
   "metadata": {},
   "outputs": [
    {
     "data": {
      "image/png": "[encoded data removed]",
      "text/plain": [
       "<Figure size 1440x1080 with 1 Axes>"
      ]
     },
     "metadata": {
      "needs_background": "light"
     },
     "output_type": "display_data"
    }
   ],
   "source": [
    "plt.figure(figsize=(20, 15))\n",
    "\n",
    "for i in range(20):\n",
    "    plt.plot(range(24), cluster_timeseries[i], label=str(i))\n",
    "plt.legend()\n",
    "plt.show()"
   ]
  },
  {
   "cell_type": "code",
   "execution_count": 55,
   "id": "661b8c8b",
   "metadata": {},
   "outputs": [
    {
     "name": "stdout",
     "output_type": "stream",
     "text": [
      "cluster 12: CRUK\n",
      "cluster 13: D\n",
      "cluster 15: M\n",
      "cluster 16: PADS\n"
     ]
    }
   ],
   "source": [
    "for k, v in prod_to_cluster.items():\n",
    "    if v in [12, 13, 15, 16]:\n",
    "        print(f\"cluster {v}: {k}\")"
   ]
  },
  {
   "cell_type": "code",
   "execution_count": 54,
   "id": "43c4b56d",
   "metadata": {},
   "outputs": [
    {
     "name": "stdout",
     "output_type": "stream",
     "text": [
      "12\n",
      "13\n",
      "15\n",
      "16\n"
     ]
    }
   ],
   "source": [
    "for i in range(1, 21):\n",
    "    if time_cluster_grouped.xs(i)['total'].sum()<0:\n",
    "        print(i)"
   ]
  },
  {
   "cell_type": "code",
   "execution_count": 56,
   "id": "5af61369",
   "metadata": {},
   "outputs": [
    {
     "data": {
      "text/plain": [
       "y_m\n",
       "2011-08      -2.6400\n",
       "2011-09   -1876.7595\n",
       "2011-10   -3796.0395\n",
       "2011-11   -5598.9945\n",
       "Name: total, dtype: float64"
      ]
     },
     "execution_count": 56,
     "metadata": {},
     "output_type": "execute_result"
    }
   ],
   "source": [
    "time_cluster_grouped.xs(12)['total']"
   ]
  },
  {
   "cell_type": "code",
   "execution_count": 57,
   "id": "eea87ad4",
   "metadata": {},
   "outputs": [
    {
     "data": {
      "text/plain": [
       "y_m\n",
       "2009-12    -179.7015\n",
       "2010-01    -357.6870\n",
       "2010-02   -2491.0050\n",
       "2010-03    -153.0705\n",
       "2010-04    -324.1920\n",
       "2010-05      89.0835\n",
       "2010-06    -561.1650\n",
       "2010-07    -383.0475\n",
       "2010-08   -1247.0040\n",
       "2010-09    -524.5515\n",
       "2010-10   -2716.5765\n",
       "2010-11   -2848.1310\n",
       "2010-12   -1145.0670\n",
       "2011-01     -37.9005\n",
       "2011-02    -470.2335\n",
       "2011-03    -369.9465\n",
       "2011-04   -3299.3730\n",
       "2011-05    -155.7930\n",
       "2011-06    -515.5920\n",
       "2011-07    -270.6495\n",
       "2011-08   -1671.5160\n",
       "2011-09    -539.3355\n",
       "2011-10     -92.5320\n",
       "2011-11    -783.5025\n",
       "Name: total, dtype: float64"
      ]
     },
     "execution_count": 57,
     "metadata": {},
     "output_type": "execute_result"
    }
   ],
   "source": [
    "time_cluster_grouped.xs(13)['total']"
   ]
  },
  {
   "cell_type": "code",
   "execution_count": 58,
   "id": "9ca0db1c",
   "metadata": {},
   "outputs": [
    {
     "data": {
      "text/plain": [
       "y_m\n",
       "2009-12    -2484.2070\n",
       "2010-01    -1528.8405\n",
       "2010-02      579.4635\n",
       "2010-03   -43819.9080\n",
       "2010-04   -34757.0850\n",
       "2010-05     -872.2395\n",
       "2010-06   -62141.4585\n",
       "2010-07   -11275.4400\n",
       "2010-08     1410.8655\n",
       "2010-09    -5450.1480\n",
       "2010-10   -49713.1470\n",
       "2010-11      575.1900\n",
       "2010-12      366.1680\n",
       "2011-01    -4673.4930\n",
       "2011-02    -2377.7325\n",
       "2011-03     -523.3140\n",
       "2011-04     3998.1810\n",
       "2011-05   -14335.6785\n",
       "2011-06   -64137.8595\n",
       "2011-07   -20730.6825\n",
       "2011-08    -3053.9355\n",
       "2011-09     1388.2605\n",
       "2011-10     4219.2480\n",
       "2011-11     2876.7585\n",
       "Name: total, dtype: float64"
      ]
     },
     "execution_count": 58,
     "metadata": {},
     "output_type": "execute_result"
    }
   ],
   "source": [
    "time_cluster_grouped.xs(15)['total']"
   ]
  },
  {
   "cell_type": "code",
   "execution_count": 59,
   "id": "809bd545",
   "metadata": {},
   "outputs": [
    {
     "data": {
      "text/plain": [
       "y_m\n",
       "2010-01     0.00330\n",
       "2010-02     0.00990\n",
       "2010-03     0.00165\n",
       "2010-04     0.00330\n",
       "2010-06   -60.39000\n",
       "2010-09     0.00165\n",
       "2010-11     0.00330\n",
       "2011-04     0.00165\n",
       "2011-07     0.00165\n",
       "2011-09     0.00165\n",
       "Name: total, dtype: float64"
      ]
     },
     "execution_count": 59,
     "metadata": {},
     "output_type": "execute_result"
    }
   ],
   "source": [
    "time_cluster_grouped.xs(16)['total']"
   ]
  },
  {
   "cell_type": "code",
   "execution_count": null,
   "id": "f83727f4",
   "metadata": {},
   "outputs": [],
   "source": []
  }
 ],
 "metadata": {
  "kernelspec": {
   "display_name": "Python 3",
   "language": "python",
   "name": "python3"
  },
  "language_info": {
   "codemirror_mode": {
    "name": "ipython",
    "version": 3
   },
   "file_extension": ".py",
   "mimetype": "text/x-python",
   "name": "python",
   "nbconvert_exporter": "python",
   "pygments_lexer": "ipython3",
   "version": "3.7.7"
  }
 },
 "nbformat": 4,
 "nbformat_minor": 5
}
