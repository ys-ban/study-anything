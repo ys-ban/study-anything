{
 "cells": [
  {
   "cell_type": "code",
   "execution_count": 1,
   "id": "2a8a6eed",
   "metadata": {
    "collapsed": true,
    "jupyter": {
     "outputs_hidden": true
    },
    "tags": []
   },
   "outputs": [
    {
     "name": "stdout",
     "output_type": "stream",
     "text": [
      "Collecting pystan\n",
      "  Downloading pystan-3.0.2-py3-none-any.whl (13 kB)\n",
      "Requirement already satisfied: numpy<2.0,>=1.7 in /opt/conda/lib/python3.7/site-packages (from pystan) (1.19.5)\n",
      "Collecting httpstan<4.5,>=4.4\n",
      "  Downloading httpstan-4.4.2-cp37-cp37m-manylinux2014_x86_64.manylinux_2_17_x86_64.whl (41.9 MB)\n",
      "\u001b[K     |████████████████████████████████| 41.9 MB 15.4 MB/s eta 0:00:01   |                                | 143 kB 557 kB/s eta 0:01:15     |████▎                           | 5.6 MB 3.3 MB/s eta 0:00:12\n",
      "\u001b[?25hCollecting aiohttp<4.0,>=3.6\n",
      "  Downloading aiohttp-3.7.4.post0-cp37-cp37m-manylinux2014_x86_64.whl (1.3 MB)\n",
      "\u001b[K     |████████████████████████████████| 1.3 MB 27.1 MB/s eta 0:00:01\n",
      "\u001b[?25hCollecting clikit<0.7,>=0.6\n",
      "  Downloading clikit-0.6.2-py2.py3-none-any.whl (91 kB)\n",
      "\u001b[K     |████████████████████████████████| 91 kB 13.8 MB/s eta 0:00:01\n",
      "\u001b[?25hCollecting pysimdjson<4.0,>=3.2\n",
      "  Downloading pysimdjson-3.2.0-cp37-cp37m-manylinux2014_x86_64.whl (2.4 MB)\n",
      "\u001b[K     |████████████████████████████████| 2.4 MB 28.6 MB/s eta 0:00:01\n",
      "\u001b[?25hCollecting appdirs<2.0,>=1.4\n",
      "  Downloading appdirs-1.4.4-py2.py3-none-any.whl (9.6 kB)\n",
      "Requirement already satisfied: setuptools>=41.0 in /opt/conda/lib/python3.7/site-packages (from httpstan<4.5,>=4.4->pystan) (46.4.0.post20200518)\n",
      "Collecting marshmallow<4.0,>=3.10\n",
      "  Downloading marshmallow-3.11.1-py2.py3-none-any.whl (46 kB)\n",
      "\u001b[K     |████████████████████████████████| 46 kB 7.3 MB/s  eta 0:00:01\n",
      "\u001b[?25hCollecting webargs<8.0,>=7.0\n",
      "  Downloading webargs-7.0.1-py2.py3-none-any.whl (30 kB)\n",
      "Collecting lz4<4.0,>=3.1\n",
      "  Downloading lz4-3.1.3-cp37-cp37m-manylinux2010_x86_64.whl (1.8 MB)\n",
      "\u001b[K     |████████████████████████████████| 1.8 MB 28.1 MB/s eta 0:00:01\n",
      "\u001b[?25hRequirement already satisfied: attrs>=17.3.0 in /opt/conda/lib/python3.7/site-packages (from aiohttp<4.0,>=3.6->pystan) (20.3.0)\n",
      "Requirement already satisfied: chardet<5.0,>=2.0 in /opt/conda/lib/python3.7/site-packages (from aiohttp<4.0,>=3.6->pystan) (3.0.4)\n",
      "Requirement already satisfied: typing-extensions>=3.6.5 in /opt/conda/lib/python3.7/site-packages (from aiohttp<4.0,>=3.6->pystan) (3.7.4.3)\n",
      "Collecting multidict<7.0,>=4.5\n",
      "  Downloading multidict-5.1.0-cp37-cp37m-manylinux2014_x86_64.whl (142 kB)\n",
      "\u001b[K     |████████████████████████████████| 142 kB 30.2 MB/s eta 0:00:01\n",
      "\u001b[?25hCollecting yarl<2.0,>=1.0\n",
      "  Downloading yarl-1.6.3-cp37-cp37m-manylinux2014_x86_64.whl (294 kB)\n",
      "\u001b[K     |████████████████████████████████| 294 kB 27.8 MB/s eta 0:00:01\n",
      "\u001b[?25hCollecting async-timeout<4.0,>=3.0\n",
      "  Downloading async_timeout-3.0.1-py3-none-any.whl (8.2 kB)\n",
      "Collecting pastel<0.3.0,>=0.2.0\n",
      "  Downloading pastel-0.2.1-py2.py3-none-any.whl (6.0 kB)\n",
      "Collecting crashtest<0.4.0,>=0.3.0; python_version >= \"3.6\" and python_version < \"4.0\"\n",
      "  Downloading crashtest-0.3.1-py3-none-any.whl (7.0 kB)\n",
      "Collecting pylev<2.0,>=1.3\n",
      "  Downloading pylev-1.3.0-py2.py3-none-any.whl (4.9 kB)\n",
      "Requirement already satisfied: idna>=2.0 in /opt/conda/lib/python3.7/site-packages (from yarl<2.0,>=1.0->aiohttp<4.0,>=3.6->pystan) (2.9)\n",
      "Installing collected packages: appdirs, marshmallow, webargs, lz4, multidict, yarl, async-timeout, aiohttp, httpstan, pastel, crashtest, pylev, clikit, pysimdjson, pystan\n",
      "Successfully installed aiohttp-3.7.4.post0 appdirs-1.4.4 async-timeout-3.0.1 clikit-0.6.2 crashtest-0.3.1 httpstan-4.4.2 lz4-3.1.3 marshmallow-3.11.1 multidict-5.1.0 pastel-0.2.1 pylev-1.3.0 pysimdjson-3.2.0 pystan-3.0.2 webargs-7.0.1 yarl-1.6.3\n"
     ]
    }
   ],
   "source": [
    "#!pip install pystan"
   ]
  },
  {
   "cell_type": "code",
   "execution_count": 8,
   "id": "2e90eace",
   "metadata": {
    "collapsed": true,
    "jupyter": {
     "outputs_hidden": true
    },
    "tags": []
   },
   "outputs": [
    {
     "name": "stdout",
     "output_type": "stream",
     "text": [
      "Requirement already up-to-date: pystan in /opt/conda/lib/python3.7/site-packages (3.0.2)\n",
      "Requirement already satisfied, skipping upgrade: httpstan<4.5,>=4.4 in /opt/conda/lib/python3.7/site-packages (from pystan) (4.4.2)\n",
      "Requirement already satisfied, skipping upgrade: clikit<0.7,>=0.6 in /opt/conda/lib/python3.7/site-packages (from pystan) (0.6.2)\n",
      "Requirement already satisfied, skipping upgrade: numpy<2.0,>=1.7 in /opt/conda/lib/python3.7/site-packages (from pystan) (1.19.5)\n",
      "Requirement already satisfied, skipping upgrade: pysimdjson<4.0,>=3.2 in /opt/conda/lib/python3.7/site-packages (from pystan) (3.2.0)\n",
      "Requirement already satisfied, skipping upgrade: aiohttp<4.0,>=3.6 in /opt/conda/lib/python3.7/site-packages (from pystan) (3.7.4.post0)\n",
      "Requirement already satisfied, skipping upgrade: marshmallow<4.0,>=3.10 in /opt/conda/lib/python3.7/site-packages (from httpstan<4.5,>=4.4->pystan) (3.11.1)\n",
      "Requirement already satisfied, skipping upgrade: setuptools>=41.0 in /opt/conda/lib/python3.7/site-packages (from httpstan<4.5,>=4.4->pystan) (46.4.0.post20200518)\n",
      "Requirement already satisfied, skipping upgrade: webargs<8.0,>=7.0 in /opt/conda/lib/python3.7/site-packages (from httpstan<4.5,>=4.4->pystan) (7.0.1)\n",
      "Requirement already satisfied, skipping upgrade: appdirs<2.0,>=1.4 in /opt/conda/lib/python3.7/site-packages (from httpstan<4.5,>=4.4->pystan) (1.4.4)\n",
      "Requirement already satisfied, skipping upgrade: lz4<4.0,>=3.1 in /opt/conda/lib/python3.7/site-packages (from httpstan<4.5,>=4.4->pystan) (3.1.3)\n",
      "Requirement already satisfied, skipping upgrade: crashtest<0.4.0,>=0.3.0; python_version >= \"3.6\" and python_version < \"4.0\" in /opt/conda/lib/python3.7/site-packages (from clikit<0.7,>=0.6->pystan) (0.3.1)\n",
      "Requirement already satisfied, skipping upgrade: pylev<2.0,>=1.3 in /opt/conda/lib/python3.7/site-packages (from clikit<0.7,>=0.6->pystan) (1.3.0)\n",
      "Requirement already satisfied, skipping upgrade: pastel<0.3.0,>=0.2.0 in /opt/conda/lib/python3.7/site-packages (from clikit<0.7,>=0.6->pystan) (0.2.1)\n",
      "Requirement already satisfied, skipping upgrade: chardet<5.0,>=2.0 in /opt/conda/lib/python3.7/site-packages (from aiohttp<4.0,>=3.6->pystan) (3.0.4)\n",
      "Requirement already satisfied, skipping upgrade: async-timeout<4.0,>=3.0 in /opt/conda/lib/python3.7/site-packages (from aiohttp<4.0,>=3.6->pystan) (3.0.1)\n",
      "Requirement already satisfied, skipping upgrade: yarl<2.0,>=1.0 in /opt/conda/lib/python3.7/site-packages (from aiohttp<4.0,>=3.6->pystan) (1.6.3)\n",
      "Requirement already satisfied, skipping upgrade: attrs>=17.3.0 in /opt/conda/lib/python3.7/site-packages (from aiohttp<4.0,>=3.6->pystan) (20.3.0)\n",
      "Requirement already satisfied, skipping upgrade: multidict<7.0,>=4.5 in /opt/conda/lib/python3.7/site-packages (from aiohttp<4.0,>=3.6->pystan) (5.1.0)\n",
      "Requirement already satisfied, skipping upgrade: typing-extensions>=3.6.5 in /opt/conda/lib/python3.7/site-packages (from aiohttp<4.0,>=3.6->pystan) (3.7.4.3)\n",
      "Requirement already satisfied, skipping upgrade: idna>=2.0 in /opt/conda/lib/python3.7/site-packages (from yarl<2.0,>=1.0->aiohttp<4.0,>=3.6->pystan) (2.9)\n"
     ]
    }
   ],
   "source": [
    "#!pip install --upgrade pystan"
   ]
  },
  {
   "cell_type": "code",
   "execution_count": null,
   "id": "c17939a7",
   "metadata": {},
   "outputs": [],
   "source": [
    "#!pip install fbpropht"
   ]
  },
  {
   "cell_type": "markdown",
   "id": "a7ba01f5",
   "metadata": {},
   "source": [
    "# Data Preprocessing"
   ]
  },
  {
   "cell_type": "code",
   "execution_count": 87,
   "id": "9ff4dda4",
   "metadata": {},
   "outputs": [],
   "source": [
    "import numpy as np\n",
    "import pandas as pd\n",
    "import datetime\n",
    "import dateutil.relativedelta\n",
    "\n",
    "import seaborn as sns"
   ]
  },
  {
   "cell_type": "code",
   "execution_count": 19,
   "id": "8a5cb2fe",
   "metadata": {},
   "outputs": [],
   "source": [
    "train_csv = pd.read_csv(\"/opt/ml/code/input/train.csv\", parse_dates=['order_date'])"
   ]
  },
  {
   "cell_type": "code",
   "execution_count": 21,
   "id": "3c34606e",
   "metadata": {},
   "outputs": [
    {
     "data": {
      "text/html": [
       "<div>\n",
       "<style scoped>\n",
       "    .dataframe tbody tr th:only-of-type {\n",
       "        vertical-align: middle;\n",
       "    }\n",
       "\n",
       "    .dataframe tbody tr th {\n",
       "        vertical-align: top;\n",
       "    }\n",
       "\n",
       "    .dataframe thead th {\n",
       "        text-align: right;\n",
       "    }\n",
       "</style>\n",
       "<table border=\"1\" class=\"dataframe\">\n",
       "  <thead>\n",
       "    <tr style=\"text-align: right;\">\n",
       "      <th></th>\n",
       "      <th>order_id</th>\n",
       "      <th>product_id</th>\n",
       "      <th>description</th>\n",
       "      <th>quantity</th>\n",
       "      <th>order_date</th>\n",
       "      <th>price</th>\n",
       "      <th>customer_id</th>\n",
       "      <th>country</th>\n",
       "      <th>total</th>\n",
       "    </tr>\n",
       "  </thead>\n",
       "  <tbody>\n",
       "    <tr>\n",
       "      <th>0</th>\n",
       "      <td>489434</td>\n",
       "      <td>85048</td>\n",
       "      <td>15CM CHRISTMAS GLASS BALL 20 LIGHTS</td>\n",
       "      <td>12</td>\n",
       "      <td>2009-12-01 07:45:00</td>\n",
       "      <td>11.4675</td>\n",
       "      <td>13085</td>\n",
       "      <td>United Kingdom</td>\n",
       "      <td>137.61</td>\n",
       "    </tr>\n",
       "    <tr>\n",
       "      <th>1</th>\n",
       "      <td>489434</td>\n",
       "      <td>79323P</td>\n",
       "      <td>PINK CHERRY LIGHTS</td>\n",
       "      <td>12</td>\n",
       "      <td>2009-12-01 07:45:00</td>\n",
       "      <td>11.1375</td>\n",
       "      <td>13085</td>\n",
       "      <td>United Kingdom</td>\n",
       "      <td>133.65</td>\n",
       "    </tr>\n",
       "    <tr>\n",
       "      <th>2</th>\n",
       "      <td>489434</td>\n",
       "      <td>79323W</td>\n",
       "      <td>WHITE CHERRY LIGHTS</td>\n",
       "      <td>12</td>\n",
       "      <td>2009-12-01 07:45:00</td>\n",
       "      <td>11.1375</td>\n",
       "      <td>13085</td>\n",
       "      <td>United Kingdom</td>\n",
       "      <td>133.65</td>\n",
       "    </tr>\n",
       "    <tr>\n",
       "      <th>3</th>\n",
       "      <td>489434</td>\n",
       "      <td>22041</td>\n",
       "      <td>RECORD FRAME 7\" SINGLE SIZE</td>\n",
       "      <td>48</td>\n",
       "      <td>2009-12-01 07:45:00</td>\n",
       "      <td>3.4650</td>\n",
       "      <td>13085</td>\n",
       "      <td>United Kingdom</td>\n",
       "      <td>166.32</td>\n",
       "    </tr>\n",
       "    <tr>\n",
       "      <th>4</th>\n",
       "      <td>489434</td>\n",
       "      <td>21232</td>\n",
       "      <td>STRAWBERRY CERAMIC TRINKET BOX</td>\n",
       "      <td>24</td>\n",
       "      <td>2009-12-01 07:45:00</td>\n",
       "      <td>2.0625</td>\n",
       "      <td>13085</td>\n",
       "      <td>United Kingdom</td>\n",
       "      <td>49.50</td>\n",
       "    </tr>\n",
       "  </tbody>\n",
       "</table>\n",
       "</div>"
      ],
      "text/plain": [
       "  order_id product_id                          description  quantity  \\\n",
       "0   489434      85048  15CM CHRISTMAS GLASS BALL 20 LIGHTS        12   \n",
       "1   489434     79323P                   PINK CHERRY LIGHTS        12   \n",
       "2   489434     79323W                  WHITE CHERRY LIGHTS        12   \n",
       "3   489434      22041         RECORD FRAME 7\" SINGLE SIZE         48   \n",
       "4   489434      21232       STRAWBERRY CERAMIC TRINKET BOX        24   \n",
       "\n",
       "           order_date    price  customer_id         country   total  \n",
       "0 2009-12-01 07:45:00  11.4675        13085  United Kingdom  137.61  \n",
       "1 2009-12-01 07:45:00  11.1375        13085  United Kingdom  133.65  \n",
       "2 2009-12-01 07:45:00  11.1375        13085  United Kingdom  133.65  \n",
       "3 2009-12-01 07:45:00   3.4650        13085  United Kingdom  166.32  \n",
       "4 2009-12-01 07:45:00   2.0625        13085  United Kingdom   49.50  "
      ]
     },
     "execution_count": 21,
     "metadata": {},
     "output_type": "execute_result"
    }
   ],
   "source": [
    "train_csv.head()"
   ]
  },
  {
   "cell_type": "code",
   "execution_count": 22,
   "id": "746008dc",
   "metadata": {},
   "outputs": [
    {
     "name": "stdout",
     "output_type": "stream",
     "text": [
      "<class 'pandas.core.frame.DataFrame'>\n",
      "RangeIndex: 780502 entries, 0 to 780501\n",
      "Data columns (total 9 columns):\n",
      " #   Column       Non-Null Count   Dtype         \n",
      "---  ------       --------------   -----         \n",
      " 0   order_id     780502 non-null  object        \n",
      " 1   product_id   780502 non-null  object        \n",
      " 2   description  780502 non-null  object        \n",
      " 3   quantity     780502 non-null  int64         \n",
      " 4   order_date   780502 non-null  datetime64[ns]\n",
      " 5   price        780502 non-null  float64       \n",
      " 6   customer_id  780502 non-null  int64         \n",
      " 7   country      780502 non-null  object        \n",
      " 8   total        780502 non-null  float64       \n",
      "dtypes: datetime64[ns](1), float64(2), int64(2), object(4)\n",
      "memory usage: 53.6+ MB\n"
     ]
    }
   ],
   "source": [
    "train_csv.info()"
   ]
  },
  {
   "cell_type": "code",
   "execution_count": 28,
   "id": "2a774ad8",
   "metadata": {},
   "outputs": [
    {
     "data": {
      "text/plain": [
       "customer_id\n",
       "12346   2011-01-18 10:17:00\n",
       "12347   2011-10-31 12:25:00\n",
       "12348   2011-09-25 13:13:00\n",
       "12349   2011-11-21 09:51:00\n",
       "12350   2011-02-02 16:01:00\n",
       "                ...        \n",
       "18283   2011-11-30 12:59:00\n",
       "18284   2010-10-06 12:31:00\n",
       "18285   2010-02-17 10:24:00\n",
       "18286   2010-08-20 11:57:00\n",
       "18287   2011-10-28 09:29:00\n",
       "Name: order_date, Length: 5914, dtype: datetime64[ns]"
      ]
     },
     "execution_count": 28,
     "metadata": {},
     "output_type": "execute_result"
    }
   ],
   "source": [
    "train_csv.groupby([\"customer_id\"])['order_date'].agg('last')"
   ]
  },
  {
   "cell_type": "code",
   "execution_count": 64,
   "id": "691bf3f4",
   "metadata": {},
   "outputs": [],
   "source": [
    "test_ts = train_csv.groupby([\"customer_id\"], as_index=False)[['order_date']].agg('last')"
   ]
  },
  {
   "cell_type": "code",
   "execution_count": 65,
   "id": "badf098a",
   "metadata": {},
   "outputs": [
    {
     "data": {
      "text/html": [
       "<div>\n",
       "<style scoped>\n",
       "    .dataframe tbody tr th:only-of-type {\n",
       "        vertical-align: middle;\n",
       "    }\n",
       "\n",
       "    .dataframe tbody tr th {\n",
       "        vertical-align: top;\n",
       "    }\n",
       "\n",
       "    .dataframe thead th {\n",
       "        text-align: right;\n",
       "    }\n",
       "</style>\n",
       "<table border=\"1\" class=\"dataframe\">\n",
       "  <thead>\n",
       "    <tr style=\"text-align: right;\">\n",
       "      <th></th>\n",
       "      <th>customer_id</th>\n",
       "      <th>order_date</th>\n",
       "    </tr>\n",
       "  </thead>\n",
       "  <tbody>\n",
       "    <tr>\n",
       "      <th>0</th>\n",
       "      <td>12346</td>\n",
       "      <td>2011-01-18 10:17:00</td>\n",
       "    </tr>\n",
       "    <tr>\n",
       "      <th>1</th>\n",
       "      <td>12347</td>\n",
       "      <td>2011-10-31 12:25:00</td>\n",
       "    </tr>\n",
       "    <tr>\n",
       "      <th>2</th>\n",
       "      <td>12348</td>\n",
       "      <td>2011-09-25 13:13:00</td>\n",
       "    </tr>\n",
       "    <tr>\n",
       "      <th>3</th>\n",
       "      <td>12349</td>\n",
       "      <td>2011-11-21 09:51:00</td>\n",
       "    </tr>\n",
       "    <tr>\n",
       "      <th>4</th>\n",
       "      <td>12350</td>\n",
       "      <td>2011-02-02 16:01:00</td>\n",
       "    </tr>\n",
       "  </tbody>\n",
       "</table>\n",
       "</div>"
      ],
      "text/plain": [
       "   customer_id          order_date\n",
       "0        12346 2011-01-18 10:17:00\n",
       "1        12347 2011-10-31 12:25:00\n",
       "2        12348 2011-09-25 13:13:00\n",
       "3        12349 2011-11-21 09:51:00\n",
       "4        12350 2011-02-02 16:01:00"
      ]
     },
     "execution_count": 65,
     "metadata": {},
     "output_type": "execute_result"
    }
   ],
   "source": [
    "test_ts.head()"
   ]
  },
  {
   "cell_type": "code",
   "execution_count": 58,
   "id": "b5e4a9cc",
   "metadata": {},
   "outputs": [],
   "source": [
    "test_ts1 = test_ts[12346] - datetime.datetime(year=2009, month=11, day=1)"
   ]
  },
  {
   "cell_type": "code",
   "execution_count": 70,
   "id": "088bf528",
   "metadata": {},
   "outputs": [],
   "source": [
    "test_ts['days_after_last'] = test_ts['order_date'] - datetime.datetime(year=2009, month=11, day=1)"
   ]
  },
  {
   "cell_type": "code",
   "execution_count": 71,
   "id": "c00d3ae8",
   "metadata": {},
   "outputs": [
    {
     "data": {
      "text/html": [
       "<div>\n",
       "<style scoped>\n",
       "    .dataframe tbody tr th:only-of-type {\n",
       "        vertical-align: middle;\n",
       "    }\n",
       "\n",
       "    .dataframe tbody tr th {\n",
       "        vertical-align: top;\n",
       "    }\n",
       "\n",
       "    .dataframe thead th {\n",
       "        text-align: right;\n",
       "    }\n",
       "</style>\n",
       "<table border=\"1\" class=\"dataframe\">\n",
       "  <thead>\n",
       "    <tr style=\"text-align: right;\">\n",
       "      <th></th>\n",
       "      <th>customer_id</th>\n",
       "      <th>order_date</th>\n",
       "      <th>days_after_last</th>\n",
       "    </tr>\n",
       "  </thead>\n",
       "  <tbody>\n",
       "    <tr>\n",
       "      <th>0</th>\n",
       "      <td>12346</td>\n",
       "      <td>2011-01-18 10:17:00</td>\n",
       "      <td>443 days 10:17:00</td>\n",
       "    </tr>\n",
       "    <tr>\n",
       "      <th>1</th>\n",
       "      <td>12347</td>\n",
       "      <td>2011-10-31 12:25:00</td>\n",
       "      <td>729 days 12:25:00</td>\n",
       "    </tr>\n",
       "    <tr>\n",
       "      <th>2</th>\n",
       "      <td>12348</td>\n",
       "      <td>2011-09-25 13:13:00</td>\n",
       "      <td>693 days 13:13:00</td>\n",
       "    </tr>\n",
       "    <tr>\n",
       "      <th>3</th>\n",
       "      <td>12349</td>\n",
       "      <td>2011-11-21 09:51:00</td>\n",
       "      <td>750 days 09:51:00</td>\n",
       "    </tr>\n",
       "    <tr>\n",
       "      <th>4</th>\n",
       "      <td>12350</td>\n",
       "      <td>2011-02-02 16:01:00</td>\n",
       "      <td>458 days 16:01:00</td>\n",
       "    </tr>\n",
       "  </tbody>\n",
       "</table>\n",
       "</div>"
      ],
      "text/plain": [
       "   customer_id          order_date   days_after_last\n",
       "0        12346 2011-01-18 10:17:00 443 days 10:17:00\n",
       "1        12347 2011-10-31 12:25:00 729 days 12:25:00\n",
       "2        12348 2011-09-25 13:13:00 693 days 13:13:00\n",
       "3        12349 2011-11-21 09:51:00 750 days 09:51:00\n",
       "4        12350 2011-02-02 16:01:00 458 days 16:01:00"
      ]
     },
     "execution_count": 71,
     "metadata": {},
     "output_type": "execute_result"
    }
   ],
   "source": [
    "test_ts.head()"
   ]
  },
  {
   "cell_type": "code",
   "execution_count": 79,
   "id": "ed66e5d3",
   "metadata": {},
   "outputs": [
    {
     "data": {
      "text/plain": [
       "Timedelta('443 days 10:17:00')"
      ]
     },
     "execution_count": 79,
     "metadata": {},
     "output_type": "execute_result"
    }
   ],
   "source": [
    "test_ts.xs(0)[2]"
   ]
  },
  {
   "cell_type": "code",
   "execution_count": 78,
   "id": "c368ddcf",
   "metadata": {},
   "outputs": [
    {
     "data": {
      "text/plain": [
       "5914"
      ]
     },
     "execution_count": 78,
     "metadata": {},
     "output_type": "execute_result"
    }
   ],
   "source": [
    "len(test_ts)"
   ]
  },
  {
   "cell_type": "code",
   "execution_count": 82,
   "id": "83c92e95",
   "metadata": {},
   "outputs": [],
   "source": [
    "days_after_last = [elem.days for elem in test_ts['days_after_last'].copy()]"
   ]
  },
  {
   "cell_type": "code",
   "execution_count": 84,
   "id": "8d85763c",
   "metadata": {},
   "outputs": [],
   "source": [
    "test_ts['days_after_last'] = days_after_last"
   ]
  },
  {
   "cell_type": "code",
   "execution_count": 85,
   "id": "f414d459",
   "metadata": {},
   "outputs": [
    {
     "data": {
      "text/html": [
       "<div>\n",
       "<style scoped>\n",
       "    .dataframe tbody tr th:only-of-type {\n",
       "        vertical-align: middle;\n",
       "    }\n",
       "\n",
       "    .dataframe tbody tr th {\n",
       "        vertical-align: top;\n",
       "    }\n",
       "\n",
       "    .dataframe thead th {\n",
       "        text-align: right;\n",
       "    }\n",
       "</style>\n",
       "<table border=\"1\" class=\"dataframe\">\n",
       "  <thead>\n",
       "    <tr style=\"text-align: right;\">\n",
       "      <th></th>\n",
       "      <th>customer_id</th>\n",
       "      <th>order_date</th>\n",
       "      <th>days_after_last</th>\n",
       "    </tr>\n",
       "  </thead>\n",
       "  <tbody>\n",
       "    <tr>\n",
       "      <th>0</th>\n",
       "      <td>12346</td>\n",
       "      <td>2011-01-18 10:17:00</td>\n",
       "      <td>443</td>\n",
       "    </tr>\n",
       "    <tr>\n",
       "      <th>1</th>\n",
       "      <td>12347</td>\n",
       "      <td>2011-10-31 12:25:00</td>\n",
       "      <td>729</td>\n",
       "    </tr>\n",
       "    <tr>\n",
       "      <th>2</th>\n",
       "      <td>12348</td>\n",
       "      <td>2011-09-25 13:13:00</td>\n",
       "      <td>693</td>\n",
       "    </tr>\n",
       "    <tr>\n",
       "      <th>3</th>\n",
       "      <td>12349</td>\n",
       "      <td>2011-11-21 09:51:00</td>\n",
       "      <td>750</td>\n",
       "    </tr>\n",
       "    <tr>\n",
       "      <th>4</th>\n",
       "      <td>12350</td>\n",
       "      <td>2011-02-02 16:01:00</td>\n",
       "      <td>458</td>\n",
       "    </tr>\n",
       "  </tbody>\n",
       "</table>\n",
       "</div>"
      ],
      "text/plain": [
       "   customer_id          order_date  days_after_last\n",
       "0        12346 2011-01-18 10:17:00              443\n",
       "1        12347 2011-10-31 12:25:00              729\n",
       "2        12348 2011-09-25 13:13:00              693\n",
       "3        12349 2011-11-21 09:51:00              750\n",
       "4        12350 2011-02-02 16:01:00              458"
      ]
     },
     "execution_count": 85,
     "metadata": {},
     "output_type": "execute_result"
    }
   ],
   "source": [
    "test_ts.head()"
   ]
  },
  {
   "cell_type": "code",
   "execution_count": 86,
   "id": "72ccfeae",
   "metadata": {},
   "outputs": [
    {
     "name": "stdout",
     "output_type": "stream",
     "text": [
      "<class 'pandas.core.frame.DataFrame'>\n",
      "Int64Index: 5914 entries, 0 to 5913\n",
      "Data columns (total 3 columns):\n",
      " #   Column           Non-Null Count  Dtype         \n",
      "---  ------           --------------  -----         \n",
      " 0   customer_id      5914 non-null   int64         \n",
      " 1   order_date       5914 non-null   datetime64[ns]\n",
      " 2   days_after_last  5914 non-null   int64         \n",
      "dtypes: datetime64[ns](1), int64(2)\n",
      "memory usage: 313.9 KB\n"
     ]
    }
   ],
   "source": [
    "test_ts.info()"
   ]
  },
  {
   "cell_type": "code",
   "execution_count": 89,
   "id": "eaf89db9",
   "metadata": {},
   "outputs": [
    {
     "name": "stdout",
     "output_type": "stream",
     "text": [
      "<class 'pandas.core.frame.DataFrame'>\n",
      "RangeIndex: 780502 entries, 0 to 780501\n",
      "Data columns (total 9 columns):\n",
      " #   Column       Non-Null Count   Dtype         \n",
      "---  ------       --------------   -----         \n",
      " 0   order_id     780502 non-null  object        \n",
      " 1   product_id   780502 non-null  object        \n",
      " 2   description  780502 non-null  object        \n",
      " 3   quantity     780502 non-null  int64         \n",
      " 4   order_date   780502 non-null  datetime64[ns]\n",
      " 5   price        780502 non-null  float64       \n",
      " 6   customer_id  780502 non-null  int64         \n",
      " 7   country      780502 non-null  object        \n",
      " 8   total        780502 non-null  float64       \n",
      "dtypes: datetime64[ns](1), float64(2), int64(2), object(4)\n",
      "memory usage: 53.6+ MB\n"
     ]
    }
   ],
   "source": [
    "train_csv.info()"
   ]
  },
  {
   "cell_type": "code",
   "execution_count": 90,
   "id": "9fcbb420",
   "metadata": {},
   "outputs": [],
   "source": [
    "train_csv['year_month'] = train_csv['order_date'].dt.strftime('%Y-%m')"
   ]
  },
  {
   "cell_type": "code",
   "execution_count": 103,
   "id": "e6b1b1fc",
   "metadata": {},
   "outputs": [],
   "source": [
    "last_month_label = train_csv[train_csv['year_month']=='2011-11'].groupby(['customer_id'], as_index=False)['total'].sum()"
   ]
  },
  {
   "cell_type": "code",
   "execution_count": 104,
   "id": "035c413d",
   "metadata": {},
   "outputs": [
    {
     "data": {
      "text/html": [
       "<div>\n",
       "<style scoped>\n",
       "    .dataframe tbody tr th:only-of-type {\n",
       "        vertical-align: middle;\n",
       "    }\n",
       "\n",
       "    .dataframe tbody tr th {\n",
       "        vertical-align: top;\n",
       "    }\n",
       "\n",
       "    .dataframe thead th {\n",
       "        text-align: right;\n",
       "    }\n",
       "</style>\n",
       "<table border=\"1\" class=\"dataframe\">\n",
       "  <thead>\n",
       "    <tr style=\"text-align: right;\">\n",
       "      <th></th>\n",
       "      <th>customer_id</th>\n",
       "      <th>total</th>\n",
       "    </tr>\n",
       "  </thead>\n",
       "  <tbody>\n",
       "    <tr>\n",
       "      <th>0</th>\n",
       "      <td>12349</td>\n",
       "      <td>2899.9575</td>\n",
       "    </tr>\n",
       "    <tr>\n",
       "      <th>1</th>\n",
       "      <td>12352</td>\n",
       "      <td>514.3545</td>\n",
       "    </tr>\n",
       "    <tr>\n",
       "      <th>2</th>\n",
       "      <td>12356</td>\n",
       "      <td>96.2775</td>\n",
       "    </tr>\n",
       "    <tr>\n",
       "      <th>3</th>\n",
       "      <td>12357</td>\n",
       "      <td>10242.6555</td>\n",
       "    </tr>\n",
       "    <tr>\n",
       "      <th>4</th>\n",
       "      <td>12362</td>\n",
       "      <td>707.9985</td>\n",
       "    </tr>\n",
       "  </tbody>\n",
       "</table>\n",
       "</div>"
      ],
      "text/plain": [
       "   customer_id       total\n",
       "0        12349   2899.9575\n",
       "1        12352    514.3545\n",
       "2        12356     96.2775\n",
       "3        12357  10242.6555\n",
       "4        12362    707.9985"
      ]
     },
     "execution_count": 104,
     "metadata": {},
     "output_type": "execute_result"
    }
   ],
   "source": [
    "last_month_label.head()"
   ]
  },
  {
   "cell_type": "code",
   "execution_count": 105,
   "id": "df9777fe",
   "metadata": {},
   "outputs": [],
   "source": [
    "last_month_label['label'] = (last_month_label['total']>300).astype(int)"
   ]
  },
  {
   "cell_type": "code",
   "execution_count": 106,
   "id": "882ca205",
   "metadata": {},
   "outputs": [
    {
     "data": {
      "text/html": [
       "<div>\n",
       "<style scoped>\n",
       "    .dataframe tbody tr th:only-of-type {\n",
       "        vertical-align: middle;\n",
       "    }\n",
       "\n",
       "    .dataframe tbody tr th {\n",
       "        vertical-align: top;\n",
       "    }\n",
       "\n",
       "    .dataframe thead th {\n",
       "        text-align: right;\n",
       "    }\n",
       "</style>\n",
       "<table border=\"1\" class=\"dataframe\">\n",
       "  <thead>\n",
       "    <tr style=\"text-align: right;\">\n",
       "      <th></th>\n",
       "      <th>customer_id</th>\n",
       "      <th>total</th>\n",
       "      <th>label</th>\n",
       "    </tr>\n",
       "  </thead>\n",
       "  <tbody>\n",
       "    <tr>\n",
       "      <th>0</th>\n",
       "      <td>12349</td>\n",
       "      <td>2.899958e+03</td>\n",
       "      <td>1</td>\n",
       "    </tr>\n",
       "    <tr>\n",
       "      <th>1</th>\n",
       "      <td>12352</td>\n",
       "      <td>5.143545e+02</td>\n",
       "      <td>1</td>\n",
       "    </tr>\n",
       "    <tr>\n",
       "      <th>2</th>\n",
       "      <td>12356</td>\n",
       "      <td>9.627750e+01</td>\n",
       "      <td>0</td>\n",
       "    </tr>\n",
       "    <tr>\n",
       "      <th>3</th>\n",
       "      <td>12357</td>\n",
       "      <td>1.024266e+04</td>\n",
       "      <td>1</td>\n",
       "    </tr>\n",
       "    <tr>\n",
       "      <th>4</th>\n",
       "      <td>12362</td>\n",
       "      <td>7.079985e+02</td>\n",
       "      <td>1</td>\n",
       "    </tr>\n",
       "    <tr>\n",
       "      <th>...</th>\n",
       "      <td>...</td>\n",
       "      <td>...</td>\n",
       "      <td>...</td>\n",
       "    </tr>\n",
       "    <tr>\n",
       "      <th>1706</th>\n",
       "      <td>18263</td>\n",
       "      <td>6.594720e+02</td>\n",
       "      <td>1</td>\n",
       "    </tr>\n",
       "    <tr>\n",
       "      <th>1707</th>\n",
       "      <td>18270</td>\n",
       "      <td>2.824800e+02</td>\n",
       "      <td>0</td>\n",
       "    </tr>\n",
       "    <tr>\n",
       "      <th>1708</th>\n",
       "      <td>18274</td>\n",
       "      <td>7.105427e-15</td>\n",
       "      <td>0</td>\n",
       "    </tr>\n",
       "    <tr>\n",
       "      <th>1709</th>\n",
       "      <td>18276</td>\n",
       "      <td>-2.062500e+01</td>\n",
       "      <td>0</td>\n",
       "    </tr>\n",
       "    <tr>\n",
       "      <th>1710</th>\n",
       "      <td>18283</td>\n",
       "      <td>1.052222e+03</td>\n",
       "      <td>1</td>\n",
       "    </tr>\n",
       "  </tbody>\n",
       "</table>\n",
       "<p>1711 rows × 3 columns</p>\n",
       "</div>"
      ],
      "text/plain": [
       "      customer_id         total  label\n",
       "0           12349  2.899958e+03      1\n",
       "1           12352  5.143545e+02      1\n",
       "2           12356  9.627750e+01      0\n",
       "3           12357  1.024266e+04      1\n",
       "4           12362  7.079985e+02      1\n",
       "...           ...           ...    ...\n",
       "1706        18263  6.594720e+02      1\n",
       "1707        18270  2.824800e+02      0\n",
       "1708        18274  7.105427e-15      0\n",
       "1709        18276 -2.062500e+01      0\n",
       "1710        18283  1.052222e+03      1\n",
       "\n",
       "[1711 rows x 3 columns]"
      ]
     },
     "execution_count": 106,
     "metadata": {},
     "output_type": "execute_result"
    }
   ],
   "source": [
    "last_month_label"
   ]
  },
  {
   "cell_type": "code",
   "execution_count": 107,
   "id": "63d53feb",
   "metadata": {},
   "outputs": [],
   "source": [
    "test_ts = test_ts.merge(last_month_label, on=['customer_id'], how='left')"
   ]
  },
  {
   "cell_type": "code",
   "execution_count": 109,
   "id": "1da98fe1",
   "metadata": {},
   "outputs": [
    {
     "data": {
      "text/html": [
       "<div>\n",
       "<style scoped>\n",
       "    .dataframe tbody tr th:only-of-type {\n",
       "        vertical-align: middle;\n",
       "    }\n",
       "\n",
       "    .dataframe tbody tr th {\n",
       "        vertical-align: top;\n",
       "    }\n",
       "\n",
       "    .dataframe thead th {\n",
       "        text-align: right;\n",
       "    }\n",
       "</style>\n",
       "<table border=\"1\" class=\"dataframe\">\n",
       "  <thead>\n",
       "    <tr style=\"text-align: right;\">\n",
       "      <th></th>\n",
       "      <th>customer_id</th>\n",
       "      <th>order_date</th>\n",
       "      <th>days_after_last</th>\n",
       "      <th>total</th>\n",
       "      <th>label</th>\n",
       "    </tr>\n",
       "  </thead>\n",
       "  <tbody>\n",
       "    <tr>\n",
       "      <th>0</th>\n",
       "      <td>12346</td>\n",
       "      <td>2011-01-18 10:17:00</td>\n",
       "      <td>443</td>\n",
       "      <td>NaN</td>\n",
       "      <td>NaN</td>\n",
       "    </tr>\n",
       "    <tr>\n",
       "      <th>1</th>\n",
       "      <td>12347</td>\n",
       "      <td>2011-10-31 12:25:00</td>\n",
       "      <td>729</td>\n",
       "      <td>NaN</td>\n",
       "      <td>NaN</td>\n",
       "    </tr>\n",
       "    <tr>\n",
       "      <th>2</th>\n",
       "      <td>12348</td>\n",
       "      <td>2011-09-25 13:13:00</td>\n",
       "      <td>693</td>\n",
       "      <td>NaN</td>\n",
       "      <td>NaN</td>\n",
       "    </tr>\n",
       "    <tr>\n",
       "      <th>3</th>\n",
       "      <td>12349</td>\n",
       "      <td>2011-11-21 09:51:00</td>\n",
       "      <td>750</td>\n",
       "      <td>2899.9575</td>\n",
       "      <td>1.0</td>\n",
       "    </tr>\n",
       "    <tr>\n",
       "      <th>4</th>\n",
       "      <td>12350</td>\n",
       "      <td>2011-02-02 16:01:00</td>\n",
       "      <td>458</td>\n",
       "      <td>NaN</td>\n",
       "      <td>NaN</td>\n",
       "    </tr>\n",
       "    <tr>\n",
       "      <th>...</th>\n",
       "      <td>...</td>\n",
       "      <td>...</td>\n",
       "      <td>...</td>\n",
       "      <td>...</td>\n",
       "      <td>...</td>\n",
       "    </tr>\n",
       "    <tr>\n",
       "      <th>5909</th>\n",
       "      <td>18283</td>\n",
       "      <td>2011-11-30 12:59:00</td>\n",
       "      <td>759</td>\n",
       "      <td>1052.2215</td>\n",
       "      <td>1.0</td>\n",
       "    </tr>\n",
       "    <tr>\n",
       "      <th>5910</th>\n",
       "      <td>18284</td>\n",
       "      <td>2010-10-06 12:31:00</td>\n",
       "      <td>339</td>\n",
       "      <td>NaN</td>\n",
       "      <td>NaN</td>\n",
       "    </tr>\n",
       "    <tr>\n",
       "      <th>5911</th>\n",
       "      <td>18285</td>\n",
       "      <td>2010-02-17 10:24:00</td>\n",
       "      <td>108</td>\n",
       "      <td>NaN</td>\n",
       "      <td>NaN</td>\n",
       "    </tr>\n",
       "    <tr>\n",
       "      <th>5912</th>\n",
       "      <td>18286</td>\n",
       "      <td>2010-08-20 11:57:00</td>\n",
       "      <td>292</td>\n",
       "      <td>NaN</td>\n",
       "      <td>NaN</td>\n",
       "    </tr>\n",
       "    <tr>\n",
       "      <th>5913</th>\n",
       "      <td>18287</td>\n",
       "      <td>2011-10-28 09:29:00</td>\n",
       "      <td>726</td>\n",
       "      <td>NaN</td>\n",
       "      <td>NaN</td>\n",
       "    </tr>\n",
       "  </tbody>\n",
       "</table>\n",
       "<p>5914 rows × 5 columns</p>\n",
       "</div>"
      ],
      "text/plain": [
       "      customer_id          order_date  days_after_last      total  label\n",
       "0           12346 2011-01-18 10:17:00              443        NaN    NaN\n",
       "1           12347 2011-10-31 12:25:00              729        NaN    NaN\n",
       "2           12348 2011-09-25 13:13:00              693        NaN    NaN\n",
       "3           12349 2011-11-21 09:51:00              750  2899.9575    1.0\n",
       "4           12350 2011-02-02 16:01:00              458        NaN    NaN\n",
       "...           ...                 ...              ...        ...    ...\n",
       "5909        18283 2011-11-30 12:59:00              759  1052.2215    1.0\n",
       "5910        18284 2010-10-06 12:31:00              339        NaN    NaN\n",
       "5911        18285 2010-02-17 10:24:00              108        NaN    NaN\n",
       "5912        18286 2010-08-20 11:57:00              292        NaN    NaN\n",
       "5913        18287 2011-10-28 09:29:00              726        NaN    NaN\n",
       "\n",
       "[5914 rows x 5 columns]"
      ]
     },
     "execution_count": 109,
     "metadata": {},
     "output_type": "execute_result"
    }
   ],
   "source": [
    "test_ts"
   ]
  },
  {
   "cell_type": "code",
   "execution_count": 110,
   "id": "f72df696",
   "metadata": {},
   "outputs": [],
   "source": [
    "test_ts.fillna(0, inplace=True)"
   ]
  },
  {
   "cell_type": "code",
   "execution_count": 111,
   "id": "33dfe210",
   "metadata": {},
   "outputs": [
    {
     "data": {
      "text/html": [
       "<div>\n",
       "<style scoped>\n",
       "    .dataframe tbody tr th:only-of-type {\n",
       "        vertical-align: middle;\n",
       "    }\n",
       "\n",
       "    .dataframe tbody tr th {\n",
       "        vertical-align: top;\n",
       "    }\n",
       "\n",
       "    .dataframe thead th {\n",
       "        text-align: right;\n",
       "    }\n",
       "</style>\n",
       "<table border=\"1\" class=\"dataframe\">\n",
       "  <thead>\n",
       "    <tr style=\"text-align: right;\">\n",
       "      <th></th>\n",
       "      <th>customer_id</th>\n",
       "      <th>order_date</th>\n",
       "      <th>days_after_last</th>\n",
       "      <th>total</th>\n",
       "      <th>label</th>\n",
       "    </tr>\n",
       "  </thead>\n",
       "  <tbody>\n",
       "    <tr>\n",
       "      <th>0</th>\n",
       "      <td>12346</td>\n",
       "      <td>2011-01-18 10:17:00</td>\n",
       "      <td>443</td>\n",
       "      <td>0.0000</td>\n",
       "      <td>0.0</td>\n",
       "    </tr>\n",
       "    <tr>\n",
       "      <th>1</th>\n",
       "      <td>12347</td>\n",
       "      <td>2011-10-31 12:25:00</td>\n",
       "      <td>729</td>\n",
       "      <td>0.0000</td>\n",
       "      <td>0.0</td>\n",
       "    </tr>\n",
       "    <tr>\n",
       "      <th>2</th>\n",
       "      <td>12348</td>\n",
       "      <td>2011-09-25 13:13:00</td>\n",
       "      <td>693</td>\n",
       "      <td>0.0000</td>\n",
       "      <td>0.0</td>\n",
       "    </tr>\n",
       "    <tr>\n",
       "      <th>3</th>\n",
       "      <td>12349</td>\n",
       "      <td>2011-11-21 09:51:00</td>\n",
       "      <td>750</td>\n",
       "      <td>2899.9575</td>\n",
       "      <td>1.0</td>\n",
       "    </tr>\n",
       "    <tr>\n",
       "      <th>4</th>\n",
       "      <td>12350</td>\n",
       "      <td>2011-02-02 16:01:00</td>\n",
       "      <td>458</td>\n",
       "      <td>0.0000</td>\n",
       "      <td>0.0</td>\n",
       "    </tr>\n",
       "    <tr>\n",
       "      <th>...</th>\n",
       "      <td>...</td>\n",
       "      <td>...</td>\n",
       "      <td>...</td>\n",
       "      <td>...</td>\n",
       "      <td>...</td>\n",
       "    </tr>\n",
       "    <tr>\n",
       "      <th>5909</th>\n",
       "      <td>18283</td>\n",
       "      <td>2011-11-30 12:59:00</td>\n",
       "      <td>759</td>\n",
       "      <td>1052.2215</td>\n",
       "      <td>1.0</td>\n",
       "    </tr>\n",
       "    <tr>\n",
       "      <th>5910</th>\n",
       "      <td>18284</td>\n",
       "      <td>2010-10-06 12:31:00</td>\n",
       "      <td>339</td>\n",
       "      <td>0.0000</td>\n",
       "      <td>0.0</td>\n",
       "    </tr>\n",
       "    <tr>\n",
       "      <th>5911</th>\n",
       "      <td>18285</td>\n",
       "      <td>2010-02-17 10:24:00</td>\n",
       "      <td>108</td>\n",
       "      <td>0.0000</td>\n",
       "      <td>0.0</td>\n",
       "    </tr>\n",
       "    <tr>\n",
       "      <th>5912</th>\n",
       "      <td>18286</td>\n",
       "      <td>2010-08-20 11:57:00</td>\n",
       "      <td>292</td>\n",
       "      <td>0.0000</td>\n",
       "      <td>0.0</td>\n",
       "    </tr>\n",
       "    <tr>\n",
       "      <th>5913</th>\n",
       "      <td>18287</td>\n",
       "      <td>2011-10-28 09:29:00</td>\n",
       "      <td>726</td>\n",
       "      <td>0.0000</td>\n",
       "      <td>0.0</td>\n",
       "    </tr>\n",
       "  </tbody>\n",
       "</table>\n",
       "<p>5914 rows × 5 columns</p>\n",
       "</div>"
      ],
      "text/plain": [
       "      customer_id          order_date  days_after_last      total  label\n",
       "0           12346 2011-01-18 10:17:00              443     0.0000    0.0\n",
       "1           12347 2011-10-31 12:25:00              729     0.0000    0.0\n",
       "2           12348 2011-09-25 13:13:00              693     0.0000    0.0\n",
       "3           12349 2011-11-21 09:51:00              750  2899.9575    1.0\n",
       "4           12350 2011-02-02 16:01:00              458     0.0000    0.0\n",
       "...           ...                 ...              ...        ...    ...\n",
       "5909        18283 2011-11-30 12:59:00              759  1052.2215    1.0\n",
       "5910        18284 2010-10-06 12:31:00              339     0.0000    0.0\n",
       "5911        18285 2010-02-17 10:24:00              108     0.0000    0.0\n",
       "5912        18286 2010-08-20 11:57:00              292     0.0000    0.0\n",
       "5913        18287 2011-10-28 09:29:00              726     0.0000    0.0\n",
       "\n",
       "[5914 rows x 5 columns]"
      ]
     },
     "execution_count": 111,
     "metadata": {},
     "output_type": "execute_result"
    }
   ],
   "source": [
    "test_ts"
   ]
  },
  {
   "cell_type": "code",
   "execution_count": 113,
   "id": "9aea3796",
   "metadata": {},
   "outputs": [
    {
     "data": {
      "image/png": "[encoded data removed]",
      "text/plain": [
       "<Figure size 360x360 with 1 Axes>"
      ]
     },
     "metadata": {
      "needs_background": "light"
     },
     "output_type": "display_data"
    },
    {
     "data": {
      "image/png": "[encoded data removed]",
      "text/plain": [
       "<Figure size 360x360 with 1 Axes>"
      ]
     },
     "metadata": {
      "needs_background": "light"
     },
     "output_type": "display_data"
    }
   ],
   "source": [
    "import matplotlib.pyplot as plt\n",
    "\n",
    "sns.displot(test_ts[test_ts['label']==1.0]['days_after_last'], label = 'label-1')\n",
    "sns.displot(test_ts[test_ts['label']==0.0]['days_after_last'], label = 'label-0')\n",
    "\n",
    "plt.legend()\n",
    "plt.show()"
   ]
  },
  {
   "cell_type": "code",
   "execution_count": 114,
   "id": "00336b2b",
   "metadata": {},
   "outputs": [
    {
     "name": "stderr",
     "output_type": "stream",
     "text": [
      "/opt/conda/lib/python3.7/site-packages/seaborn/distributions.py:2557: FutureWarning: `distplot` is a deprecated function and will be removed in a future version. Please adapt your code to use either `displot` (a figure-level function with similar flexibility) or `histplot` (an axes-level function for histograms).\n",
      "  warnings.warn(msg, FutureWarning)\n",
      "/opt/conda/lib/python3.7/site-packages/seaborn/distributions.py:2557: FutureWarning: `distplot` is a deprecated function and will be removed in a future version. Please adapt your code to use either `displot` (a figure-level function with similar flexibility) or `histplot` (an axes-level function for histograms).\n",
      "  warnings.warn(msg, FutureWarning)\n"
     ]
    },
    {
     "data": {
      "image/png": "[encoded data removed]",
      "text/plain": [
       "<Figure size 432x288 with 1 Axes>"
      ]
     },
     "metadata": {
      "needs_background": "light"
     },
     "output_type": "display_data"
    }
   ],
   "source": [
    "sns.distplot(test_ts[test_ts['label']==1.0]['days_after_last'], label = 'label-1')\n",
    "sns.distplot(test_ts[test_ts['label']==0.0]['days_after_last'], label = 'label-0')\n",
    "\n",
    "plt.legend()\n",
    "plt.show()"
   ]
  },
  {
   "cell_type": "code",
   "execution_count": 119,
   "id": "97ec3206",
   "metadata": {},
   "outputs": [
    {
     "data": {
      "text/plain": [
       "0      2011-01-18 10:17:00\n",
       "1      2011-10-31 12:25:00\n",
       "2      2011-09-25 13:13:00\n",
       "3      2011-11-21 09:51:00\n",
       "4      2011-02-02 16:01:00\n",
       "               ...        \n",
       "5909   2011-11-30 12:59:00\n",
       "5910   2010-10-06 12:31:00\n",
       "5911   2010-02-17 10:24:00\n",
       "5912   2010-08-20 11:57:00\n",
       "5913   2011-10-28 09:29:00\n",
       "Name: order_date, Length: 5914, dtype: datetime64[ns]"
      ]
     },
     "execution_count": 119,
     "metadata": {},
     "output_type": "execute_result"
    }
   ],
   "source": [
    "test_ts['order_date']"
   ]
  },
  {
   "cell_type": "code",
   "execution_count": 117,
   "id": "c4699cde",
   "metadata": {},
   "outputs": [
    {
     "data": {
      "text/plain": [
       "0       1295345820000000000\n",
       "1       1320063900000000000\n",
       "2       1316956380000000000\n",
       "3       1321869060000000000\n",
       "4       1296662460000000000\n",
       "               ...         \n",
       "5909    1322657940000000000\n",
       "5910    1286368260000000000\n",
       "5911    1266402240000000000\n",
       "5912    1282305420000000000\n",
       "5913    1319794140000000000\n",
       "Name: order_date, Length: 5914, dtype: int64"
      ]
     },
     "execution_count": 117,
     "metadata": {},
     "output_type": "execute_result"
    }
   ],
   "source": [
    "test_ts['order_date'].astype(int)"
   ]
  },
  {
   "cell_type": "code",
   "execution_count": 123,
   "id": "11ce6b17",
   "metadata": {},
   "outputs": [
    {
     "data": {
      "text/plain": [
       "0       16.376873\n",
       "1       16.395776\n",
       "2       16.393419\n",
       "3       16.397142\n",
       "4       16.377889\n",
       "          ...    \n",
       "5909    16.397739\n",
       "5910    16.369919\n",
       "5911    16.354276\n",
       "5912    16.366755\n",
       "5913    16.395571\n",
       "Name: order_date, Length: 5914, dtype: float64"
      ]
     },
     "execution_count": 123,
     "metadata": {},
     "output_type": "execute_result"
    }
   ],
   "source": [
    "np.log(test_ts['order_date'].astype(int)/100000000000)"
   ]
  },
  {
   "cell_type": "code",
   "execution_count": 144,
   "id": "8cc629b4",
   "metadata": {},
   "outputs": [
    {
     "data": {
      "text/plain": [
       "<matplotlib.axes._subplots.AxesSubplot at 0x7f130543c410>"
      ]
     },
     "execution_count": 144,
     "metadata": {},
     "output_type": "execute_result"
    },
    {
     "data": {
      "image/png": "[encoded data removed]",
      "text/plain": [
       "<Figure size 432x288 with 1 Axes>"
      ]
     },
     "metadata": {
      "needs_background": "light"
     },
     "output_type": "display_data"
    }
   ],
   "source": [
    "np.log(test_ts['order_date'].astype(int)/1000000000000000000).hist()"
   ]
  },
  {
   "cell_type": "code",
   "execution_count": 133,
   "id": "b6734d18",
   "metadata": {},
   "outputs": [
    {
     "data": {
      "text/html": [
       "<div>\n",
       "<style scoped>\n",
       "    .dataframe tbody tr th:only-of-type {\n",
       "        vertical-align: middle;\n",
       "    }\n",
       "\n",
       "    .dataframe tbody tr th {\n",
       "        vertical-align: top;\n",
       "    }\n",
       "\n",
       "    .dataframe thead th {\n",
       "        text-align: right;\n",
       "    }\n",
       "</style>\n",
       "<table border=\"1\" class=\"dataframe\">\n",
       "  <thead>\n",
       "    <tr style=\"text-align: right;\">\n",
       "      <th></th>\n",
       "      <th>customer_id</th>\n",
       "      <th>order_date</th>\n",
       "      <th>days_after_last</th>\n",
       "      <th>total</th>\n",
       "      <th>label</th>\n",
       "    </tr>\n",
       "  </thead>\n",
       "  <tbody>\n",
       "    <tr>\n",
       "      <th>0</th>\n",
       "      <td>12346</td>\n",
       "      <td>2011-01-18 10:17:00</td>\n",
       "      <td>443</td>\n",
       "      <td>0.0000</td>\n",
       "      <td>0.0</td>\n",
       "    </tr>\n",
       "    <tr>\n",
       "      <th>1</th>\n",
       "      <td>12347</td>\n",
       "      <td>2011-10-31 12:25:00</td>\n",
       "      <td>729</td>\n",
       "      <td>0.0000</td>\n",
       "      <td>0.0</td>\n",
       "    </tr>\n",
       "    <tr>\n",
       "      <th>2</th>\n",
       "      <td>12348</td>\n",
       "      <td>2011-09-25 13:13:00</td>\n",
       "      <td>693</td>\n",
       "      <td>0.0000</td>\n",
       "      <td>0.0</td>\n",
       "    </tr>\n",
       "    <tr>\n",
       "      <th>3</th>\n",
       "      <td>12349</td>\n",
       "      <td>2011-11-21 09:51:00</td>\n",
       "      <td>750</td>\n",
       "      <td>2899.9575</td>\n",
       "      <td>1.0</td>\n",
       "    </tr>\n",
       "    <tr>\n",
       "      <th>4</th>\n",
       "      <td>12350</td>\n",
       "      <td>2011-02-02 16:01:00</td>\n",
       "      <td>458</td>\n",
       "      <td>0.0000</td>\n",
       "      <td>0.0</td>\n",
       "    </tr>\n",
       "  </tbody>\n",
       "</table>\n",
       "</div>"
      ],
      "text/plain": [
       "   customer_id          order_date  days_after_last      total  label\n",
       "0        12346 2011-01-18 10:17:00              443     0.0000    0.0\n",
       "1        12347 2011-10-31 12:25:00              729     0.0000    0.0\n",
       "2        12348 2011-09-25 13:13:00              693     0.0000    0.0\n",
       "3        12349 2011-11-21 09:51:00              750  2899.9575    1.0\n",
       "4        12350 2011-02-02 16:01:00              458     0.0000    0.0"
      ]
     },
     "execution_count": 133,
     "metadata": {},
     "output_type": "execute_result"
    }
   ],
   "source": [
    "test_ts.head()"
   ]
  },
  {
   "cell_type": "code",
   "execution_count": 149,
   "id": "ea2e9dc5",
   "metadata": {},
   "outputs": [
    {
     "data": {
      "text/plain": [
       "<matplotlib.legend.Legend at 0x7f13051b9590>"
      ]
     },
     "execution_count": 149,
     "metadata": {},
     "output_type": "execute_result"
    },
    {
     "data": {
      "image/png": "[encoded data removed]",
      "text/plain": [
       "<Figure size 432x288 with 1 Axes>"
      ]
     },
     "metadata": {
      "needs_background": "light"
     },
     "output_type": "display_data"
    }
   ],
   "source": [
    "plt.hist(np.log(test_ts[test_ts['label']==0.0]['order_date'].astype(int)/1000000000000000000), label='label-0')\n",
    "plt.hist(np.log(test_ts[test_ts['label']==1.0]['order_date'].astype(int)/1000000000000000000), label='label-1')\n",
    "\n",
    "plt.legend()"
   ]
  },
  {
   "cell_type": "code",
   "execution_count": 146,
   "id": "3de1a718",
   "metadata": {},
   "outputs": [
    {
     "data": {
      "text/plain": [
       "(array([ 63.,  59., 113.,  95., 129., 176., 100., 219.,  88., 278.]),\n",
       " array([0.27773428, 0.27792646, 0.27811865, 0.27831084, 0.27850302,\n",
       "        0.27869521, 0.2788874 , 0.27907958, 0.27927177, 0.27946395,\n",
       "        0.27965614]),\n",
       " <a list of 10 Patch objects>)"
      ]
     },
     "execution_count": 146,
     "metadata": {},
     "output_type": "execute_result"
    },
    {
     "data": {
      "image/png": "[encoded data removed]",
      "text/plain": [
       "<Figure size 432x288 with 1 Axes>"
      ]
     },
     "metadata": {
      "needs_background": "light"
     },
     "output_type": "display_data"
    }
   ],
   "source": [
    "plt.hist(np.log(test_ts[test_ts['label']==1.0]['order_date'].astype(int)/1000000000000000000), label='label-1')"
   ]
  },
  {
   "cell_type": "code",
   "execution_count": 142,
   "id": "446aad8e",
   "metadata": {},
   "outputs": [
    {
     "data": {
      "text/plain": [
       "4594"
      ]
     },
     "execution_count": 142,
     "metadata": {},
     "output_type": "execute_result"
    }
   ],
   "source": [
    "sum(test_ts['label']==0.0)"
   ]
  },
  {
   "cell_type": "code",
   "execution_count": 143,
   "id": "922ee8ae",
   "metadata": {},
   "outputs": [
    {
     "data": {
      "text/plain": [
       "1320"
      ]
     },
     "execution_count": 143,
     "metadata": {},
     "output_type": "execute_result"
    }
   ],
   "source": [
    "sum(test_ts['label']==1.0)"
   ]
  },
  {
   "cell_type": "code",
   "execution_count": null,
   "id": "e947bf75",
   "metadata": {},
   "outputs": [],
   "source": [
    "# df의 ref_date 기준으로 period에 따라 데이터를 만듦\n",
    "\n",
    "\n",
    "def make_ts_label(df, ref_date, label_type):\n",
    "    \"\"\"\n",
    "    df: dataframe\n",
    "    ref_date: 기준 연월 (%Y-%m)\n",
    "    label_type: bool 또는 float\n",
    "    \"\"\"\n",
    "    df = df.copy()\n",
    "    ref_date = datetime.datetime.strptime(ref_date, \"%Y-%m\")\n",
    "    df['year_month'] = df['order_date'].dt.strftime('%Y-%m')\n",
    "    cust = df[df['year_month']<ref_date]['customer_id'].unique()\n",
    "    df = df[df['year_month']==ref_date][:]\n",
    "    \n",
    "    label = pd.DataFrame({'customer_id':cust})\n",
    "    label['year_month'] = ref_date\n",
    "    \n",
    "    # year_month에 해당하는 고객 ID의 구매액의 합 계산\n",
    "    grped = df.groupby(['customer_id','year_month'], as_index=False)[['total']].sum()\n",
    "    \n",
    "    # label 데이터프레임과 merge하고 구매액 임계값을 넘었는지 여부로 label 생성\n",
    "    label = label.merge(grped, on=['customer_id','year_month'], how='left')\n",
    "    label['total'].fillna(0.0, inplace=True)\n",
    "    if label_type=='bool':\n",
    "        label['label'] = (label['total'] > total_thres).astype(int)\n",
    "\n",
    "    # 고객 ID로 정렬\n",
    "    label = label.sort_values('customer_id').reset_index(drop=True)\n",
    "    if print_log: print(f'{year_month} - final label shape: {label.shape}')\n",
    "    \n",
    "    return label\n",
    "\n",
    "\n",
    "def make_ts_data(df, ref_date, period, label_type='bool'):\n",
    "    df = df.copy()\n",
    "    for i in range(period[0]) "
   ]
  }
 ],
 "metadata": {
  "kernelspec": {
   "display_name": "Python 3",
   "language": "python",
   "name": "python3"
  },
  "language_info": {
   "codemirror_mode": {
    "name": "ipython",
    "version": 3
   },
   "file_extension": ".py",
   "mimetype": "text/x-python",
   "name": "python",
   "nbconvert_exporter": "python",
   "pygments_lexer": "ipython3",
   "version": "3.7.7"
  }
 },
 "nbformat": 4,
 "nbformat_minor": 5
}
