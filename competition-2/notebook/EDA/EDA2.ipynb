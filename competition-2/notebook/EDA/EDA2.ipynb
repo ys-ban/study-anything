{
 "cells": [
  {
   "cell_type": "code",
   "execution_count": 118,
   "id": "701de0a9",
   "metadata": {},
   "outputs": [
    {
     "name": "stdout",
     "output_type": "stream",
     "text": [
      "Requirement already satisfied: plotly in /opt/conda/lib/python3.7/site-packages (4.14.3)\n",
      "Requirement already satisfied: retrying>=1.3.3 in /opt/conda/lib/python3.7/site-packages (from plotly) (1.3.3)\n",
      "Requirement already satisfied: six in /opt/conda/lib/python3.7/site-packages (from plotly) (1.14.0)\n"
     ]
    }
   ],
   "source": [
    "!pip install plotly"
   ]
  },
  {
   "cell_type": "code",
   "execution_count": 120,
   "id": "454a039f",
   "metadata": {
    "collapsed": true,
    "jupyter": {
     "outputs_hidden": true
    },
    "tags": []
   },
   "outputs": [
    {
     "name": "stdout",
     "output_type": "stream",
     "text": [
      "Collecting cufflinks\n",
      "  Downloading cufflinks-0.17.3.tar.gz (81 kB)\n",
      "\u001b[K     |████████████████████████████████| 81 kB 503 kB/s eta 0:00:01\n",
      "\u001b[?25hRequirement already satisfied: numpy>=1.9.2 in /opt/conda/lib/python3.7/site-packages (from cufflinks) (1.19.5)\n",
      "Requirement already satisfied: pandas>=0.19.2 in /opt/conda/lib/python3.7/site-packages (from cufflinks) (1.1.5)\n",
      "Requirement already satisfied: plotly>=4.1.1 in /opt/conda/lib/python3.7/site-packages (from cufflinks) (4.14.3)\n",
      "Requirement already satisfied: six>=1.9.0 in /opt/conda/lib/python3.7/site-packages (from cufflinks) (1.14.0)\n",
      "Collecting colorlover>=0.2.1\n",
      "  Downloading colorlover-0.3.0-py3-none-any.whl (8.9 kB)\n",
      "Requirement already satisfied: setuptools>=34.4.1 in /opt/conda/lib/python3.7/site-packages (from cufflinks) (46.4.0.post20200518)\n",
      "Requirement already satisfied: ipython>=5.3.0 in /opt/conda/lib/python3.7/site-packages (from cufflinks) (7.16.1)\n",
      "Collecting ipywidgets>=7.0.0\n",
      "  Downloading ipywidgets-7.6.3-py2.py3-none-any.whl (121 kB)\n",
      "\u001b[K     |████████████████████████████████| 121 kB 1.6 MB/s eta 0:00:01\n",
      "\u001b[?25hRequirement already satisfied: python-dateutil>=2.7.3 in /opt/conda/lib/python3.7/site-packages (from pandas>=0.19.2->cufflinks) (2.8.1)\n",
      "Requirement already satisfied: pytz>=2017.2 in /opt/conda/lib/python3.7/site-packages (from pandas>=0.19.2->cufflinks) (2020.1)\n",
      "Requirement already satisfied: retrying>=1.3.3 in /opt/conda/lib/python3.7/site-packages (from plotly>=4.1.1->cufflinks) (1.3.3)\n",
      "Requirement already satisfied: decorator in /opt/conda/lib/python3.7/site-packages (from ipython>=5.3.0->cufflinks) (4.4.2)\n",
      "Requirement already satisfied: jedi>=0.10 in /opt/conda/lib/python3.7/site-packages (from ipython>=5.3.0->cufflinks) (0.17.1)\n",
      "Requirement already satisfied: traitlets>=4.2 in /opt/conda/lib/python3.7/site-packages (from ipython>=5.3.0->cufflinks) (4.3.3)\n",
      "Requirement already satisfied: pexpect; sys_platform != \"win32\" in /opt/conda/lib/python3.7/site-packages (from ipython>=5.3.0->cufflinks) (4.8.0)\n",
      "Requirement already satisfied: prompt-toolkit!=3.0.0,!=3.0.1,<3.1.0,>=2.0.0 in /opt/conda/lib/python3.7/site-packages (from ipython>=5.3.0->cufflinks) (3.0.5)\n",
      "Requirement already satisfied: pickleshare in /opt/conda/lib/python3.7/site-packages (from ipython>=5.3.0->cufflinks) (0.7.5)\n",
      "Requirement already satisfied: pygments in /opt/conda/lib/python3.7/site-packages (from ipython>=5.3.0->cufflinks) (2.6.1)\n",
      "Requirement already satisfied: backcall in /opt/conda/lib/python3.7/site-packages (from ipython>=5.3.0->cufflinks) (0.2.0)\n",
      "Collecting widgetsnbextension~=3.5.0\n",
      "  Downloading widgetsnbextension-3.5.1-py2.py3-none-any.whl (2.2 MB)\n",
      "\u001b[K     |████████████████████████████████| 2.2 MB 2.9 MB/s eta 0:00:01     |██████████▏                     | 706 kB 1.8 MB/s eta 0:00:01\n",
      "\u001b[?25hCollecting jupyterlab-widgets>=1.0.0; python_version >= \"3.6\"\n",
      "  Downloading jupyterlab_widgets-1.0.0-py3-none-any.whl (243 kB)\n",
      "\u001b[K     |████████████████████████████████| 243 kB 2.8 MB/s eta 0:00:01\n",
      "\u001b[?25hRequirement already satisfied: ipykernel>=4.5.1 in /opt/conda/lib/python3.7/site-packages (from ipywidgets>=7.0.0->cufflinks) (5.5.3)\n",
      "Requirement already satisfied: nbformat>=4.2.0 in /opt/conda/lib/python3.7/site-packages (from ipywidgets>=7.0.0->cufflinks) (5.1.3)\n",
      "Requirement already satisfied: parso<0.8.0,>=0.7.0 in /opt/conda/lib/python3.7/site-packages (from jedi>=0.10->ipython>=5.3.0->cufflinks) (0.7.0)\n",
      "Requirement already satisfied: ipython-genutils in /opt/conda/lib/python3.7/site-packages (from traitlets>=4.2->ipython>=5.3.0->cufflinks) (0.2.0)\n",
      "Requirement already satisfied: ptyprocess>=0.5 in /opt/conda/lib/python3.7/site-packages (from pexpect; sys_platform != \"win32\"->ipython>=5.3.0->cufflinks) (0.6.0)\n",
      "Requirement already satisfied: wcwidth in /opt/conda/lib/python3.7/site-packages (from prompt-toolkit!=3.0.0,!=3.0.1,<3.1.0,>=2.0.0->ipython>=5.3.0->cufflinks) (0.2.5)\n",
      "Requirement already satisfied: notebook>=4.4.1 in /opt/conda/lib/python3.7/site-packages (from widgetsnbextension~=3.5.0->ipywidgets>=7.0.0->cufflinks) (6.3.0)\n",
      "Requirement already satisfied: jupyter-client in /opt/conda/lib/python3.7/site-packages (from ipykernel>=4.5.1->ipywidgets>=7.0.0->cufflinks) (6.1.13)\n",
      "Requirement already satisfied: tornado>=4.2 in /opt/conda/lib/python3.7/site-packages (from ipykernel>=4.5.1->ipywidgets>=7.0.0->cufflinks) (6.1)\n",
      "Requirement already satisfied: jupyter-core in /opt/conda/lib/python3.7/site-packages (from nbformat>=4.2.0->ipywidgets>=7.0.0->cufflinks) (4.7.1)\n",
      "Requirement already satisfied: jsonschema!=2.5.0,>=2.4 in /opt/conda/lib/python3.7/site-packages (from nbformat>=4.2.0->ipywidgets>=7.0.0->cufflinks) (3.2.0)\n",
      "Requirement already satisfied: prometheus-client in /opt/conda/lib/python3.7/site-packages (from notebook>=4.4.1->widgetsnbextension~=3.5.0->ipywidgets>=7.0.0->cufflinks) (0.10.0)\n",
      "Requirement already satisfied: argon2-cffi in /opt/conda/lib/python3.7/site-packages (from notebook>=4.4.1->widgetsnbextension~=3.5.0->ipywidgets>=7.0.0->cufflinks) (20.1.0)\n",
      "Requirement already satisfied: Send2Trash>=1.5.0 in /opt/conda/lib/python3.7/site-packages (from notebook>=4.4.1->widgetsnbextension~=3.5.0->ipywidgets>=7.0.0->cufflinks) (1.5.0)\n",
      "Requirement already satisfied: terminado>=0.8.3 in /opt/conda/lib/python3.7/site-packages (from notebook>=4.4.1->widgetsnbextension~=3.5.0->ipywidgets>=7.0.0->cufflinks) (0.9.4)\n",
      "Requirement already satisfied: pyzmq>=17 in /opt/conda/lib/python3.7/site-packages (from notebook>=4.4.1->widgetsnbextension~=3.5.0->ipywidgets>=7.0.0->cufflinks) (22.0.3)\n",
      "Requirement already satisfied: jinja2 in /opt/conda/lib/python3.7/site-packages (from notebook>=4.4.1->widgetsnbextension~=3.5.0->ipywidgets>=7.0.0->cufflinks) (2.11.2)\n",
      "Requirement already satisfied: nbconvert in /opt/conda/lib/python3.7/site-packages (from notebook>=4.4.1->widgetsnbextension~=3.5.0->ipywidgets>=7.0.0->cufflinks) (6.0.7)\n",
      "Requirement already satisfied: nest-asyncio>=1.5 in /opt/conda/lib/python3.7/site-packages (from jupyter-client->ipykernel>=4.5.1->ipywidgets>=7.0.0->cufflinks) (1.5.1)\n",
      "Requirement already satisfied: importlib-metadata; python_version < \"3.8\" in /opt/conda/lib/python3.7/site-packages (from jsonschema!=2.5.0,>=2.4->nbformat>=4.2.0->ipywidgets>=7.0.0->cufflinks) (3.10.0)\n",
      "Requirement already satisfied: pyrsistent>=0.14.0 in /opt/conda/lib/python3.7/site-packages (from jsonschema!=2.5.0,>=2.4->nbformat>=4.2.0->ipywidgets>=7.0.0->cufflinks) (0.17.3)\n",
      "Requirement already satisfied: attrs>=17.4.0 in /opt/conda/lib/python3.7/site-packages (from jsonschema!=2.5.0,>=2.4->nbformat>=4.2.0->ipywidgets>=7.0.0->cufflinks) (20.3.0)\n",
      "Requirement already satisfied: cffi>=1.0.0 in /opt/conda/lib/python3.7/site-packages (from argon2-cffi->notebook>=4.4.1->widgetsnbextension~=3.5.0->ipywidgets>=7.0.0->cufflinks) (1.14.0)\n",
      "Requirement already satisfied: MarkupSafe>=0.23 in /opt/conda/lib/python3.7/site-packages (from jinja2->notebook>=4.4.1->widgetsnbextension~=3.5.0->ipywidgets>=7.0.0->cufflinks) (1.1.1)\n",
      "Requirement already satisfied: mistune<2,>=0.8.1 in /opt/conda/lib/python3.7/site-packages (from nbconvert->notebook>=4.4.1->widgetsnbextension~=3.5.0->ipywidgets>=7.0.0->cufflinks) (0.8.4)\n",
      "Requirement already satisfied: entrypoints>=0.2.2 in /opt/conda/lib/python3.7/site-packages (from nbconvert->notebook>=4.4.1->widgetsnbextension~=3.5.0->ipywidgets>=7.0.0->cufflinks) (0.3)\n",
      "Requirement already satisfied: pandocfilters>=1.4.1 in /opt/conda/lib/python3.7/site-packages (from nbconvert->notebook>=4.4.1->widgetsnbextension~=3.5.0->ipywidgets>=7.0.0->cufflinks) (1.4.3)\n",
      "Requirement already satisfied: bleach in /opt/conda/lib/python3.7/site-packages (from nbconvert->notebook>=4.4.1->widgetsnbextension~=3.5.0->ipywidgets>=7.0.0->cufflinks) (3.3.0)\n",
      "Requirement already satisfied: nbclient<0.6.0,>=0.5.0 in /opt/conda/lib/python3.7/site-packages (from nbconvert->notebook>=4.4.1->widgetsnbextension~=3.5.0->ipywidgets>=7.0.0->cufflinks) (0.5.3)\n",
      "Requirement already satisfied: jupyterlab-pygments in /opt/conda/lib/python3.7/site-packages (from nbconvert->notebook>=4.4.1->widgetsnbextension~=3.5.0->ipywidgets>=7.0.0->cufflinks) (0.1.2)\n",
      "Requirement already satisfied: defusedxml in /opt/conda/lib/python3.7/site-packages (from nbconvert->notebook>=4.4.1->widgetsnbextension~=3.5.0->ipywidgets>=7.0.0->cufflinks) (0.7.1)\n",
      "Requirement already satisfied: testpath in /opt/conda/lib/python3.7/site-packages (from nbconvert->notebook>=4.4.1->widgetsnbextension~=3.5.0->ipywidgets>=7.0.0->cufflinks) (0.4.4)\n",
      "Requirement already satisfied: zipp>=0.5 in /opt/conda/lib/python3.7/site-packages (from importlib-metadata; python_version < \"3.8\"->jsonschema!=2.5.0,>=2.4->nbformat>=4.2.0->ipywidgets>=7.0.0->cufflinks) (3.4.1)\n",
      "Requirement already satisfied: typing-extensions>=3.6.4; python_version < \"3.8\" in /opt/conda/lib/python3.7/site-packages (from importlib-metadata; python_version < \"3.8\"->jsonschema!=2.5.0,>=2.4->nbformat>=4.2.0->ipywidgets>=7.0.0->cufflinks) (3.7.4.3)\n",
      "Requirement already satisfied: pycparser in /opt/conda/lib/python3.7/site-packages (from cffi>=1.0.0->argon2-cffi->notebook>=4.4.1->widgetsnbextension~=3.5.0->ipywidgets>=7.0.0->cufflinks) (2.20)\n",
      "Requirement already satisfied: webencodings in /opt/conda/lib/python3.7/site-packages (from bleach->nbconvert->notebook>=4.4.1->widgetsnbextension~=3.5.0->ipywidgets>=7.0.0->cufflinks) (0.5.1)\n",
      "Requirement already satisfied: packaging in /opt/conda/lib/python3.7/site-packages (from bleach->nbconvert->notebook>=4.4.1->widgetsnbextension~=3.5.0->ipywidgets>=7.0.0->cufflinks) (20.9)\n",
      "Requirement already satisfied: async-generator in /opt/conda/lib/python3.7/site-packages (from nbclient<0.6.0,>=0.5.0->nbconvert->notebook>=4.4.1->widgetsnbextension~=3.5.0->ipywidgets>=7.0.0->cufflinks) (1.10)\n",
      "Requirement already satisfied: pyparsing>=2.0.2 in /opt/conda/lib/python3.7/site-packages (from packaging->bleach->nbconvert->notebook>=4.4.1->widgetsnbextension~=3.5.0->ipywidgets>=7.0.0->cufflinks) (2.4.7)\n",
      "Building wheels for collected packages: cufflinks\n",
      "  Building wheel for cufflinks (setup.py) ... \u001b[?25ldone\n",
      "\u001b[?25h  Created wheel for cufflinks: filename=cufflinks-0.17.3-py3-none-any.whl size=67921 sha256=1217e45222ec298f0f2ad8cea62db6038a7abbc5ec8434a725bb53769825f27d\n",
      "  Stored in directory: /opt/ml/.cache/pip/wheels/e1/27/13/3fe67fa7ea7be444b831d117220b3b586b872c9acd4df480d0\n",
      "Successfully built cufflinks\n",
      "Installing collected packages: colorlover, widgetsnbextension, jupyterlab-widgets, ipywidgets, cufflinks\n",
      "Successfully installed colorlover-0.3.0 cufflinks-0.17.3 ipywidgets-7.6.3 jupyterlab-widgets-1.0.0 widgetsnbextension-3.5.1\n"
     ]
    }
   ],
   "source": [
    "!pip install cufflinks"
   ]
  },
  {
   "cell_type": "code",
   "execution_count": 165,
   "id": "203bd0ac",
   "metadata": {
    "collapsed": true,
    "jupyter": {
     "outputs_hidden": true
    },
    "tags": []
   },
   "outputs": [
    {
     "name": "stdout",
     "output_type": "stream",
     "text": [
      "Collecting gensim\n",
      "  Downloading gensim-4.0.1-cp37-cp37m-manylinux1_x86_64.whl (23.9 MB)\n",
      "\u001b[K     |████████████████████████████████| 23.9 MB 21.4 MB/s eta 0:00:01\n",
      "\u001b[?25hRequirement already satisfied: scipy>=0.18.1 in /opt/conda/lib/python3.7/site-packages (from gensim) (1.6.2)\n",
      "Requirement already satisfied: numpy>=1.11.3 in /opt/conda/lib/python3.7/site-packages (from gensim) (1.19.5)\n",
      "Collecting smart-open>=1.8.1\n",
      "  Downloading smart_open-5.0.0-py3-none-any.whl (56 kB)\n",
      "\u001b[K     |████████████████████████████████| 56 kB 7.6 MB/s  eta 0:00:01\n",
      "\u001b[?25hInstalling collected packages: smart-open, gensim\n",
      "Successfully installed gensim-4.0.1 smart-open-5.0.0\n"
     ]
    }
   ],
   "source": [
    "!pip install gensim"
   ]
  },
  {
   "cell_type": "code",
   "execution_count": 126,
   "id": "1534e30a",
   "metadata": {},
   "outputs": [
    {
     "data": {
      "text/html": [
       "        <script type=\"text/javascript\">\n",
       "        window.PlotlyConfig = {MathJaxConfig: 'local'};\n",
       "        if (window.MathJax) {MathJax.Hub.Config({SVG: {font: \"STIX-Web\"}});}\n",
       "        if (typeof require !== 'undefined') {\n",
       "        require.undef(\"plotly\");\n",
       "        requirejs.config({\n",
       "            paths: {\n",
       "                'plotly': ['https://cdn.plot.ly/plotly-latest.min']\n",
       "            }\n",
       "        });\n",
       "        require(['plotly'], function(Plotly) {\n",
       "            window._Plotly = Plotly;\n",
       "        });\n",
       "        }\n",
       "        </script>\n",
       "        "
      ]
     },
     "metadata": {},
     "output_type": "display_data"
    }
   ],
   "source": [
    "import plotly\n",
    "import cufflinks\n",
    "cufflinks.go_offline(connected=True)"
   ]
  },
  {
   "cell_type": "code",
   "execution_count": 1,
   "id": "4bdb87ab",
   "metadata": {},
   "outputs": [
    {
     "name": "stderr",
     "output_type": "stream",
     "text": [
      "/opt/conda/lib/python3.7/site-packages/gensim/similarities/__init__.py:15: UserWarning: The gensim.similarities.levenshtein submodule is disabled, because the optional Levenshtein package <https://pypi.org/project/python-Levenshtein/> is unavailable. Install Levenhstein (e.g. `pip install python-Levenshtein`) to suppress this warning.\n",
      "  warnings.warn(msg)\n"
     ]
    }
   ],
   "source": [
    "import gensim"
   ]
  },
  {
   "cell_type": "code",
   "execution_count": 2,
   "id": "2748caa7",
   "metadata": {},
   "outputs": [],
   "source": [
    "import numpy as np\n",
    "import pandas as pd\n",
    "import matplotlib.pyplot as plt"
   ]
  },
  {
   "cell_type": "code",
   "execution_count": 3,
   "id": "f38e2210",
   "metadata": {},
   "outputs": [],
   "source": [
    "check_case = [\"ADJUST\", \"ADJUST2\", \"BANK CHARGES\", \"C2\", \"CRUK\", \"D\", \"DOT\", \"M\", \"PADS\", \"POST\", \"SP1002\", \"TEST001\", \"TEST002\"]"
   ]
  },
  {
   "cell_type": "code",
   "execution_count": 4,
   "id": "35de5ab8",
   "metadata": {},
   "outputs": [],
   "source": [
    "train_csv = pd.read_csv(\"/opt/ml/code/input/train.csv\")"
   ]
  },
  {
   "cell_type": "code",
   "execution_count": 5,
   "id": "6b5285de",
   "metadata": {},
   "outputs": [
    {
     "data": {
      "text/html": [
       "<div>\n",
       "<style scoped>\n",
       "    .dataframe tbody tr th:only-of-type {\n",
       "        vertical-align: middle;\n",
       "    }\n",
       "\n",
       "    .dataframe tbody tr th {\n",
       "        vertical-align: top;\n",
       "    }\n",
       "\n",
       "    .dataframe thead th {\n",
       "        text-align: right;\n",
       "    }\n",
       "</style>\n",
       "<table border=\"1\" class=\"dataframe\">\n",
       "  <thead>\n",
       "    <tr style=\"text-align: right;\">\n",
       "      <th></th>\n",
       "      <th>order_id</th>\n",
       "      <th>product_id</th>\n",
       "      <th>description</th>\n",
       "      <th>quantity</th>\n",
       "      <th>order_date</th>\n",
       "      <th>price</th>\n",
       "      <th>customer_id</th>\n",
       "      <th>country</th>\n",
       "      <th>total</th>\n",
       "    </tr>\n",
       "  </thead>\n",
       "  <tbody>\n",
       "    <tr>\n",
       "      <th>0</th>\n",
       "      <td>489434</td>\n",
       "      <td>85048</td>\n",
       "      <td>15CM CHRISTMAS GLASS BALL 20 LIGHTS</td>\n",
       "      <td>12</td>\n",
       "      <td>2009-12-01 07:45:00</td>\n",
       "      <td>11.4675</td>\n",
       "      <td>13085</td>\n",
       "      <td>United Kingdom</td>\n",
       "      <td>137.61</td>\n",
       "    </tr>\n",
       "    <tr>\n",
       "      <th>1</th>\n",
       "      <td>489434</td>\n",
       "      <td>79323P</td>\n",
       "      <td>PINK CHERRY LIGHTS</td>\n",
       "      <td>12</td>\n",
       "      <td>2009-12-01 07:45:00</td>\n",
       "      <td>11.1375</td>\n",
       "      <td>13085</td>\n",
       "      <td>United Kingdom</td>\n",
       "      <td>133.65</td>\n",
       "    </tr>\n",
       "    <tr>\n",
       "      <th>2</th>\n",
       "      <td>489434</td>\n",
       "      <td>79323W</td>\n",
       "      <td>WHITE CHERRY LIGHTS</td>\n",
       "      <td>12</td>\n",
       "      <td>2009-12-01 07:45:00</td>\n",
       "      <td>11.1375</td>\n",
       "      <td>13085</td>\n",
       "      <td>United Kingdom</td>\n",
       "      <td>133.65</td>\n",
       "    </tr>\n",
       "    <tr>\n",
       "      <th>3</th>\n",
       "      <td>489434</td>\n",
       "      <td>22041</td>\n",
       "      <td>RECORD FRAME 7\" SINGLE SIZE</td>\n",
       "      <td>48</td>\n",
       "      <td>2009-12-01 07:45:00</td>\n",
       "      <td>3.4650</td>\n",
       "      <td>13085</td>\n",
       "      <td>United Kingdom</td>\n",
       "      <td>166.32</td>\n",
       "    </tr>\n",
       "    <tr>\n",
       "      <th>4</th>\n",
       "      <td>489434</td>\n",
       "      <td>21232</td>\n",
       "      <td>STRAWBERRY CERAMIC TRINKET BOX</td>\n",
       "      <td>24</td>\n",
       "      <td>2009-12-01 07:45:00</td>\n",
       "      <td>2.0625</td>\n",
       "      <td>13085</td>\n",
       "      <td>United Kingdom</td>\n",
       "      <td>49.50</td>\n",
       "    </tr>\n",
       "  </tbody>\n",
       "</table>\n",
       "</div>"
      ],
      "text/plain": [
       "  order_id product_id                          description  quantity  \\\n",
       "0   489434      85048  15CM CHRISTMAS GLASS BALL 20 LIGHTS        12   \n",
       "1   489434     79323P                   PINK CHERRY LIGHTS        12   \n",
       "2   489434     79323W                  WHITE CHERRY LIGHTS        12   \n",
       "3   489434      22041         RECORD FRAME 7\" SINGLE SIZE         48   \n",
       "4   489434      21232       STRAWBERRY CERAMIC TRINKET BOX        24   \n",
       "\n",
       "            order_date    price  customer_id         country   total  \n",
       "0  2009-12-01 07:45:00  11.4675        13085  United Kingdom  137.61  \n",
       "1  2009-12-01 07:45:00  11.1375        13085  United Kingdom  133.65  \n",
       "2  2009-12-01 07:45:00  11.1375        13085  United Kingdom  133.65  \n",
       "3  2009-12-01 07:45:00   3.4650        13085  United Kingdom  166.32  \n",
       "4  2009-12-01 07:45:00   2.0625        13085  United Kingdom   49.50  "
      ]
     },
     "execution_count": 5,
     "metadata": {},
     "output_type": "execute_result"
    }
   ],
   "source": [
    "train_csv.head()"
   ]
  },
  {
   "cell_type": "code",
   "execution_count": 6,
   "id": "b99b55f0",
   "metadata": {},
   "outputs": [
    {
     "data": {
      "text/html": [
       "<div>\n",
       "<style scoped>\n",
       "    .dataframe tbody tr th:only-of-type {\n",
       "        vertical-align: middle;\n",
       "    }\n",
       "\n",
       "    .dataframe tbody tr th {\n",
       "        vertical-align: top;\n",
       "    }\n",
       "\n",
       "    .dataframe thead th {\n",
       "        text-align: right;\n",
       "    }\n",
       "</style>\n",
       "<table border=\"1\" class=\"dataframe\">\n",
       "  <thead>\n",
       "    <tr style=\"text-align: right;\">\n",
       "      <th></th>\n",
       "      <th>order_id</th>\n",
       "      <th>product_id</th>\n",
       "      <th>description</th>\n",
       "      <th>quantity</th>\n",
       "      <th>order_date</th>\n",
       "      <th>price</th>\n",
       "      <th>customer_id</th>\n",
       "      <th>country</th>\n",
       "      <th>total</th>\n",
       "    </tr>\n",
       "  </thead>\n",
       "  <tbody>\n",
       "    <tr>\n",
       "      <th>count</th>\n",
       "      <td>780502</td>\n",
       "      <td>780502</td>\n",
       "      <td>780502</td>\n",
       "      <td>780502.000000</td>\n",
       "      <td>780502</td>\n",
       "      <td>780502.000000</td>\n",
       "      <td>780502.000000</td>\n",
       "      <td>780502</td>\n",
       "      <td>780502.000000</td>\n",
       "    </tr>\n",
       "    <tr>\n",
       "      <th>unique</th>\n",
       "      <td>43955</td>\n",
       "      <td>4645</td>\n",
       "      <td>5297</td>\n",
       "      <td>NaN</td>\n",
       "      <td>40615</td>\n",
       "      <td>NaN</td>\n",
       "      <td>NaN</td>\n",
       "      <td>41</td>\n",
       "      <td>NaN</td>\n",
       "    </tr>\n",
       "    <tr>\n",
       "      <th>top</th>\n",
       "      <td>576339</td>\n",
       "      <td>85123A</td>\n",
       "      <td>WHITE HANGING HEART T-LIGHT HOLDER</td>\n",
       "      <td>NaN</td>\n",
       "      <td>2011-11-14 15:27:00</td>\n",
       "      <td>NaN</td>\n",
       "      <td>NaN</td>\n",
       "      <td>United Kingdom</td>\n",
       "      <td>NaN</td>\n",
       "    </tr>\n",
       "    <tr>\n",
       "      <th>freq</th>\n",
       "      <td>542</td>\n",
       "      <td>5096</td>\n",
       "      <td>5096</td>\n",
       "      <td>NaN</td>\n",
       "      <td>543</td>\n",
       "      <td>NaN</td>\n",
       "      <td>NaN</td>\n",
       "      <td>700317</td>\n",
       "      <td>NaN</td>\n",
       "    </tr>\n",
       "    <tr>\n",
       "      <th>mean</th>\n",
       "      <td>NaN</td>\n",
       "      <td>NaN</td>\n",
       "      <td>NaN</td>\n",
       "      <td>12.623307</td>\n",
       "      <td>NaN</td>\n",
       "      <td>6.140931</td>\n",
       "      <td>15313.393466</td>\n",
       "      <td>NaN</td>\n",
       "      <td>33.715373</td>\n",
       "    </tr>\n",
       "    <tr>\n",
       "      <th>std</th>\n",
       "      <td>NaN</td>\n",
       "      <td>NaN</td>\n",
       "      <td>NaN</td>\n",
       "      <td>143.906302</td>\n",
       "      <td>NaN</td>\n",
       "      <td>119.042266</td>\n",
       "      <td>1695.765797</td>\n",
       "      <td>NaN</td>\n",
       "      <td>274.207403</td>\n",
       "    </tr>\n",
       "    <tr>\n",
       "      <th>min</th>\n",
       "      <td>NaN</td>\n",
       "      <td>NaN</td>\n",
       "      <td>NaN</td>\n",
       "      <td>-74215.000000</td>\n",
       "      <td>NaN</td>\n",
       "      <td>0.000000</td>\n",
       "      <td>12346.000000</td>\n",
       "      <td>NaN</td>\n",
       "      <td>-127352.940000</td>\n",
       "    </tr>\n",
       "    <tr>\n",
       "      <th>25%</th>\n",
       "      <td>NaN</td>\n",
       "      <td>NaN</td>\n",
       "      <td>NaN</td>\n",
       "      <td>2.000000</td>\n",
       "      <td>NaN</td>\n",
       "      <td>2.062500</td>\n",
       "      <td>13963.000000</td>\n",
       "      <td>NaN</td>\n",
       "      <td>7.260000</td>\n",
       "    </tr>\n",
       "    <tr>\n",
       "      <th>50%</th>\n",
       "      <td>NaN</td>\n",
       "      <td>NaN</td>\n",
       "      <td>NaN</td>\n",
       "      <td>5.000000</td>\n",
       "      <td>NaN</td>\n",
       "      <td>3.217500</td>\n",
       "      <td>15239.000000</td>\n",
       "      <td>NaN</td>\n",
       "      <td>19.470000</td>\n",
       "    </tr>\n",
       "    <tr>\n",
       "      <th>75%</th>\n",
       "      <td>NaN</td>\n",
       "      <td>NaN</td>\n",
       "      <td>NaN</td>\n",
       "      <td>12.000000</td>\n",
       "      <td>NaN</td>\n",
       "      <td>6.187500</td>\n",
       "      <td>16788.000000</td>\n",
       "      <td>NaN</td>\n",
       "      <td>32.175000</td>\n",
       "    </tr>\n",
       "    <tr>\n",
       "      <th>max</th>\n",
       "      <td>NaN</td>\n",
       "      <td>NaN</td>\n",
       "      <td>NaN</td>\n",
       "      <td>74215.000000</td>\n",
       "      <td>NaN</td>\n",
       "      <td>64300.500000</td>\n",
       "      <td>18287.000000</td>\n",
       "      <td>NaN</td>\n",
       "      <td>127352.940000</td>\n",
       "    </tr>\n",
       "  </tbody>\n",
       "</table>\n",
       "</div>"
      ],
      "text/plain": [
       "       order_id product_id                         description       quantity  \\\n",
       "count    780502     780502                              780502  780502.000000   \n",
       "unique    43955       4645                                5297            NaN   \n",
       "top      576339     85123A  WHITE HANGING HEART T-LIGHT HOLDER            NaN   \n",
       "freq        542       5096                                5096            NaN   \n",
       "mean        NaN        NaN                                 NaN      12.623307   \n",
       "std         NaN        NaN                                 NaN     143.906302   \n",
       "min         NaN        NaN                                 NaN  -74215.000000   \n",
       "25%         NaN        NaN                                 NaN       2.000000   \n",
       "50%         NaN        NaN                                 NaN       5.000000   \n",
       "75%         NaN        NaN                                 NaN      12.000000   \n",
       "max         NaN        NaN                                 NaN   74215.000000   \n",
       "\n",
       "                 order_date          price    customer_id         country  \\\n",
       "count                780502  780502.000000  780502.000000          780502   \n",
       "unique                40615            NaN            NaN              41   \n",
       "top     2011-11-14 15:27:00            NaN            NaN  United Kingdom   \n",
       "freq                    543            NaN            NaN          700317   \n",
       "mean                    NaN       6.140931   15313.393466             NaN   \n",
       "std                     NaN     119.042266    1695.765797             NaN   \n",
       "min                     NaN       0.000000   12346.000000             NaN   \n",
       "25%                     NaN       2.062500   13963.000000             NaN   \n",
       "50%                     NaN       3.217500   15239.000000             NaN   \n",
       "75%                     NaN       6.187500   16788.000000             NaN   \n",
       "max                     NaN   64300.500000   18287.000000             NaN   \n",
       "\n",
       "                total  \n",
       "count   780502.000000  \n",
       "unique            NaN  \n",
       "top               NaN  \n",
       "freq              NaN  \n",
       "mean        33.715373  \n",
       "std        274.207403  \n",
       "min    -127352.940000  \n",
       "25%          7.260000  \n",
       "50%         19.470000  \n",
       "75%         32.175000  \n",
       "max     127352.940000  "
      ]
     },
     "execution_count": 6,
     "metadata": {},
     "output_type": "execute_result"
    }
   ],
   "source": [
    "train_csv.describe(include=\"all\")"
   ]
  },
  {
   "cell_type": "markdown",
   "id": "8791a1cd",
   "metadata": {},
   "source": [
    "# 어떤 상품이 가장 많이 팔리는가?"
   ]
  },
  {
   "cell_type": "code",
   "execution_count": 7,
   "id": "3fefe40d",
   "metadata": {},
   "outputs": [],
   "source": [
    "train_csv_valid_prod = train_csv[[(prod_id not in check_case) for prod_id in train_csv[\"product_id\"]]]"
   ]
  },
  {
   "cell_type": "code",
   "execution_count": 21,
   "id": "0e363494",
   "metadata": {},
   "outputs": [
    {
     "data": {
      "text/html": [
       "<div>\n",
       "<style scoped>\n",
       "    .dataframe tbody tr th:only-of-type {\n",
       "        vertical-align: middle;\n",
       "    }\n",
       "\n",
       "    .dataframe tbody tr th {\n",
       "        vertical-align: top;\n",
       "    }\n",
       "\n",
       "    .dataframe thead th {\n",
       "        text-align: right;\n",
       "    }\n",
       "</style>\n",
       "<table border=\"1\" class=\"dataframe\">\n",
       "  <thead>\n",
       "    <tr style=\"text-align: right;\">\n",
       "      <th></th>\n",
       "      <th>order_id</th>\n",
       "      <th>product_id</th>\n",
       "      <th>description</th>\n",
       "      <th>quantity</th>\n",
       "      <th>order_date</th>\n",
       "      <th>price</th>\n",
       "      <th>customer_id</th>\n",
       "      <th>country</th>\n",
       "      <th>total</th>\n",
       "      <th>prod_unique_id</th>\n",
       "      <th>y_m_d</th>\n",
       "      <th>y_m</th>\n",
       "    </tr>\n",
       "  </thead>\n",
       "  <tbody>\n",
       "    <tr>\n",
       "      <th>0</th>\n",
       "      <td>489434</td>\n",
       "      <td>85048</td>\n",
       "      <td>15CM CHRISTMAS GLASS BALL 20 LIGHTS</td>\n",
       "      <td>12</td>\n",
       "      <td>2009-12-01 07:45:00</td>\n",
       "      <td>11.4675</td>\n",
       "      <td>13085</td>\n",
       "      <td>United Kingdom</td>\n",
       "      <td>137.61</td>\n",
       "      <td>85048</td>\n",
       "      <td>2009-12-01</td>\n",
       "      <td>2009-12</td>\n",
       "    </tr>\n",
       "    <tr>\n",
       "      <th>1</th>\n",
       "      <td>489434</td>\n",
       "      <td>79323P</td>\n",
       "      <td>PINK CHERRY LIGHTS</td>\n",
       "      <td>12</td>\n",
       "      <td>2009-12-01 07:45:00</td>\n",
       "      <td>11.1375</td>\n",
       "      <td>13085</td>\n",
       "      <td>United Kingdom</td>\n",
       "      <td>133.65</td>\n",
       "      <td>79323</td>\n",
       "      <td>2009-12-01</td>\n",
       "      <td>2009-12</td>\n",
       "    </tr>\n",
       "    <tr>\n",
       "      <th>2</th>\n",
       "      <td>489434</td>\n",
       "      <td>79323W</td>\n",
       "      <td>WHITE CHERRY LIGHTS</td>\n",
       "      <td>12</td>\n",
       "      <td>2009-12-01 07:45:00</td>\n",
       "      <td>11.1375</td>\n",
       "      <td>13085</td>\n",
       "      <td>United Kingdom</td>\n",
       "      <td>133.65</td>\n",
       "      <td>79323</td>\n",
       "      <td>2009-12-01</td>\n",
       "      <td>2009-12</td>\n",
       "    </tr>\n",
       "    <tr>\n",
       "      <th>3</th>\n",
       "      <td>489434</td>\n",
       "      <td>22041</td>\n",
       "      <td>RECORD FRAME 7\" SINGLE SIZE</td>\n",
       "      <td>48</td>\n",
       "      <td>2009-12-01 07:45:00</td>\n",
       "      <td>3.4650</td>\n",
       "      <td>13085</td>\n",
       "      <td>United Kingdom</td>\n",
       "      <td>166.32</td>\n",
       "      <td>22041</td>\n",
       "      <td>2009-12-01</td>\n",
       "      <td>2009-12</td>\n",
       "    </tr>\n",
       "    <tr>\n",
       "      <th>4</th>\n",
       "      <td>489434</td>\n",
       "      <td>21232</td>\n",
       "      <td>STRAWBERRY CERAMIC TRINKET BOX</td>\n",
       "      <td>24</td>\n",
       "      <td>2009-12-01 07:45:00</td>\n",
       "      <td>2.0625</td>\n",
       "      <td>13085</td>\n",
       "      <td>United Kingdom</td>\n",
       "      <td>49.50</td>\n",
       "      <td>21232</td>\n",
       "      <td>2009-12-01</td>\n",
       "      <td>2009-12</td>\n",
       "    </tr>\n",
       "  </tbody>\n",
       "</table>\n",
       "</div>"
      ],
      "text/plain": [
       "  order_id product_id                          description  quantity  \\\n",
       "0   489434      85048  15CM CHRISTMAS GLASS BALL 20 LIGHTS        12   \n",
       "1   489434     79323P                   PINK CHERRY LIGHTS        12   \n",
       "2   489434     79323W                  WHITE CHERRY LIGHTS        12   \n",
       "3   489434      22041         RECORD FRAME 7\" SINGLE SIZE         48   \n",
       "4   489434      21232       STRAWBERRY CERAMIC TRINKET BOX        24   \n",
       "\n",
       "            order_date    price  customer_id         country   total  \\\n",
       "0  2009-12-01 07:45:00  11.4675        13085  United Kingdom  137.61   \n",
       "1  2009-12-01 07:45:00  11.1375        13085  United Kingdom  133.65   \n",
       "2  2009-12-01 07:45:00  11.1375        13085  United Kingdom  133.65   \n",
       "3  2009-12-01 07:45:00   3.4650        13085  United Kingdom  166.32   \n",
       "4  2009-12-01 07:45:00   2.0625        13085  United Kingdom   49.50   \n",
       "\n",
       "   prod_unique_id       y_m_d      y_m  \n",
       "0           85048  2009-12-01  2009-12  \n",
       "1           79323  2009-12-01  2009-12  \n",
       "2           79323  2009-12-01  2009-12  \n",
       "3           22041  2009-12-01  2009-12  \n",
       "4           21232  2009-12-01  2009-12  "
      ]
     },
     "execution_count": 21,
     "metadata": {},
     "output_type": "execute_result"
    }
   ],
   "source": [
    "train_csv_valid_prod.head()"
   ]
  },
  {
   "cell_type": "code",
   "execution_count": 22,
   "id": "0b384b9a",
   "metadata": {},
   "outputs": [
    {
     "data": {
      "text/plain": [
       "776913"
      ]
     },
     "execution_count": 22,
     "metadata": {},
     "output_type": "execute_result"
    }
   ],
   "source": [
    "len(train_csv_valid_prod) # 기존 데이터는 780502개의 행 보유"
   ]
  },
  {
   "cell_type": "code",
   "execution_count": 23,
   "id": "24cc2eb0",
   "metadata": {},
   "outputs": [
    {
     "data": {
      "text/plain": [
       "0          85048\n",
       "1         79323P\n",
       "2         79323W\n",
       "3          22041\n",
       "4          21232\n",
       "           ...  \n",
       "780497     22197\n",
       "780498     23146\n",
       "780499     84946\n",
       "780500     85048\n",
       "780501     23490\n",
       "Name: product_id, Length: 776913, dtype: object"
      ]
     },
     "execution_count": 23,
     "metadata": {},
     "output_type": "execute_result"
    }
   ],
   "source": [
    "train_csv_valid_prod.product_id"
   ]
  },
  {
   "cell_type": "code",
   "execution_count": 11,
   "id": "6bdd78ba",
   "metadata": {},
   "outputs": [
    {
     "name": "stderr",
     "output_type": "stream",
     "text": [
      "/opt/conda/lib/python3.7/site-packages/ipykernel_launcher.py:1: SettingWithCopyWarning: \n",
      "A value is trying to be set on a copy of a slice from a DataFrame.\n",
      "Try using .loc[row_indexer,col_indexer] = value instead\n",
      "\n",
      "See the caveats in the documentation: https://pandas.pydata.org/pandas-docs/stable/user_guide/indexing.html#returning-a-view-versus-a-copy\n",
      "  \"\"\"Entry point for launching an IPython kernel.\n"
     ]
    }
   ],
   "source": [
    "train_csv_valid_prod[\"prod_unique_id\"] = [int(elem[:5]) if len(elem)>=6 else int(elem) for elem in train_csv_valid_prod.product_id]"
   ]
  },
  {
   "cell_type": "code",
   "execution_count": 12,
   "id": "49052905",
   "metadata": {},
   "outputs": [
    {
     "data": {
      "text/html": [
       "<div>\n",
       "<style scoped>\n",
       "    .dataframe tbody tr th:only-of-type {\n",
       "        vertical-align: middle;\n",
       "    }\n",
       "\n",
       "    .dataframe tbody tr th {\n",
       "        vertical-align: top;\n",
       "    }\n",
       "\n",
       "    .dataframe thead th {\n",
       "        text-align: right;\n",
       "    }\n",
       "</style>\n",
       "<table border=\"1\" class=\"dataframe\">\n",
       "  <thead>\n",
       "    <tr style=\"text-align: right;\">\n",
       "      <th></th>\n",
       "      <th>order_id</th>\n",
       "      <th>product_id</th>\n",
       "      <th>description</th>\n",
       "      <th>quantity</th>\n",
       "      <th>order_date</th>\n",
       "      <th>price</th>\n",
       "      <th>customer_id</th>\n",
       "      <th>country</th>\n",
       "      <th>total</th>\n",
       "      <th>prod_unique_id</th>\n",
       "    </tr>\n",
       "  </thead>\n",
       "  <tbody>\n",
       "    <tr>\n",
       "      <th>0</th>\n",
       "      <td>489434</td>\n",
       "      <td>85048</td>\n",
       "      <td>15CM CHRISTMAS GLASS BALL 20 LIGHTS</td>\n",
       "      <td>12</td>\n",
       "      <td>2009-12-01 07:45:00</td>\n",
       "      <td>11.4675</td>\n",
       "      <td>13085</td>\n",
       "      <td>United Kingdom</td>\n",
       "      <td>137.61</td>\n",
       "      <td>85048</td>\n",
       "    </tr>\n",
       "    <tr>\n",
       "      <th>1</th>\n",
       "      <td>489434</td>\n",
       "      <td>79323P</td>\n",
       "      <td>PINK CHERRY LIGHTS</td>\n",
       "      <td>12</td>\n",
       "      <td>2009-12-01 07:45:00</td>\n",
       "      <td>11.1375</td>\n",
       "      <td>13085</td>\n",
       "      <td>United Kingdom</td>\n",
       "      <td>133.65</td>\n",
       "      <td>79323</td>\n",
       "    </tr>\n",
       "    <tr>\n",
       "      <th>2</th>\n",
       "      <td>489434</td>\n",
       "      <td>79323W</td>\n",
       "      <td>WHITE CHERRY LIGHTS</td>\n",
       "      <td>12</td>\n",
       "      <td>2009-12-01 07:45:00</td>\n",
       "      <td>11.1375</td>\n",
       "      <td>13085</td>\n",
       "      <td>United Kingdom</td>\n",
       "      <td>133.65</td>\n",
       "      <td>79323</td>\n",
       "    </tr>\n",
       "    <tr>\n",
       "      <th>3</th>\n",
       "      <td>489434</td>\n",
       "      <td>22041</td>\n",
       "      <td>RECORD FRAME 7\" SINGLE SIZE</td>\n",
       "      <td>48</td>\n",
       "      <td>2009-12-01 07:45:00</td>\n",
       "      <td>3.4650</td>\n",
       "      <td>13085</td>\n",
       "      <td>United Kingdom</td>\n",
       "      <td>166.32</td>\n",
       "      <td>22041</td>\n",
       "    </tr>\n",
       "    <tr>\n",
       "      <th>4</th>\n",
       "      <td>489434</td>\n",
       "      <td>21232</td>\n",
       "      <td>STRAWBERRY CERAMIC TRINKET BOX</td>\n",
       "      <td>24</td>\n",
       "      <td>2009-12-01 07:45:00</td>\n",
       "      <td>2.0625</td>\n",
       "      <td>13085</td>\n",
       "      <td>United Kingdom</td>\n",
       "      <td>49.50</td>\n",
       "      <td>21232</td>\n",
       "    </tr>\n",
       "  </tbody>\n",
       "</table>\n",
       "</div>"
      ],
      "text/plain": [
       "  order_id product_id                          description  quantity  \\\n",
       "0   489434      85048  15CM CHRISTMAS GLASS BALL 20 LIGHTS        12   \n",
       "1   489434     79323P                   PINK CHERRY LIGHTS        12   \n",
       "2   489434     79323W                  WHITE CHERRY LIGHTS        12   \n",
       "3   489434      22041         RECORD FRAME 7\" SINGLE SIZE         48   \n",
       "4   489434      21232       STRAWBERRY CERAMIC TRINKET BOX        24   \n",
       "\n",
       "            order_date    price  customer_id         country   total  \\\n",
       "0  2009-12-01 07:45:00  11.4675        13085  United Kingdom  137.61   \n",
       "1  2009-12-01 07:45:00  11.1375        13085  United Kingdom  133.65   \n",
       "2  2009-12-01 07:45:00  11.1375        13085  United Kingdom  133.65   \n",
       "3  2009-12-01 07:45:00   3.4650        13085  United Kingdom  166.32   \n",
       "4  2009-12-01 07:45:00   2.0625        13085  United Kingdom   49.50   \n",
       "\n",
       "   prod_unique_id  \n",
       "0           85048  \n",
       "1           79323  \n",
       "2           79323  \n",
       "3           22041  \n",
       "4           21232  "
      ]
     },
     "execution_count": 12,
     "metadata": {},
     "output_type": "execute_result"
    }
   ],
   "source": [
    "train_csv_valid_prod.head()"
   ]
  },
  {
   "cell_type": "code",
   "execution_count": 13,
   "id": "54bee005",
   "metadata": {},
   "outputs": [],
   "source": [
    "order_date = train_csv_valid_prod['order_date'].copy()"
   ]
  },
  {
   "cell_type": "code",
   "execution_count": 14,
   "id": "ca05e875",
   "metadata": {},
   "outputs": [
    {
     "name": "stderr",
     "output_type": "stream",
     "text": [
      "/opt/conda/lib/python3.7/site-packages/ipykernel_launcher.py:4: SettingWithCopyWarning: \n",
      "A value is trying to be set on a copy of a slice from a DataFrame.\n",
      "Try using .loc[row_indexer,col_indexer] = value instead\n",
      "\n",
      "See the caveats in the documentation: https://pandas.pydata.org/pandas-docs/stable/user_guide/indexing.html#returning-a-view-versus-a-copy\n",
      "  after removing the cwd from sys.path.\n",
      "/opt/conda/lib/python3.7/site-packages/ipykernel_launcher.py:5: SettingWithCopyWarning: \n",
      "A value is trying to be set on a copy of a slice from a DataFrame.\n",
      "Try using .loc[row_indexer,col_indexer] = value instead\n",
      "\n",
      "See the caveats in the documentation: https://pandas.pydata.org/pandas-docs/stable/user_guide/indexing.html#returning-a-view-versus-a-copy\n",
      "  \"\"\"\n"
     ]
    }
   ],
   "source": [
    "y_m_d = [date_info[:10] for date_info in order_date]\n",
    "y_m = [date_info[:7] for date_info in order_date]\n",
    "\n",
    "train_csv_valid_prod[\"y_m_d\"] = y_m_d\n",
    "train_csv_valid_prod[\"y_m\"] = y_m"
   ]
  },
  {
   "cell_type": "code",
   "execution_count": 15,
   "id": "f0a4c2c1",
   "metadata": {},
   "outputs": [
    {
     "data": {
      "text/html": [
       "<div>\n",
       "<style scoped>\n",
       "    .dataframe tbody tr th:only-of-type {\n",
       "        vertical-align: middle;\n",
       "    }\n",
       "\n",
       "    .dataframe tbody tr th {\n",
       "        vertical-align: top;\n",
       "    }\n",
       "\n",
       "    .dataframe thead th {\n",
       "        text-align: right;\n",
       "    }\n",
       "</style>\n",
       "<table border=\"1\" class=\"dataframe\">\n",
       "  <thead>\n",
       "    <tr style=\"text-align: right;\">\n",
       "      <th></th>\n",
       "      <th>order_id</th>\n",
       "      <th>product_id</th>\n",
       "      <th>description</th>\n",
       "      <th>quantity</th>\n",
       "      <th>order_date</th>\n",
       "      <th>price</th>\n",
       "      <th>customer_id</th>\n",
       "      <th>country</th>\n",
       "      <th>total</th>\n",
       "      <th>prod_unique_id</th>\n",
       "      <th>y_m_d</th>\n",
       "      <th>y_m</th>\n",
       "    </tr>\n",
       "  </thead>\n",
       "  <tbody>\n",
       "    <tr>\n",
       "      <th>0</th>\n",
       "      <td>489434</td>\n",
       "      <td>85048</td>\n",
       "      <td>15CM CHRISTMAS GLASS BALL 20 LIGHTS</td>\n",
       "      <td>12</td>\n",
       "      <td>2009-12-01 07:45:00</td>\n",
       "      <td>11.4675</td>\n",
       "      <td>13085</td>\n",
       "      <td>United Kingdom</td>\n",
       "      <td>137.61</td>\n",
       "      <td>85048</td>\n",
       "      <td>2009-12-01</td>\n",
       "      <td>2009-12</td>\n",
       "    </tr>\n",
       "    <tr>\n",
       "      <th>1</th>\n",
       "      <td>489434</td>\n",
       "      <td>79323P</td>\n",
       "      <td>PINK CHERRY LIGHTS</td>\n",
       "      <td>12</td>\n",
       "      <td>2009-12-01 07:45:00</td>\n",
       "      <td>11.1375</td>\n",
       "      <td>13085</td>\n",
       "      <td>United Kingdom</td>\n",
       "      <td>133.65</td>\n",
       "      <td>79323</td>\n",
       "      <td>2009-12-01</td>\n",
       "      <td>2009-12</td>\n",
       "    </tr>\n",
       "    <tr>\n",
       "      <th>2</th>\n",
       "      <td>489434</td>\n",
       "      <td>79323W</td>\n",
       "      <td>WHITE CHERRY LIGHTS</td>\n",
       "      <td>12</td>\n",
       "      <td>2009-12-01 07:45:00</td>\n",
       "      <td>11.1375</td>\n",
       "      <td>13085</td>\n",
       "      <td>United Kingdom</td>\n",
       "      <td>133.65</td>\n",
       "      <td>79323</td>\n",
       "      <td>2009-12-01</td>\n",
       "      <td>2009-12</td>\n",
       "    </tr>\n",
       "    <tr>\n",
       "      <th>3</th>\n",
       "      <td>489434</td>\n",
       "      <td>22041</td>\n",
       "      <td>RECORD FRAME 7\" SINGLE SIZE</td>\n",
       "      <td>48</td>\n",
       "      <td>2009-12-01 07:45:00</td>\n",
       "      <td>3.4650</td>\n",
       "      <td>13085</td>\n",
       "      <td>United Kingdom</td>\n",
       "      <td>166.32</td>\n",
       "      <td>22041</td>\n",
       "      <td>2009-12-01</td>\n",
       "      <td>2009-12</td>\n",
       "    </tr>\n",
       "    <tr>\n",
       "      <th>4</th>\n",
       "      <td>489434</td>\n",
       "      <td>21232</td>\n",
       "      <td>STRAWBERRY CERAMIC TRINKET BOX</td>\n",
       "      <td>24</td>\n",
       "      <td>2009-12-01 07:45:00</td>\n",
       "      <td>2.0625</td>\n",
       "      <td>13085</td>\n",
       "      <td>United Kingdom</td>\n",
       "      <td>49.50</td>\n",
       "      <td>21232</td>\n",
       "      <td>2009-12-01</td>\n",
       "      <td>2009-12</td>\n",
       "    </tr>\n",
       "  </tbody>\n",
       "</table>\n",
       "</div>"
      ],
      "text/plain": [
       "  order_id product_id                          description  quantity  \\\n",
       "0   489434      85048  15CM CHRISTMAS GLASS BALL 20 LIGHTS        12   \n",
       "1   489434     79323P                   PINK CHERRY LIGHTS        12   \n",
       "2   489434     79323W                  WHITE CHERRY LIGHTS        12   \n",
       "3   489434      22041         RECORD FRAME 7\" SINGLE SIZE         48   \n",
       "4   489434      21232       STRAWBERRY CERAMIC TRINKET BOX        24   \n",
       "\n",
       "            order_date    price  customer_id         country   total  \\\n",
       "0  2009-12-01 07:45:00  11.4675        13085  United Kingdom  137.61   \n",
       "1  2009-12-01 07:45:00  11.1375        13085  United Kingdom  133.65   \n",
       "2  2009-12-01 07:45:00  11.1375        13085  United Kingdom  133.65   \n",
       "3  2009-12-01 07:45:00   3.4650        13085  United Kingdom  166.32   \n",
       "4  2009-12-01 07:45:00   2.0625        13085  United Kingdom   49.50   \n",
       "\n",
       "   prod_unique_id       y_m_d      y_m  \n",
       "0           85048  2009-12-01  2009-12  \n",
       "1           79323  2009-12-01  2009-12  \n",
       "2           79323  2009-12-01  2009-12  \n",
       "3           22041  2009-12-01  2009-12  \n",
       "4           21232  2009-12-01  2009-12  "
      ]
     },
     "execution_count": 15,
     "metadata": {},
     "output_type": "execute_result"
    }
   ],
   "source": [
    "train_csv_valid_prod.head()"
   ]
  },
  {
   "cell_type": "code",
   "execution_count": 16,
   "id": "03c7055b",
   "metadata": {},
   "outputs": [],
   "source": [
    "product_sum = train_csv_valid_prod.groupby(\"prod_unique_id\").sum()"
   ]
  },
  {
   "cell_type": "code",
   "execution_count": 17,
   "id": "c4014390",
   "metadata": {},
   "outputs": [
    {
     "data": {
      "text/html": [
       "<div>\n",
       "<style scoped>\n",
       "    .dataframe tbody tr th:only-of-type {\n",
       "        vertical-align: middle;\n",
       "    }\n",
       "\n",
       "    .dataframe tbody tr th {\n",
       "        vertical-align: top;\n",
       "    }\n",
       "\n",
       "    .dataframe thead th {\n",
       "        text-align: right;\n",
       "    }\n",
       "</style>\n",
       "<table border=\"1\" class=\"dataframe\">\n",
       "  <thead>\n",
       "    <tr style=\"text-align: right;\">\n",
       "      <th></th>\n",
       "      <th>quantity</th>\n",
       "      <th>price</th>\n",
       "      <th>customer_id</th>\n",
       "      <th>total</th>\n",
       "    </tr>\n",
       "    <tr>\n",
       "      <th>prod_unique_id</th>\n",
       "      <th></th>\n",
       "      <th></th>\n",
       "      <th></th>\n",
       "      <th></th>\n",
       "    </tr>\n",
       "  </thead>\n",
       "  <tbody>\n",
       "    <tr>\n",
       "      <th>10002</th>\n",
       "      <td>7256</td>\n",
       "      <td>428.0100</td>\n",
       "      <td>4633661</td>\n",
       "      <td>9495.2880</td>\n",
       "    </tr>\n",
       "    <tr>\n",
       "      <th>10080</th>\n",
       "      <td>303</td>\n",
       "      <td>22.6875</td>\n",
       "      <td>430314</td>\n",
       "      <td>205.6065</td>\n",
       "    </tr>\n",
       "    <tr>\n",
       "      <th>10109</th>\n",
       "      <td>4</td>\n",
       "      <td>0.6930</td>\n",
       "      <td>14159</td>\n",
       "      <td>2.7720</td>\n",
       "    </tr>\n",
       "    <tr>\n",
       "      <th>10120</th>\n",
       "      <td>612</td>\n",
       "      <td>21.4830</td>\n",
       "      <td>989559</td>\n",
       "      <td>212.0580</td>\n",
       "    </tr>\n",
       "    <tr>\n",
       "      <th>10123</th>\n",
       "      <td>1620</td>\n",
       "      <td>60.4560</td>\n",
       "      <td>952895</td>\n",
       "      <td>503.5140</td>\n",
       "    </tr>\n",
       "    <tr>\n",
       "      <th>...</th>\n",
       "      <td>...</td>\n",
       "      <td>...</td>\n",
       "      <td>...</td>\n",
       "      <td>...</td>\n",
       "    </tr>\n",
       "    <tr>\n",
       "      <th>90209</th>\n",
       "      <td>736</td>\n",
       "      <td>191.1525</td>\n",
       "      <td>903899</td>\n",
       "      <td>2238.3900</td>\n",
       "    </tr>\n",
       "    <tr>\n",
       "      <th>90210</th>\n",
       "      <td>387</td>\n",
       "      <td>195.3600</td>\n",
       "      <td>709352</td>\n",
       "      <td>1216.9575</td>\n",
       "    </tr>\n",
       "    <tr>\n",
       "      <th>90211</th>\n",
       "      <td>23</td>\n",
       "      <td>137.4450</td>\n",
       "      <td>208433</td>\n",
       "      <td>225.8025</td>\n",
       "    </tr>\n",
       "    <tr>\n",
       "      <th>90212</th>\n",
       "      <td>29</td>\n",
       "      <td>74.2500</td>\n",
       "      <td>194879</td>\n",
       "      <td>179.4375</td>\n",
       "    </tr>\n",
       "    <tr>\n",
       "      <th>90214</th>\n",
       "      <td>969</td>\n",
       "      <td>940.5000</td>\n",
       "      <td>7247630</td>\n",
       "      <td>1998.5625</td>\n",
       "    </tr>\n",
       "  </tbody>\n",
       "</table>\n",
       "<p>3873 rows × 4 columns</p>\n",
       "</div>"
      ],
      "text/plain": [
       "                quantity     price  customer_id      total\n",
       "prod_unique_id                                            \n",
       "10002               7256  428.0100      4633661  9495.2880\n",
       "10080                303   22.6875       430314   205.6065\n",
       "10109                  4    0.6930        14159     2.7720\n",
       "10120                612   21.4830       989559   212.0580\n",
       "10123               1620   60.4560       952895   503.5140\n",
       "...                  ...       ...          ...        ...\n",
       "90209                736  191.1525       903899  2238.3900\n",
       "90210                387  195.3600       709352  1216.9575\n",
       "90211                 23  137.4450       208433   225.8025\n",
       "90212                 29   74.2500       194879   179.4375\n",
       "90214                969  940.5000      7247630  1998.5625\n",
       "\n",
       "[3873 rows x 4 columns]"
      ]
     },
     "execution_count": 17,
     "metadata": {},
     "output_type": "execute_result"
    }
   ],
   "source": [
    "product_sum"
   ]
  },
  {
   "cell_type": "code",
   "execution_count": 18,
   "id": "c8f34f62",
   "metadata": {},
   "outputs": [],
   "source": [
    "quantity_df = product_sum.quantity"
   ]
  },
  {
   "cell_type": "code",
   "execution_count": 19,
   "id": "5e839eed",
   "metadata": {},
   "outputs": [
    {
     "data": {
      "text/plain": [
       "prod_unique_id\n",
       "10002    7256\n",
       "10080     303\n",
       "10109       4\n",
       "10120     612\n",
       "10123    1620\n",
       "         ... \n",
       "90209     736\n",
       "90210     387\n",
       "90211      23\n",
       "90212      29\n",
       "90214     969\n",
       "Name: quantity, Length: 3873, dtype: int64"
      ]
     },
     "execution_count": 19,
     "metadata": {},
     "output_type": "execute_result"
    }
   ],
   "source": [
    "quantity_df"
   ]
  },
  {
   "cell_type": "code",
   "execution_count": 20,
   "id": "a90bbb9f",
   "metadata": {},
   "outputs": [
    {
     "data": {
      "text/plain": [
       "prod_unique_id\n",
       "20879       -46\n",
       "21701       -12\n",
       "35976       -11\n",
       "22003       -10\n",
       "79301        -8\n",
       "          ...  \n",
       "84879     76481\n",
       "85123     87382\n",
       "21212     88552\n",
       "84077    102142\n",
       "85099    154812\n",
       "Name: quantity, Length: 3873, dtype: int64"
      ]
     },
     "execution_count": 20,
     "metadata": {},
     "output_type": "execute_result"
    }
   ],
   "source": [
    "quantity_df = quantity_df.sort_values()\n",
    "quantity_df"
   ]
  },
  {
   "cell_type": "code",
   "execution_count": 71,
   "id": "e11ca6d1",
   "metadata": {},
   "outputs": [
    {
     "data": {
      "text/plain": [
       "[<matplotlib.lines.Line2D at 0x7ff8c6e52f90>]"
      ]
     },
     "execution_count": 71,
     "metadata": {},
     "output_type": "execute_result"
    },
    {
     "data": {
      "image/png": "[encoded data removed]",
      "text/plain": [
       "<Figure size 432x288 with 1 Axes>"
      ]
     },
     "metadata": {
      "needs_background": "light"
     },
     "output_type": "display_data"
    }
   ],
   "source": [
    "plt.plot(quantity_df.values)"
   ]
  },
  {
   "cell_type": "code",
   "execution_count": 252,
   "id": "bed60231",
   "metadata": {
    "tags": []
   },
   "outputs": [
    {
     "name": "stdout",
     "output_type": "stream",
     "text": [
      "total data: 3873\n",
      "\t\tover 0\t\t=>\t3843\n"
     ]
    }
   ],
   "source": [
    "cut_val = 0\n",
    "print(f\"total data: {len(quantity_df)}\\n\\t\\tover {cut_val}\\t\\t=>\\t{sum(quantity_df>cut_val)}\")"
   ]
  },
  {
   "cell_type": "code",
   "execution_count": 73,
   "id": "fff03602",
   "metadata": {},
   "outputs": [
    {
     "data": {
      "text/plain": [
       "count      3873.000000\n",
       "mean       2542.443067\n",
       "std        6061.831268\n",
       "min         -46.000000\n",
       "25%         191.000000\n",
       "50%         826.000000\n",
       "75%        2380.000000\n",
       "max      154812.000000\n",
       "Name: quantity, dtype: float64"
      ]
     },
     "execution_count": 73,
     "metadata": {},
     "output_type": "execute_result"
    }
   ],
   "source": [
    "quantity_df.describe()"
   ]
  },
  {
   "cell_type": "code",
   "execution_count": 74,
   "id": "3791e7a5",
   "metadata": {},
   "outputs": [
    {
     "data": {
      "text/plain": [
       "[<matplotlib.lines.Line2D at 0x7ff8c6d5c990>]"
      ]
     },
     "execution_count": 74,
     "metadata": {},
     "output_type": "execute_result"
    },
    {
     "data": {
      "image/png": "[encoded data removed]",
      "text/plain": [
       "<Figure size 432x288 with 1 Axes>"
      ]
     },
     "metadata": {
      "needs_background": "light"
     },
     "output_type": "display_data"
    }
   ],
   "source": [
    "plt.plot(total_df.values)"
   ]
  },
  {
   "cell_type": "code",
   "execution_count": 253,
   "id": "66db5949",
   "metadata": {},
   "outputs": [
    {
     "name": "stdout",
     "output_type": "stream",
     "text": [
      "total data: 3873\n",
      "\t\tover 0\t\t=>\t3844\n"
     ]
    }
   ],
   "source": [
    "cut_val = 0\n",
    "print(f\"total data: {len(total_df)}\\n\\t\\tover {cut_val}\\t\\t=>\\t{sum(total_df>cut_val)}\")"
   ]
  },
  {
   "cell_type": "code",
   "execution_count": 76,
   "id": "bf54197f",
   "metadata": {},
   "outputs": [
    {
     "data": {
      "text/plain": [
       "count      3873.000000\n",
       "mean       6825.138951\n",
       "std       17745.609744\n",
       "min        -279.015000\n",
       "25%         700.920000\n",
       "50%        2163.117000\n",
       "75%        6180.405000\n",
       "max      458691.205500\n",
       "Name: total, dtype: float64"
      ]
     },
     "execution_count": 76,
     "metadata": {},
     "output_type": "execute_result"
    }
   ],
   "source": [
    "total_df.describe()"
   ]
  },
  {
   "cell_type": "code",
   "execution_count": 79,
   "id": "95ec02cb",
   "metadata": {},
   "outputs": [
    {
     "data": {
      "text/plain": [
       "prod_unique_id\n",
       "22386    109068.8115\n",
       "79321    109465.6695\n",
       "22086    118032.6840\n",
       "15056    178462.1520\n",
       "84997    195448.8195\n",
       "47566    200283.4845\n",
       "84879    200693.4765\n",
       "85123    388881.5205\n",
       "22423    423526.3230\n",
       "85099    458691.2055\n",
       "Name: total, dtype: float64"
      ]
     },
     "execution_count": 79,
     "metadata": {},
     "output_type": "execute_result"
    }
   ],
   "source": [
    "top_10_total = total_df[-10:]\n",
    "top_10_total"
   ]
  },
  {
   "cell_type": "code",
   "execution_count": 87,
   "id": "102e3084",
   "metadata": {},
   "outputs": [
    {
     "data": {
      "text/plain": [
       "Int64Index([22386, 79321, 22086, 15056, 84997, 47566, 84879, 85123, 22423,\n",
       "            85099],\n",
       "           dtype='int64', name='prod_unique_id')"
      ]
     },
     "execution_count": 87,
     "metadata": {},
     "output_type": "execute_result"
    }
   ],
   "source": [
    "top_10_total.keys()"
   ]
  },
  {
   "cell_type": "markdown",
   "id": "d42956fc",
   "metadata": {},
   "source": [
    "## 시간에 따라 상품 판매량"
   ]
  },
  {
   "cell_type": "code",
   "execution_count": 122,
   "id": "27a81d0c",
   "metadata": {},
   "outputs": [
    {
     "data": {
      "text/html": [
       "<div>\n",
       "<style scoped>\n",
       "    .dataframe tbody tr th:only-of-type {\n",
       "        vertical-align: middle;\n",
       "    }\n",
       "\n",
       "    .dataframe tbody tr th {\n",
       "        vertical-align: top;\n",
       "    }\n",
       "\n",
       "    .dataframe thead th {\n",
       "        text-align: right;\n",
       "    }\n",
       "</style>\n",
       "<table border=\"1\" class=\"dataframe\">\n",
       "  <thead>\n",
       "    <tr style=\"text-align: right;\">\n",
       "      <th></th>\n",
       "      <th></th>\n",
       "      <th>quantity</th>\n",
       "      <th>price</th>\n",
       "      <th>customer_id</th>\n",
       "      <th>total</th>\n",
       "    </tr>\n",
       "    <tr>\n",
       "      <th>prod_unique_id</th>\n",
       "      <th>y_m</th>\n",
       "      <th></th>\n",
       "      <th></th>\n",
       "      <th></th>\n",
       "      <th></th>\n",
       "    </tr>\n",
       "  </thead>\n",
       "  <tbody>\n",
       "    <tr>\n",
       "      <th rowspan=\"5\" valign=\"top\">10002</th>\n",
       "      <th>2009-12</th>\n",
       "      <td>212</td>\n",
       "      <td>23.8425</td>\n",
       "      <td>250817</td>\n",
       "      <td>297.3300</td>\n",
       "    </tr>\n",
       "    <tr>\n",
       "      <th>2010-01</th>\n",
       "      <td>289</td>\n",
       "      <td>21.0375</td>\n",
       "      <td>232547</td>\n",
       "      <td>405.3225</td>\n",
       "    </tr>\n",
       "    <tr>\n",
       "      <th>2010-02</th>\n",
       "      <td>255</td>\n",
       "      <td>18.2325</td>\n",
       "      <td>191851</td>\n",
       "      <td>357.6375</td>\n",
       "    </tr>\n",
       "    <tr>\n",
       "      <th>2010-03</th>\n",
       "      <td>633</td>\n",
       "      <td>21.5820</td>\n",
       "      <td>240097</td>\n",
       "      <td>791.6865</td>\n",
       "    </tr>\n",
       "    <tr>\n",
       "      <th>2010-04</th>\n",
       "      <td>929</td>\n",
       "      <td>29.5680</td>\n",
       "      <td>333879</td>\n",
       "      <td>1146.3375</td>\n",
       "    </tr>\n",
       "    <tr>\n",
       "      <th>...</th>\n",
       "      <th>...</th>\n",
       "      <td>...</td>\n",
       "      <td>...</td>\n",
       "      <td>...</td>\n",
       "      <td>...</td>\n",
       "    </tr>\n",
       "    <tr>\n",
       "      <th rowspan=\"5\" valign=\"top\">90214</th>\n",
       "      <th>2011-06</th>\n",
       "      <td>23</td>\n",
       "      <td>24.7500</td>\n",
       "      <td>175587</td>\n",
       "      <td>47.4375</td>\n",
       "    </tr>\n",
       "    <tr>\n",
       "      <th>2011-07</th>\n",
       "      <td>75</td>\n",
       "      <td>24.7500</td>\n",
       "      <td>198497</td>\n",
       "      <td>154.6875</td>\n",
       "    </tr>\n",
       "    <tr>\n",
       "      <th>2011-09</th>\n",
       "      <td>1</td>\n",
       "      <td>2.0625</td>\n",
       "      <td>14606</td>\n",
       "      <td>2.0625</td>\n",
       "    </tr>\n",
       "    <tr>\n",
       "      <th>2011-10</th>\n",
       "      <td>4</td>\n",
       "      <td>6.1875</td>\n",
       "      <td>43818</td>\n",
       "      <td>8.2500</td>\n",
       "    </tr>\n",
       "    <tr>\n",
       "      <th>2011-11</th>\n",
       "      <td>78</td>\n",
       "      <td>30.9375</td>\n",
       "      <td>240820</td>\n",
       "      <td>160.8750</td>\n",
       "    </tr>\n",
       "  </tbody>\n",
       "</table>\n",
       "<p>52426 rows × 4 columns</p>\n",
       "</div>"
      ],
      "text/plain": [
       "                        quantity    price  customer_id      total\n",
       "prod_unique_id y_m                                               \n",
       "10002          2009-12       212  23.8425       250817   297.3300\n",
       "               2010-01       289  21.0375       232547   405.3225\n",
       "               2010-02       255  18.2325       191851   357.6375\n",
       "               2010-03       633  21.5820       240097   791.6865\n",
       "               2010-04       929  29.5680       333879  1146.3375\n",
       "...                          ...      ...          ...        ...\n",
       "90214          2011-06        23  24.7500       175587    47.4375\n",
       "               2011-07        75  24.7500       198497   154.6875\n",
       "               2011-09         1   2.0625        14606     2.0625\n",
       "               2011-10         4   6.1875        43818     8.2500\n",
       "               2011-11        78  30.9375       240820   160.8750\n",
       "\n",
       "[52426 rows x 4 columns]"
      ]
     },
     "execution_count": 122,
     "metadata": {},
     "output_type": "execute_result"
    }
   ],
   "source": [
    "time_product = train_csv_valid_prod.groupby(['prod_unique_id', 'y_m']).sum()\n",
    "time_product"
   ]
  },
  {
   "cell_type": "code",
   "execution_count": 100,
   "id": "23a87dd4",
   "metadata": {},
   "outputs": [
    {
     "data": {
      "text/plain": [
       "MultiIndex([(10002, '2009-12'),\n",
       "            (10002, '2010-01'),\n",
       "            (10002, '2010-02'),\n",
       "            (10002, '2010-03'),\n",
       "            (10002, '2010-04'),\n",
       "            (10002, '2010-05'),\n",
       "            (10002, '2010-06'),\n",
       "            (10002, '2010-07'),\n",
       "            (10002, '2010-08'),\n",
       "            (10002, '2010-09'),\n",
       "            ...\n",
       "            (90214, '2011-01'),\n",
       "            (90214, '2011-02'),\n",
       "            (90214, '2011-03'),\n",
       "            (90214, '2011-04'),\n",
       "            (90214, '2011-05'),\n",
       "            (90214, '2011-06'),\n",
       "            (90214, '2011-07'),\n",
       "            (90214, '2011-09'),\n",
       "            (90214, '2011-10'),\n",
       "            (90214, '2011-11')],\n",
       "           names=['prod_unique_id', 'y_m'], length=52426)"
      ]
     },
     "execution_count": 100,
     "metadata": {},
     "output_type": "execute_result"
    }
   ],
   "source": [
    "time_product.index"
   ]
  },
  {
   "cell_type": "code",
   "execution_count": 115,
   "id": "1426171b",
   "metadata": {},
   "outputs": [],
   "source": [
    "def get_timeseries_graph_by_prod_id(prod_id):\n",
    "    data_filtered = time_product.xs(prod_id)\n",
    "    plt.plot(data_filtered.index, data_filtered.total, label=str(prod_id))\n",
    "    "
   ]
  },
  {
   "cell_type": "code",
   "execution_count": 130,
   "id": "2cfef1be",
   "metadata": {},
   "outputs": [
    {
     "data": {
      "image/png": "[encoded data removed]",
      "text/plain": [
       "<Figure size 1440x1080 with 1 Axes>"
      ]
     },
     "metadata": {
      "needs_background": "light"
     },
     "output_type": "display_data"
    }
   ],
   "source": [
    "# [22386, 79321, 22086, 15056, 84997, 47566, 84879, 85123, 22423, 85099]\n",
    "plt.figure(figsize=(20, 15))\n",
    "for i in [84997, 47566, 84879, 85123, 22423, 85099]:\n",
    "    get_timeseries_graph_by_prod_id(i)\n",
    "    plt.legend()"
   ]
  },
  {
   "cell_type": "markdown",
   "id": "60f9b415",
   "metadata": {},
   "source": [
    "## 도매상 찾기"
   ]
  },
  {
   "cell_type": "code",
   "execution_count": 26,
   "id": "cdd69d6d",
   "metadata": {},
   "outputs": [],
   "source": [
    "monthly_customer = train_csv_valid_prod.groupby(['customer_id', 'y_m'])['total'].sum()"
   ]
  },
  {
   "cell_type": "code",
   "execution_count": 33,
   "id": "689f9dc3",
   "metadata": {},
   "outputs": [],
   "source": [
    "customer_total = train_csv_valid_prod.groupby('customer_id')['total'].sum()"
   ]
  },
  {
   "cell_type": "code",
   "execution_count": 34,
   "id": "85632976",
   "metadata": {},
   "outputs": [],
   "source": [
    "customer_total = customer_total.sort_values()"
   ]
  },
  {
   "cell_type": "code",
   "execution_count": 36,
   "id": "c8a5942f",
   "metadata": {},
   "outputs": [
    {
     "data": {
      "text/plain": [
       "customer_id\n",
       "17450    382934.4915\n",
       "14911    415298.4990\n",
       "14156    491328.7665\n",
       "14646    843933.2880\n",
       "18102    935423.1150\n",
       "Name: total, dtype: float64"
      ]
     },
     "execution_count": 36,
     "metadata": {},
     "output_type": "execute_result"
    }
   ],
   "source": [
    "customer_total[-5:]"
   ]
  },
  {
   "cell_type": "code",
   "execution_count": 44,
   "id": "5a0a43bd",
   "metadata": {
    "collapsed": true,
    "jupyter": {
     "outputs_hidden": true
    },
    "tags": []
   },
   "outputs": [
    {
     "name": "stdout",
     "output_type": "stream",
     "text": [
      "y_m\n",
      "2009-12    67659.4710\n",
      "2010-01    63616.2450\n",
      "2010-02    37493.6100\n",
      "2010-03    35004.9315\n",
      "2010-04    27384.3075\n",
      "2010-05    21737.5125\n",
      "2010-06    25326.8730\n",
      "2010-07    84689.4015\n",
      "2010-08    76752.0435\n",
      "2010-10    49822.6740\n",
      "2010-11    36452.6415\n",
      "2010-12    45927.1065\n",
      "2011-02    17383.5420\n",
      "2011-03    11400.3780\n",
      "2011-04     1974.9840\n",
      "2011-05    29973.4710\n",
      "2011-06    69233.0760\n",
      "2011-07    37867.1040\n",
      "2011-08     1626.7680\n",
      "2011-09    81876.5970\n",
      "2011-10    86924.0955\n",
      "2011-11    25296.2820\n",
      "Name: total, dtype: float64\n",
      "y_m\n",
      "2009-12    24075.9255\n",
      "2010-01    47631.0780\n",
      "2010-02    27411.2685\n",
      "2010-03    38420.1510\n",
      "2010-04     5632.2915\n",
      "2010-05    29703.3000\n",
      "2010-06    38767.6080\n",
      "2010-07     6153.9390\n",
      "2010-08    38002.6020\n",
      "2010-09    70260.2835\n",
      "2010-10    26512.6620\n",
      "2010-11    50729.6790\n",
      "2010-12    14151.8520\n",
      "2011-01    43686.5220\n",
      "2011-02    37368.3090\n",
      "2011-03    35190.2100\n",
      "2011-04     4762.8240\n",
      "2011-05    46596.2310\n",
      "2011-06    41726.8335\n",
      "2011-07       18.1830\n",
      "2011-08    65946.8865\n",
      "2011-09    43990.1550\n",
      "2011-10    65572.5675\n",
      "2011-11    41621.9265\n",
      "Name: total, dtype: float64\n",
      "y_m\n",
      "2009-12    18025.7880\n",
      "2010-01    79504.4250\n",
      "2010-02    16078.4580\n",
      "2010-03    17184.4695\n",
      "2010-04    23666.2140\n",
      "2010-05    12446.3460\n",
      "2010-06    17471.5035\n",
      "2010-07    35576.4255\n",
      "2010-08    26324.4960\n",
      "2010-09    20911.0440\n",
      "2010-10    19435.5315\n",
      "2010-11    17122.5450\n",
      "2010-12      519.2550\n",
      "2011-01    27678.2880\n",
      "2011-02    10051.0245\n",
      "2011-03    15987.9555\n",
      "2011-04     4781.9970\n",
      "2011-05     8930.0970\n",
      "2011-06    16017.8535\n",
      "2011-07    43502.2335\n",
      "2011-08     7940.3610\n",
      "2011-09    31900.3080\n",
      "2011-10     9527.6445\n",
      "2011-11    10744.5030\n",
      "Name: total, dtype: float64\n",
      "y_m\n",
      "2009-12    10022.0010\n",
      "2010-01    14312.2155\n",
      "2010-02    14193.1515\n",
      "2010-03    17106.6225\n",
      "2010-04     7171.5765\n",
      "2010-05    17118.2715\n",
      "2010-06    19130.0505\n",
      "2010-07    12553.0515\n",
      "2010-08     9000.0735\n",
      "2010-09    28901.9445\n",
      "2010-10    39820.3410\n",
      "2010-11    24765.1140\n",
      "2010-12    10736.7645\n",
      "2011-01     7832.2200\n",
      "2011-02     2137.3935\n",
      "2011-03    10977.5325\n",
      "2011-04     7214.3280\n",
      "2011-05    15005.4795\n",
      "2011-06    15988.5000\n",
      "2011-07    21523.1445\n",
      "2011-08    11986.9200\n",
      "2011-09    33815.6280\n",
      "2011-10    28080.1785\n",
      "2011-11    35905.9965\n",
      "Name: total, dtype: float64\n"
     ]
    }
   ],
   "source": [
    "print(monthly_customer.xs(18102))\n",
    "print(monthly_customer.xs(14646))\n",
    "print(monthly_customer.xs(14156))\n",
    "print(monthly_customer.xs(14911))"
   ]
  },
  {
   "cell_type": "code",
   "execution_count": 50,
   "id": "d6e2a778",
   "metadata": {},
   "outputs": [
    {
     "name": "stdout",
     "output_type": "stream",
     "text": [
      "Index(['2009-12', '2010-01', '2010-02', '2010-03', '2010-04', '2010-05',\n",
      "       '2010-06', '2010-07', '2010-08', '2010-10', '2010-11', '2010-12',\n",
      "       '2011-02', '2011-03', '2011-04', '2011-05', '2011-06', '2011-07',\n",
      "       '2011-08', '2011-09', '2011-10', '2011-11'],\n",
      "      dtype='object', name='y_m')\n"
     ]
    }
   ],
   "source": [
    "print(monthly_customer.xs(18102).index)"
   ]
  },
  {
   "cell_type": "code",
   "execution_count": 51,
   "id": "382e7b91",
   "metadata": {},
   "outputs": [
    {
     "data": {
      "text/plain": [
       "Index(['2009-12', '2010-01', '2010-02', '2010-03', '2010-04', '2010-05',\n",
       "       '2010-06', '2010-07', '2010-08', '2010-09', '2010-10', '2010-11',\n",
       "       '2010-12', '2011-01', '2011-02', '2011-03', '2011-04', '2011-05',\n",
       "       '2011-06', '2011-07', '2011-08', '2011-09', '2011-10', '2011-11'],\n",
       "      dtype='object', name='y_m')"
      ]
     },
     "execution_count": 51,
     "metadata": {},
     "output_type": "execute_result"
    }
   ],
   "source": [
    "monthly_customer.xs(14646).index"
   ]
  },
  {
   "cell_type": "code",
   "execution_count": 53,
   "id": "27e6a132",
   "metadata": {},
   "outputs": [],
   "source": [
    "test_14646 = monthly_customer.xs(14646)"
   ]
  },
  {
   "cell_type": "code",
   "execution_count": 54,
   "id": "179b9111",
   "metadata": {},
   "outputs": [
    {
     "data": {
      "text/plain": [
       "24075.925499999998"
      ]
     },
     "execution_count": 54,
     "metadata": {},
     "output_type": "execute_result"
    }
   ],
   "source": [
    "test_14646['2009-12']"
   ]
  },
  {
   "cell_type": "code",
   "execution_count": 55,
   "id": "b4a086e8",
   "metadata": {
    "tags": []
   },
   "outputs": [
    {
     "data": {
      "image/png": "[encoded data removed]",
      "text/plain": [
       "<Figure size 1440x1080 with 1 Axes>"
      ]
     },
     "metadata": {
      "needs_background": "light"
     },
     "output_type": "display_data"
    }
   ],
   "source": [
    "plt.figure(figsize=(20, 15))\n",
    "\n",
    "def plot_monthly_total(customer_id_list):\n",
    "    index_list = [\n",
    "        '2009-12', '2010-01', '2010-02', '2010-03', '2010-04', '2010-05', '2010-06', '2010-07', '2010-08', '2010-09', '2010-10', '2010-11',\n",
    "        '2010-12', '2011-01', '2011-02', '2011-03', '2011-04', '2011-05', '2011-06', '2011-07', '2011-08', '2011-09', '2011-10', '2011-11'\n",
    "    ]\n",
    "    for cust_id in customer_id_list:\n",
    "        now_data = []\n",
    "        monthly_pd = monthly_customer.xs(cust_id)\n",
    "        for idx in index_list:\n",
    "            try:\n",
    "                indexed_d = monthly_pd[idx]\n",
    "                now_data.append(indexed_d)\n",
    "            except:\n",
    "                now_data.append(0)\n",
    "        plt.plot(index_list, now_data, label=str(cust_id))\n",
    "    plt.legend()\n",
    "\n",
    "        \n",
    "plot_monthly_total([18102, 14646, 14156, 14911, 17450])\n"
   ]
  },
  {
   "cell_type": "code",
   "execution_count": null,
   "id": "2e652cb3",
   "metadata": {},
   "outputs": [],
   "source": []
  },
  {
   "cell_type": "markdown",
   "id": "07a49f6a",
   "metadata": {},
   "source": [
    "## 같이 발생하는 구매 품목(co-occurrence)"
   ]
  },
  {
   "cell_type": "markdown",
   "id": "3d5536e0",
   "metadata": {},
   "source": [
    "### gensim을 이용한 word2vec"
   ]
  },
  {
   "cell_type": "code",
   "execution_count": 56,
   "id": "2cee1274",
   "metadata": {},
   "outputs": [],
   "source": [
    "order_list = train_csv_valid_prod['order_id'].copy()"
   ]
  },
  {
   "cell_type": "code",
   "execution_count": 57,
   "id": "85da177d",
   "metadata": {},
   "outputs": [],
   "source": [
    "order_list = list(set(order_list))"
   ]
  },
  {
   "cell_type": "code",
   "execution_count": 58,
   "id": "cc08b252",
   "metadata": {},
   "outputs": [
    {
     "data": {
      "text/plain": [
       "42967"
      ]
     },
     "execution_count": 58,
     "metadata": {},
     "output_type": "execute_result"
    }
   ],
   "source": [
    "len(order_list)"
   ]
  },
  {
   "cell_type": "code",
   "execution_count": 265,
   "id": "487989dc",
   "metadata": {},
   "outputs": [
    {
     "data": {
      "text/plain": [
       "str"
      ]
     },
     "execution_count": 265,
     "metadata": {},
     "output_type": "execute_result"
    }
   ],
   "source": [
    "type(order_list[0])"
   ]
  },
  {
   "cell_type": "code",
   "execution_count": 266,
   "id": "283a4aaf",
   "metadata": {},
   "outputs": [],
   "source": [
    "order_dict = {}\n",
    "for idx in order_list:\n",
    "    order_dict[idx] = []"
   ]
  },
  {
   "cell_type": "code",
   "execution_count": 150,
   "id": "8177bd92",
   "metadata": {},
   "outputs": [
    {
     "name": "stdout",
     "output_type": "stream",
     "text": [
      "489434\n",
      "<class 'str'>\n"
     ]
    }
   ],
   "source": [
    "for i, prod_id in enumerate(train_csv_valid_prod['prod_unique_id']):\n",
    "    print(train_csv_valid_prod['order_id'][i])\n",
    "    print(type(train_csv_valid_prod['order_id'][i]))\n",
    "    break"
   ]
  },
  {
   "cell_type": "code",
   "execution_count": 151,
   "id": "9df96d91",
   "metadata": {},
   "outputs": [],
   "source": [
    "error_info = []\n",
    "\n",
    "for i, zip_out in enumerate(zip(train_csv_valid_prod['order_id'], train_csv_valid_prod['prod_unique_id'])):\n",
    "    order_id, prod_id = zip_out\n",
    "    try:\n",
    "        order_dict[order_id].append(prod_id)\n",
    "    except:\n",
    "        error_info.append((order_id, prod_id))"
   ]
  },
  {
   "cell_type": "code",
   "execution_count": 152,
   "id": "8dd553d6",
   "metadata": {},
   "outputs": [
    {
     "data": {
      "text/plain": [
       "[]"
      ]
     },
     "execution_count": 152,
     "metadata": {},
     "output_type": "execute_result"
    }
   ],
   "source": [
    "error_info"
   ]
  },
  {
   "cell_type": "code",
   "execution_count": 154,
   "id": "3a090ec6",
   "metadata": {},
   "outputs": [
    {
     "data": {
      "text/plain": [
       "541"
      ]
     },
     "execution_count": 154,
     "metadata": {},
     "output_type": "execute_result"
    }
   ],
   "source": [
    "order_detail_list = [(k, v) for k, v in order_dict.items()]\n",
    "max_len_order = max(order_detail_list, key=lambda x: len(x[1]))\n",
    "len(max_len_order[1])"
   ]
  },
  {
   "cell_type": "code",
   "execution_count": 167,
   "id": "0aef4a6c",
   "metadata": {},
   "outputs": [],
   "source": [
    "order_co_occur = [x[1] for x in order_detail_list]"
   ]
  },
  {
   "cell_type": "code",
   "execution_count": 258,
   "id": "721aff43",
   "metadata": {},
   "outputs": [
    {
     "data": {
      "text/plain": [
       "[<matplotlib.lines.Line2D at 0x7ff8b48d3cd0>]"
      ]
     },
     "execution_count": 258,
     "metadata": {},
     "output_type": "execute_result"
    },
    {
     "data": {
      "image/png": "[encoded data removed]",
      "text/plain": [
       "<Figure size 432x288 with 1 Axes>"
      ]
     },
     "metadata": {
      "needs_background": "light"
     },
     "output_type": "display_data"
    }
   ],
   "source": [
    "order_len_list = [len(x[1]) for x in order_detail_list]\n",
    "order_len_list.sort()\n",
    "\n",
    "plt.plot(order_len_list)"
   ]
  },
  {
   "cell_type": "code",
   "execution_count": 259,
   "id": "aa660634",
   "metadata": {},
   "outputs": [
    {
     "data": {
      "text/plain": [
       "(array([3.3929e+04, 6.4970e+03, 1.7010e+03, 5.2300e+02, 1.8400e+02,\n",
       "        7.3000e+01, 2.2000e+01, 1.2000e+01, 7.0000e+00, 5.0000e+00,\n",
       "        3.0000e+00, 0.0000e+00, 2.0000e+00, 3.0000e+00, 1.0000e+00,\n",
       "        1.0000e+00, 2.0000e+00, 0.0000e+00, 0.0000e+00, 2.0000e+00]),\n",
       " array([  1.,  28.,  55.,  82., 109., 136., 163., 190., 217., 244., 271.,\n",
       "        298., 325., 352., 379., 406., 433., 460., 487., 514., 541.]),\n",
       " <a list of 20 Patch objects>)"
      ]
     },
     "execution_count": 259,
     "metadata": {},
     "output_type": "execute_result"
    },
    {
     "data": {
      "image/png": "[encoded data removed]",
      "text/plain": [
       "<Figure size 432x288 with 1 Axes>"
      ]
     },
     "metadata": {
      "needs_background": "light"
     },
     "output_type": "display_data"
    }
   ],
   "source": [
    "plt.hist(order_len_list, bins=20)"
   ]
  },
  {
   "cell_type": "code",
   "execution_count": 260,
   "id": "69919b82",
   "metadata": {},
   "outputs": [
    {
     "data": {
      "text/plain": [
       "count    42967.000000\n",
       "mean        18.081621\n",
       "std         22.004954\n",
       "min          1.000000\n",
       "25%          3.000000\n",
       "50%         12.000000\n",
       "75%         24.000000\n",
       "max        541.000000\n",
       "dtype: float64"
      ]
     },
     "execution_count": 260,
     "metadata": {},
     "output_type": "execute_result"
    }
   ],
   "source": [
    "order_len_list = pd.Series(order_len_list)\n",
    "order_len_list.describe()"
   ]
  },
  {
   "cell_type": "code",
   "execution_count": 261,
   "id": "6bc9f07d",
   "metadata": {},
   "outputs": [
    {
     "name": "stdout",
     "output_type": "stream",
     "text": [
      "order size larger than 0:\t\t=>\t42967\n",
      "order size larger than 50:\t\t=>\t3044\n",
      "order size larger than 100:\t\t=>\t419\n",
      "order size larger than 150:\t\t=>\t84\n",
      "order size larger than 200:\t\t=>\t30\n",
      "order size larger than 250:\t\t=>\t17\n",
      "order size larger than 300:\t\t=>\t11\n",
      "order size larger than 350:\t\t=>\t10\n",
      "order size larger than 400:\t\t=>\t5\n",
      "order size larger than 450:\t\t=>\t2\n",
      "order size larger than 500:\t\t=>\t2\n"
     ]
    }
   ],
   "source": [
    "for i in range(0, 11):\n",
    "    print(f\"order size larger than {i*50}:\\t\\t=>\\t{(order_len_list>(i*50)).sum()}\")"
   ]
  },
  {
   "cell_type": "code",
   "execution_count": 212,
   "id": "8d1641b6",
   "metadata": {},
   "outputs": [],
   "source": [
    "w2v = gensim.models.Word2Vec(order_co_occur, window=541)"
   ]
  },
  {
   "cell_type": "code",
   "execution_count": 207,
   "id": "9ad35bbd",
   "metadata": {},
   "outputs": [
    {
     "name": "stdout",
     "output_type": "stream",
     "text": [
      "[(21929, 0.8845006227493286), (21931, 0.8674982190132141), (20711, 0.8595038056373596), (22386, 0.8586928248405457), (21928, 0.8524977564811707), (22411, 0.8474306464195251), (20713, 0.8398905992507935), (22385, 0.8067666292190552), (21930, 0.7985820770263672), (22663, 0.7276152968406677), (20712, 0.7208003997802734), (23203, 0.6445945501327515), (22381, 0.6213219165802002), (22379, 0.612568199634552), (21033, 0.6106753349304199), (23200, 0.5866789221763611), (22380, 0.5817628502845764), (23201, 0.5697305798530579), (20718, 0.5654586553573608), (23202, 0.5654529333114624), (20717, 0.5393975973129272), (23199, 0.5392966270446777), (21428, 0.5132777690887451), (22377, 0.5029512643814087), (22356, 0.4981619119644165), (21936, 0.4916048049926758), (22384, 0.4845964014530182), (20724, 0.48337477445602417), (22189, 0.4612831771373749), (22355, 0.4585167467594147)]\n"
     ]
    }
   ],
   "source": [
    "test_sim = w2v.wv.most_similar(85099, topn=30)\n",
    "print(test_sim)"
   ]
  },
  {
   "cell_type": "code",
   "execution_count": 208,
   "id": "560d6ce9",
   "metadata": {},
   "outputs": [],
   "source": [
    "def cal_co_occur(prod_id):\n",
    "    co_occur_cnt = {}\n",
    "    for i in order_co_occur:\n",
    "        if prod_id in i:\n",
    "            for j in i:\n",
    "                try:\n",
    "                    co_occur_cnt[j] += 1\n",
    "                except:\n",
    "                    co_occur_cnt[j] = 1\n",
    "    co_occur_list = [(k, v) for k, v in co_occur_cnt.items()]\n",
    "    co_occur_list = sorted(co_occur_list, key = lambda x: x[1], reverse=True)\n",
    "    return co_occur_list"
   ]
  },
  {
   "cell_type": "code",
   "execution_count": 209,
   "id": "34d42364",
   "metadata": {},
   "outputs": [],
   "source": [
    "test_85099 = cal_co_occur(85099)"
   ]
  },
  {
   "cell_type": "code",
   "execution_count": 210,
   "id": "3885f197",
   "metadata": {},
   "outputs": [
    {
     "data": {
      "text/plain": [
       "[(85099, 6338),\n",
       " (22386, 1328),\n",
       " (21931, 1163),\n",
       " (22411, 1043),\n",
       " (20725, 1038),\n",
       " (84997, 927),\n",
       " (21929, 878),\n",
       " (21928, 862),\n",
       " (85123, 855),\n",
       " (22383, 736)]"
      ]
     },
     "execution_count": 210,
     "metadata": {},
     "output_type": "execute_result"
    }
   ],
   "source": [
    "test_85099[:10]"
   ]
  },
  {
   "cell_type": "code",
   "execution_count": 211,
   "id": "7ef05f06",
   "metadata": {},
   "outputs": [
    {
     "name": "stdout",
     "output_type": "stream",
     "text": [
      "22386 is founded.\n",
      "21931 is founded.\n",
      "22411 is founded.\n",
      "21929 is founded.\n",
      "21928 is founded.\n",
      "22384 is founded.\n"
     ]
    }
   ],
   "source": [
    "for i in range(1, 11):\n",
    "    for j in range(30):\n",
    "        if test_85099[i][0] == test_sim[j][0]:\n",
    "            print(f\"{test_85099[i][0]} is founded.\")\n",
    "            break\n",
    "        "
   ]
  },
  {
   "cell_type": "markdown",
   "id": "80fb4941",
   "metadata": {},
   "source": [
    "### glove로 표현하기"
   ]
  },
  {
   "cell_type": "code",
   "execution_count": 215,
   "id": "7afaff94",
   "metadata": {},
   "outputs": [
    {
     "name": "stdout",
     "output_type": "stream",
     "text": [
      "Collecting glove-python-binary\n",
      "  Downloading glove_python_binary-0.2.0-cp37-cp37m-manylinux1_x86_64.whl (948 kB)\n",
      "\u001b[K     |████████████████████████████████| 948 kB 520 kB/s eta 0:00:01\n",
      "\u001b[?25hRequirement already satisfied: scipy in /opt/conda/lib/python3.7/site-packages (from glove-python-binary) (1.6.2)\n",
      "Requirement already satisfied: numpy in /opt/conda/lib/python3.7/site-packages (from glove-python-binary) (1.19.5)\n",
      "Installing collected packages: glove-python-binary\n",
      "Successfully installed glove-python-binary-0.2.0\n"
     ]
    }
   ],
   "source": [
    "!pip install glove-python-binary"
   ]
  },
  {
   "cell_type": "code",
   "execution_count": 216,
   "id": "85424587",
   "metadata": {},
   "outputs": [],
   "source": [
    "import glove"
   ]
  },
  {
   "cell_type": "code",
   "execution_count": 217,
   "id": "9c872f83",
   "metadata": {},
   "outputs": [
    {
     "data": {
      "text/plain": [
       "[22780, 22892, 22632]"
      ]
     },
     "execution_count": 217,
     "metadata": {},
     "output_type": "execute_result"
    }
   ],
   "source": [
    "order_co_occur[0]"
   ]
  },
  {
   "cell_type": "code",
   "execution_count": 218,
   "id": "6aed093c",
   "metadata": {},
   "outputs": [],
   "source": [
    "# order_co_occur: 공기정보를 추출할 수 있는 리스트의 리스트\n",
    "# window: 윈도우 사이즈\n",
    "\n",
    "corpus = glove.Corpus()\n",
    "corpus.fit(order_co_occur, window=542)"
   ]
  },
  {
   "cell_type": "code",
   "execution_count": 221,
   "id": "0e756b42",
   "metadata": {},
   "outputs": [
    {
     "data": {
      "text/plain": [
       "<3873x3873 sparse matrix of type '<class 'numpy.float64'>'\n",
       "\twith 4352579 stored elements in COOrdinate format>"
      ]
     },
     "execution_count": 221,
     "metadata": {},
     "output_type": "execute_result"
    }
   ],
   "source": [
    "corpus.matrix"
   ]
  },
  {
   "cell_type": "code",
   "execution_count": 223,
   "id": "60b18660",
   "metadata": {},
   "outputs": [],
   "source": [
    "# no_components: 임베딩 차원\n",
    "# learning_rage: 학습률\n",
    "# epochs: 학습시킬 이퍽 수\n",
    "# no_threads: 사용 스레드 갯수\n",
    "\n",
    "\n",
    "res_glove = glove.Glove(no_components=128, learning_rate = 1e-3)\n",
    "res_glove.fit(corpus.matrix, epochs=50, no_threads=2)"
   ]
  },
  {
   "cell_type": "code",
   "execution_count": 224,
   "id": "692a14a0",
   "metadata": {
    "collapsed": true,
    "jupyter": {
     "outputs_hidden": true
    },
    "tags": []
   },
   "outputs": [
    {
     "data": {
      "text/plain": [
       "{22780: 0,\n",
       " 22892: 1,\n",
       " 22632: 2,\n",
       " 20713: 3,\n",
       " 22668: 4,\n",
       " 22185: 5,\n",
       " 37476: 6,\n",
       " 22130: 7,\n",
       " 20749: 8,\n",
       " 47599: 9,\n",
       " 21667: 10,\n",
       " 22580: 11,\n",
       " 22837: 12,\n",
       " 22941: 13,\n",
       " 21809: 14,\n",
       " 21810: 15,\n",
       " 21811: 16,\n",
       " 22616: 17,\n",
       " 22944: 18,\n",
       " 48185: 19,\n",
       " 48184: 20,\n",
       " 21524: 21,\n",
       " 20685: 22,\n",
       " 22191: 23,\n",
       " 85099: 24,\n",
       " 48111: 25,\n",
       " 48194: 26,\n",
       " 21936: 27,\n",
       " 21937: 28,\n",
       " 22411: 29,\n",
       " 20728: 30,\n",
       " 22383: 31,\n",
       " 22384: 32,\n",
       " 22636: 33,\n",
       " 22634: 34,\n",
       " 22417: 35,\n",
       " 21213: 36,\n",
       " 21977: 37,\n",
       " 22951: 38,\n",
       " 23307: 39,\n",
       " 23309: 40,\n",
       " 84991: 41,\n",
       " 21210: 42,\n",
       " 21974: 43,\n",
       " 23306: 44,\n",
       " 22416: 45,\n",
       " 84987: 46,\n",
       " 22949: 47,\n",
       " 84988: 48,\n",
       " 21972: 49,\n",
       " 22423: 50,\n",
       " 22844: 51,\n",
       " 22852: 52,\n",
       " 22180: 53,\n",
       " 20914: 54,\n",
       " 22278: 55,\n",
       " 20726: 56,\n",
       " 20725: 57,\n",
       " 22328: 58,\n",
       " 22752: 59,\n",
       " 22801: 60,\n",
       " 22842: 61,\n",
       " 22840: 62,\n",
       " 22798: 63,\n",
       " 22782: 64,\n",
       " 22783: 65,\n",
       " 22511: 66,\n",
       " 22512: 67,\n",
       " 22223: 68,\n",
       " 22222: 69,\n",
       " 22108: 70,\n",
       " 21112: 71,\n",
       " 21111: 72,\n",
       " 21110: 73,\n",
       " 21109: 74,\n",
       " 85184: 75,\n",
       " 85173: 76,\n",
       " 85174: 77,\n",
       " 85059: 78,\n",
       " 85054: 79,\n",
       " 20802: 80,\n",
       " 85036: 81,\n",
       " 85035: 82,\n",
       " 85034: 83,\n",
       " 84823: 84,\n",
       " 84820: 85,\n",
       " 84818: 86,\n",
       " 84817: 87,\n",
       " 84819: 88,\n",
       " 84813: 89,\n",
       " 37342: 90,\n",
       " 22643: 91,\n",
       " 22641: 92,\n",
       " 22640: 93,\n",
       " 22394: 94,\n",
       " 22393: 95,\n",
       " 22391: 96,\n",
       " 22390: 97,\n",
       " 22263: 98,\n",
       " 22264: 99,\n",
       " 22259: 100,\n",
       " 22258: 101,\n",
       " 22190: 102,\n",
       " 21774: 103,\n",
       " 21773: 104,\n",
       " 21619: 105,\n",
       " 21616: 106,\n",
       " 21617: 107,\n",
       " 21618: 108,\n",
       " 21615: 109,\n",
       " 21620: 110,\n",
       " 20705: 111,\n",
       " 20704: 112,\n",
       " 10135: 113,\n",
       " 20803: 114,\n",
       " 22622: 115,\n",
       " 21137: 116,\n",
       " 21534: 117,\n",
       " 72741: 118,\n",
       " 21108: 119,\n",
       " 21837: 120,\n",
       " 15060: 121,\n",
       " 21784: 122,\n",
       " 84676: 123,\n",
       " 21484: 124,\n",
       " 21398: 125,\n",
       " 22138: 126,\n",
       " 84946: 127,\n",
       " 35001: 128,\n",
       " 21549: 129,\n",
       " 20753: 130,\n",
       " 21757: 131,\n",
       " 84279: 132,\n",
       " 21127: 133,\n",
       " 37422: 134,\n",
       " 22139: 135,\n",
       " 22617: 136,\n",
       " 22995: 137,\n",
       " 22997: 138,\n",
       " 23004: 139,\n",
       " 23000: 140,\n",
       " 22998: 141,\n",
       " 23002: 142,\n",
       " 82581: 143,\n",
       " 82580: 144,\n",
       " 21668: 145,\n",
       " 21212: 146,\n",
       " 21479: 147,\n",
       " 21417: 148,\n",
       " 21326: 149,\n",
       " 22693: 150,\n",
       " 21671: 151,\n",
       " 21672: 152,\n",
       " 21670: 153,\n",
       " 21754: 154,\n",
       " 22627: 155,\n",
       " 22624: 156,\n",
       " 22386: 157,\n",
       " 20727: 158,\n",
       " 21394: 159,\n",
       " 21395: 160,\n",
       " 21845: 161,\n",
       " 84944: 162,\n",
       " 23103: 163,\n",
       " 22845: 164,\n",
       " 22485: 165,\n",
       " 21260: 166,\n",
       " 85049: 167,\n",
       " 23245: 168,\n",
       " 22946: 169,\n",
       " 21116: 170,\n",
       " 22508: 171,\n",
       " 21878: 172,\n",
       " 22663: 173,\n",
       " 21931: 174,\n",
       " 20711: 175,\n",
       " 22487: 176,\n",
       " 22273: 177,\n",
       " 22749: 178,\n",
       " 22751: 179,\n",
       " 22274: 180,\n",
       " 22271: 181,\n",
       " 47590: 182,\n",
       " 20972: 183,\n",
       " 22147: 184,\n",
       " 22176: 185,\n",
       " 22175: 186,\n",
       " 22086: 187,\n",
       " 22327: 188,\n",
       " 22158: 189,\n",
       " 22096: 190,\n",
       " 22303: 191,\n",
       " 21658: 192,\n",
       " 22143: 193,\n",
       " 21843: 194,\n",
       " 84692: 195,\n",
       " 21976: 196,\n",
       " 21975: 197,\n",
       " 22592: 198,\n",
       " 22154: 199,\n",
       " 22161: 200,\n",
       " 22152: 201,\n",
       " 22157: 202,\n",
       " 22155: 203,\n",
       " 22593: 204,\n",
       " 84880: 205,\n",
       " 22220: 206,\n",
       " 37449: 207,\n",
       " 23295: 208,\n",
       " 23293: 209,\n",
       " 22021: 210,\n",
       " 85206: 211,\n",
       " 21539: 212,\n",
       " 21217: 213,\n",
       " 21844: 214,\n",
       " 22467: 215,\n",
       " 15056: 216,\n",
       " 22660: 217,\n",
       " 21537: 218,\n",
       " 21531: 219,\n",
       " 21535: 220,\n",
       " 20754: 221,\n",
       " 35004: 222,\n",
       " 21216: 223,\n",
       " 22625: 224,\n",
       " 21421: 225,\n",
       " 21533: 226,\n",
       " 82582: 227,\n",
       " 22178: 228,\n",
       " 71477: 229,\n",
       " 22502: 230,\n",
       " 22570: 231,\n",
       " 21363: 232,\n",
       " 22495: 233,\n",
       " 22496: 234,\n",
       " 35991: 235,\n",
       " 21232: 236,\n",
       " 21231: 237,\n",
       " 20950: 238,\n",
       " 22118: 239,\n",
       " 22329: 240,\n",
       " 35838: 241,\n",
       " 72586: 242,\n",
       " 21474: 243,\n",
       " 85172: 244,\n",
       " 85175: 245,\n",
       " 21034: 246,\n",
       " 20718: 247,\n",
       " 22528: 248,\n",
       " 84760: 249,\n",
       " 21781: 250,\n",
       " 35095: 251,\n",
       " 22535: 252,\n",
       " 22536: 253,\n",
       " 22532: 254,\n",
       " 84077: 255,\n",
       " 21703: 256,\n",
       " 22217: 257,\n",
       " 84949: 258,\n",
       " 22672: 259,\n",
       " 82552: 260,\n",
       " 22227: 261,\n",
       " 22335: 262,\n",
       " 84755: 263,\n",
       " 82551: 264,\n",
       " 85040: 265,\n",
       " 84950: 266,\n",
       " 22727: 267,\n",
       " 22415: 268,\n",
       " 21733: 269,\n",
       " 85123: 270,\n",
       " 22291: 271,\n",
       " 22318: 272,\n",
       " 21924: 273,\n",
       " 22296: 274,\n",
       " 22297: 275,\n",
       " 22295: 276,\n",
       " 22294: 277,\n",
       " 84836: 278,\n",
       " 21390: 279,\n",
       " 84971: 280,\n",
       " 22457: 281,\n",
       " 22189: 282,\n",
       " 21283: 283,\n",
       " 21282: 284,\n",
       " 22179: 285,\n",
       " 22468: 286,\n",
       " 48138: 287,\n",
       " 22473: 288,\n",
       " 35961: 289,\n",
       " 20975: 290,\n",
       " 20974: 291,\n",
       " 84536: 292,\n",
       " 21038: 293,\n",
       " 22030: 294,\n",
       " 22983: 295,\n",
       " 21430: 296,\n",
       " 22382: 297,\n",
       " 21877: 298,\n",
       " 21875: 299,\n",
       " 21067: 300,\n",
       " 21066: 301,\n",
       " 22695: 302,\n",
       " 22084: 303,\n",
       " 22085: 304,\n",
       " 22083: 305,\n",
       " 22212: 306,\n",
       " 84406: 307,\n",
       " 22120: 308,\n",
       " 21755: 309,\n",
       " 21929: 310,\n",
       " 23184: 311,\n",
       " 21908: 312,\n",
       " 21907: 313,\n",
       " 21181: 314,\n",
       " 21166: 315,\n",
       " 22115: 316,\n",
       " 22413: 317,\n",
       " 22117: 318,\n",
       " 21175: 319,\n",
       " 21164: 320,\n",
       " 82599: 321,\n",
       " 82600: 322,\n",
       " 21169: 323,\n",
       " 21905: 324,\n",
       " 47566: 325,\n",
       " 22499: 326,\n",
       " 84849: 327,\n",
       " 21157: 328,\n",
       " 21527: 329,\n",
       " 20677: 330,\n",
       " 48187: 331,\n",
       " 21639: 332,\n",
       " 21933: 333,\n",
       " 22378: 334,\n",
       " 22662: 335,\n",
       " 22377: 336,\n",
       " 22381: 337,\n",
       " 22829: 338,\n",
       " 21932: 339,\n",
       " 84078: 340,\n",
       " 72008: 341,\n",
       " 85104: 342,\n",
       " 48129: 343,\n",
       " 48188: 344,\n",
       " 21621: 345,\n",
       " 22969: 346,\n",
       " 22644: 347,\n",
       " 84912: 348,\n",
       " 21268: 349,\n",
       " 22168: 350,\n",
       " 22080: 351,\n",
       " 35924: 352,\n",
       " 22055: 353,\n",
       " 22629: 354,\n",
       " 22630: 355,\n",
       " 22353: 356,\n",
       " 21558: 357,\n",
       " 22067: 358,\n",
       " 22024: 359,\n",
       " 21509: 360,\n",
       " 22718: 361,\n",
       " 22031: 362,\n",
       " 23005: 363,\n",
       " 21485: 364,\n",
       " 84050: 365,\n",
       " 22064: 366,\n",
       " 22207: 367,\n",
       " 21258: 368,\n",
       " 22142: 369,\n",
       " 22113: 370,\n",
       " 22112: 371,\n",
       " 22111: 372,\n",
       " 22110: 373,\n",
       " 21481: 374,\n",
       " 84792: 375,\n",
       " 22302: 376,\n",
       " 22073: 377,\n",
       " 22300: 378,\n",
       " 21928: 379,\n",
       " 22690: 380,\n",
       " 84879: 381,\n",
       " 22424: 382,\n",
       " 22429: 383,\n",
       " 85053: 384,\n",
       " 22838: 385,\n",
       " 22841: 386,\n",
       " 22843: 387,\n",
       " 22729: 388,\n",
       " 22726: 389,\n",
       " 22730: 390,\n",
       " 22804: 391,\n",
       " 22993: 392,\n",
       " 22980: 393,\n",
       " 22813: 394,\n",
       " 22583: 395,\n",
       " 22584: 396,\n",
       " 22129: 397,\n",
       " 22967: 398,\n",
       " 22860: 399,\n",
       " 22858: 400,\n",
       " 82483: 401,\n",
       " 82486: 402,\n",
       " 22970: 403,\n",
       " 22557: 404,\n",
       " 22551: 405,\n",
       " 22556: 406,\n",
       " 22554: 407,\n",
       " 23128: 408,\n",
       " 23127: 409,\n",
       " 23126: 410,\n",
       " 84029: 411,\n",
       " 21980: 412,\n",
       " 21985: 413,\n",
       " 21982: 414,\n",
       " 21981: 415,\n",
       " 22350: 416,\n",
       " 22349: 417,\n",
       " 84992: 418,\n",
       " 22897: 419,\n",
       " 22725: 420,\n",
       " 22728: 421,\n",
       " 23298: 422,\n",
       " 21136: 423,\n",
       " 85199: 424,\n",
       " 22320: 425,\n",
       " 21114: 426,\n",
       " 23061: 427,\n",
       " 20750: 428,\n",
       " 22460: 429,\n",
       " 23145: 430,\n",
       " 84247: 431,\n",
       " 23174: 432,\n",
       " 23175: 433,\n",
       " 22430: 434,\n",
       " 22425: 435,\n",
       " 22426: 436,\n",
       " 22427: 437,\n",
       " 21790: 438,\n",
       " 22619: 439,\n",
       " 84584: 440,\n",
       " 22483: 441,\n",
       " 22698: 442,\n",
       " 22699: 443,\n",
       " 22697: 444,\n",
       " 22670: 445,\n",
       " 21528: 446,\n",
       " 21706: 447,\n",
       " 85014: 448,\n",
       " 84945: 449,\n",
       " 21201: 450,\n",
       " 21200: 451,\n",
       " 22961: 452,\n",
       " 22673: 453,\n",
       " 22659: 454,\n",
       " 22691: 455,\n",
       " 22631: 456,\n",
       " 22245: 457,\n",
       " 48173: 458,\n",
       " 82484: 459,\n",
       " 82494: 460,\n",
       " 72802: 461,\n",
       " 22794: 462,\n",
       " 84030: 463,\n",
       " 22314: 464,\n",
       " 22219: 465,\n",
       " 21411: 466,\n",
       " 84920: 467,\n",
       " 84507: 468,\n",
       " 22822: 469,\n",
       " 22151: 470,\n",
       " 22215: 471,\n",
       " 85198: 472,\n",
       " 20931: 473,\n",
       " 22167: 474,\n",
       " 21332: 475,\n",
       " 20978: 476,\n",
       " 20979: 477,\n",
       " 23371: 478,\n",
       " 23372: 479,\n",
       " 23370: 480,\n",
       " 23254: 481,\n",
       " 22661: 482,\n",
       " 22899: 483,\n",
       " 22367: 484,\n",
       " 23209: 485,\n",
       " 21731: 486,\n",
       " 23480: 487,\n",
       " 20724: 488,\n",
       " 23205: 489,\n",
       " 22596: 490,\n",
       " 21086: 491,\n",
       " 21094: 492,\n",
       " 22540: 493,\n",
       " 21207: 494,\n",
       " 22964: 495,\n",
       " 22131: 496,\n",
       " 22652: 497,\n",
       " 22654: 498,\n",
       " 22501: 499,\n",
       " 85183: 500,\n",
       " 21469: 501,\n",
       " 22582: 502,\n",
       " 21448: 503,\n",
       " 84520: 504,\n",
       " 21897: 505,\n",
       " 22514: 506,\n",
       " 22516: 507,\n",
       " 21833: 508,\n",
       " 21714: 509,\n",
       " 21317: 510,\n",
       " 20661: 511,\n",
       " 21832: 512,\n",
       " 90214: 513,\n",
       " 72715: 514,\n",
       " 22831: 515,\n",
       " 82482: 516,\n",
       " 22488: 517,\n",
       " 23144: 518,\n",
       " 82583: 519,\n",
       " 84970: 520,\n",
       " 21770: 521,\n",
       " 23148: 522,\n",
       " 21669: 523,\n",
       " 22081: 524,\n",
       " 22082: 525,\n",
       " 22548: 526,\n",
       " 21915: 527,\n",
       " 22555: 528,\n",
       " 22810: 529,\n",
       " 22809: 530,\n",
       " 21813: 531,\n",
       " 21823: 532,\n",
       " 21015: 533,\n",
       " 84352: 534,\n",
       " 21730: 535,\n",
       " 84843: 536,\n",
       " 85103: 537,\n",
       " 48116: 538,\n",
       " 22558: 539,\n",
       " 21500: 540,\n",
       " 21499: 541,\n",
       " 16237: 542,\n",
       " 16156: 543,\n",
       " 22265: 544,\n",
       " 22334: 545,\n",
       " 22332: 546,\n",
       " 22331: 547,\n",
       " 22148: 548,\n",
       " 22242: 549,\n",
       " 84327: 550,\n",
       " 22058: 551,\n",
       " 37448: 552,\n",
       " 84750: 553,\n",
       " 21357: 554,\n",
       " 21356: 555,\n",
       " 22078: 556,\n",
       " 22193: 557,\n",
       " 22626: 558,\n",
       " 22759: 559,\n",
       " 23541: 560,\n",
       " 21742: 561,\n",
       " 21955: 562,\n",
       " 84839: 563,\n",
       " 84977: 564,\n",
       " 85062: 565,\n",
       " 79030: 566,\n",
       " 85106: 567,\n",
       " 18097: 568,\n",
       " 21472: 569,\n",
       " 22436: 570,\n",
       " 22301: 571,\n",
       " 22623: 572,\n",
       " 22606: 573,\n",
       " 22357: 574,\n",
       " 22358: 575,\n",
       " 84865: 576,\n",
       " 16202: 577,\n",
       " 22149: 578,\n",
       " 22561: 579,\n",
       " 22563: 580,\n",
       " 22315: 581,\n",
       " 20857: 582,\n",
       " 20856: 583,\n",
       " 22326: 584,\n",
       " 84990: 585,\n",
       " 21429: 586,\n",
       " 72807: 587,\n",
       " 22431: 588,\n",
       " 22432: 589,\n",
       " 22433: 590,\n",
       " 22197: 591,\n",
       " 21480: 592,\n",
       " 72800: 593,\n",
       " 22116: 594,\n",
       " 22348: 595,\n",
       " 21791: 596,\n",
       " 84754: 597,\n",
       " 21591: 598,\n",
       " 37482: 599,\n",
       " 37485: 600,\n",
       " 85231: 601,\n",
       " 22469: 602,\n",
       " 22470: 603,\n",
       " 84978: 604,\n",
       " 21457: 605,\n",
       " 21458: 606,\n",
       " 20712: 607,\n",
       " 21245: 608,\n",
       " 21243: 609,\n",
       " 21244: 610,\n",
       " 21242: 611,\n",
       " 21241: 612,\n",
       " 21239: 613,\n",
       " 21240: 614,\n",
       " 21080: 615,\n",
       " 84997: 616,\n",
       " 21238: 617,\n",
       " 22272: 618,\n",
       " 20674: 619,\n",
       " 20675: 620,\n",
       " 20676: 621,\n",
       " 22620: 622,\n",
       " 22621: 623,\n",
       " 23202: 624,\n",
       " 23203: 625,\n",
       " 23172: 626,\n",
       " 23171: 627,\n",
       " 23170: 628,\n",
       " 23483: 629,\n",
       " 22224: 630,\n",
       " 22218: 631,\n",
       " 85152: 632,\n",
       " 22365: 633,\n",
       " 48189: 634,\n",
       " 22867: 635,\n",
       " 22820: 636,\n",
       " 22821: 637,\n",
       " 22866: 638,\n",
       " 20866: 639,\n",
       " 22750: 640,\n",
       " 22150: 641,\n",
       " 22145: 642,\n",
       " 16169: 643,\n",
       " 21491: 644,\n",
       " 22940: 645,\n",
       " 21385: 646,\n",
       " 22611: 647,\n",
       " 21624: 648,\n",
       " 22087: 649,\n",
       " 22464: 650,\n",
       " 22781: 651,\n",
       " 22719: 652,\n",
       " 22456: 653,\n",
       " 21523: 654,\n",
       " 20679: 655,\n",
       " 84913: 656,\n",
       " 47505: 657,\n",
       " 22441: 658,\n",
       " 22442: 659,\n",
       " 21899: 660,\n",
       " 21900: 661,\n",
       " 21868: 662,\n",
       " 21869: 663,\n",
       " 22114: 664,\n",
       " 21494: 665,\n",
       " 85097: 666,\n",
       " 22056: 667,\n",
       " 82001: 668,\n",
       " 37447: 669,\n",
       " 22054: 670,\n",
       " 37446: 671,\n",
       " 22199: 672,\n",
       " 22379: 673,\n",
       " 23207: 674,\n",
       " 23201: 675,\n",
       " 23194: 676,\n",
       " 22492: 677,\n",
       " 23133: 678,\n",
       " 22979: 679,\n",
       " 21718: 680,\n",
       " 21896: 681,\n",
       " 21192: 682,\n",
       " 21187: 683,\n",
       " 21889: 684,\n",
       " 72122: 685,\n",
       " 21009: 686,\n",
       " 22639: 687,\n",
       " 22642: 688,\n",
       " 22119: 689,\n",
       " 72815: 690,\n",
       " 71038: 691,\n",
       " 72760: 692,\n",
       " 21340: 693,\n",
       " 21476: 694,\n",
       " 22520: 695,\n",
       " 22522: 696,\n",
       " 22607: 697,\n",
       " 84795: 698,\n",
       " 79029: 699,\n",
       " 21892: 700,\n",
       " 22283: 701,\n",
       " 21874: 702,\n",
       " 22072: 703,\n",
       " 22775: 704,\n",
       " 22772: 705,\n",
       " 23033: 706,\n",
       " 23028: 707,\n",
       " 22805: 708,\n",
       " 23032: 709,\n",
       " 22771: 710,\n",
       " 22269: 711,\n",
       " 22290: 712,\n",
       " 21437: 713,\n",
       " 22247: 714,\n",
       " 22236: 715,\n",
       " 21389: 716,\n",
       " 22241: 717,\n",
       " 20933: 718,\n",
       " 21333: 719,\n",
       " 22192: 720,\n",
       " 21795: 721,\n",
       " 21796: 722,\n",
       " 21498: 723,\n",
       " 22045: 724,\n",
       " 21495: 725,\n",
       " 22553: 726,\n",
       " 40016: 727,\n",
       " 22437: 728,\n",
       " 22523: 729,\n",
       " 22521: 730,\n",
       " 16212: 731,\n",
       " 22434: 732,\n",
       " 47589: 733,\n",
       " 85226: 734,\n",
       " 85227: 735,\n",
       " 20969: 736,\n",
       " 20970: 737,\n",
       " 21100: 738,\n",
       " 21912: 739,\n",
       " 21913: 740,\n",
       " 22061: 741,\n",
       " 22060: 742,\n",
       " 21577: 743,\n",
       " 22653: 744,\n",
       " 21249: 745,\n",
       " 22635: 746,\n",
       " 20670: 747,\n",
       " 22355: 748,\n",
       " 22498: 749,\n",
       " 21904: 750,\n",
       " 22505: 751,\n",
       " 11001: 752,\n",
       " 22419: 753,\n",
       " 22608: 754,\n",
       " 22609: 755,\n",
       " 10125: 756,\n",
       " 10123: 757,\n",
       " 22029: 758,\n",
       " 22171: 759,\n",
       " 22170: 760,\n",
       " 22169: 761,\n",
       " 37502: 762,\n",
       " 71459: 763,\n",
       " 21652: 764,\n",
       " 21898: 765,\n",
       " 21984: 766,\n",
       " 85063: 767,\n",
       " 85065: 768,\n",
       " 84016: 769,\n",
       " 22891: 770,\n",
       " 22960: 771,\n",
       " 22942: 772,\n",
       " 22865: 773,\n",
       " 37503: 774,\n",
       " 84683: 775,\n",
       " 84682: 776,\n",
       " 21422: 777,\n",
       " 22458: 778,\n",
       " 84840: 779,\n",
       " 79071: 780,\n",
       " 20770: 781,\n",
       " 20771: 782,\n",
       " 21765: 783,\n",
       " 22184: 784,\n",
       " 22637: 785,\n",
       " 85232: 786,\n",
       " 22090: 787,\n",
       " 22089: 788,\n",
       " 22709: 789,\n",
       " 23284: 790,\n",
       " 22366: 791,\n",
       " 79321: 792,\n",
       " 22743: 793,\n",
       " 22742: 794,\n",
       " 21715: 795,\n",
       " 84012: 796,\n",
       " 22435: 797,\n",
       " 21789: 798,\n",
       " 21788: 799,\n",
       " 85160: 800,\n",
       " 22988: 801,\n",
       " 21756: 802,\n",
       " 17003: 803,\n",
       " 22439: 804,\n",
       " 22077: 805,\n",
       " 22650: 806,\n",
       " 23229: 807,\n",
       " 23310: 808,\n",
       " 47585: 809,\n",
       " 47586: 810,\n",
       " 21830: 811,\n",
       " 23075: 812,\n",
       " 22974: 813,\n",
       " 22972: 814,\n",
       " 23341: 815,\n",
       " 22571: 816,\n",
       " 22774: 817,\n",
       " 22773: 818,\n",
       " 22694: 819,\n",
       " 23570: 820,\n",
       " 23571: 821,\n",
       " 23569: 822,\n",
       " 21590: 823,\n",
       " 85042: 824,\n",
       " 21737: 825,\n",
       " 85132: 826,\n",
       " 22091: 827,\n",
       " 23238: 828,\n",
       " 23399: 829,\n",
       " 23431: 830,\n",
       " 22720: 831,\n",
       " 22999: 832,\n",
       " 23158: 833,\n",
       " 23200: 834,\n",
       " 22851: 835,\n",
       " 21623: 836,\n",
       " 21888: 837,\n",
       " 22380: 838,\n",
       " 47591: 839,\n",
       " 21156: 840,\n",
       " 22275: 841,\n",
       " 47568: 842,\n",
       " 22666: 843,\n",
       " 22665: 844,\n",
       " 22667: 845,\n",
       " 22755: 846,\n",
       " 22753: 847,\n",
       " 22754: 848,\n",
       " 21313: 849,\n",
       " 21902: 850,\n",
       " 21901: 851,\n",
       " 23085: 852,\n",
       " 85048: 853,\n",
       " 22943: 854,\n",
       " 22890: 855,\n",
       " 23084: 856,\n",
       " 22962: 857,\n",
       " 22963: 858,\n",
       " 22195: 859,\n",
       " 22325: 860,\n",
       " 21563: 861,\n",
       " 47583: 862,\n",
       " 84884: 863,\n",
       " 20985: 864,\n",
       " 84674: 865,\n",
       " 23118: 866,\n",
       " 85066: 867,\n",
       " 22079: 868,\n",
       " 21587: 869,\n",
       " 22518: 870,\n",
       " 21070: 871,\n",
       " 21503: 872,\n",
       " 22706: 873,\n",
       " 22323: 874,\n",
       " 40018: 875,\n",
       " 21391: 876,\n",
       " 21589: 877,\n",
       " 21586: 878,\n",
       " 15044: 879,\n",
       " 22605: 880,\n",
       " 21622: 881,\n",
       " 46000: 882,\n",
       " 20971: 883,\n",
       " 22568: 884,\n",
       " 22569: 885,\n",
       " 22586: 886,\n",
       " 22587: 887,\n",
       " 84568: 888,\n",
       " 84598: 889,\n",
       " 21827: 890,\n",
       " 85150: 891,\n",
       " 20751: 892,\n",
       " 20977: 893,\n",
       " 21675: 894,\n",
       " 21330: 895,\n",
       " 22646: 896,\n",
       " 21749: 897,\n",
       " 21155: 898,\n",
       " 23190: 899,\n",
       " 22352: 900,\n",
       " 21559: 901,\n",
       " 21673: 902,\n",
       " 20829: 903,\n",
       " 20702: 904,\n",
       " 20723: 905,\n",
       " 20719: 906,\n",
       " 22578: 907,\n",
       " 22577: 908,\n",
       " 21824: 909,\n",
       " 21802: 910,\n",
       " 22585: 911,\n",
       " 22070: 912,\n",
       " 22071: 913,\n",
       " 72799: 914,\n",
       " 21106: 915,\n",
       " 21361: 916,\n",
       " 22784: 917,\n",
       " 22618: 918,\n",
       " 22510: 919,\n",
       " 21190: 920,\n",
       " 21428: 921,\n",
       " 21870: 922,\n",
       " 21735: 923,\n",
       " 22066: 924,\n",
       " 22059: 925,\n",
       " 21486: 926,\n",
       " 21849: 927,\n",
       " 21846: 928,\n",
       " 35471: 929,\n",
       " 85208: 930,\n",
       " 17084: 931,\n",
       " 20828: 932,\n",
       " 21967: 933,\n",
       " 20871: 934,\n",
       " 22246: 935,\n",
       " 21679: 936,\n",
       " 21564: 937,\n",
       " 22243: 938,\n",
       " 21986: 939,\n",
       " 17165: 940,\n",
       " 37461: 941,\n",
       " 22418: 942,\n",
       " 22400: 943,\n",
       " 22908: 944,\n",
       " 21716: 945,\n",
       " 22094: 946,\n",
       " 35970: 947,\n",
       " 22600: 948,\n",
       " 22601: 949,\n",
       " 22595: 950,\n",
       " 22572: 951,\n",
       " 22576: 952,\n",
       " 22594: 953,\n",
       " 22737: 954,\n",
       " 21519: 955,\n",
       " 23426: 956,\n",
       " 23460: 957,\n",
       " 22141: 958,\n",
       " 22187: 959,\n",
       " 22645: 960,\n",
       " 21700: 961,\n",
       " 22517: 962,\n",
       " 35810: 963,\n",
       " 17091: 964,\n",
       " 71279: 965,\n",
       " 85111: 966,\n",
       " 23311: 967,\n",
       " 23102: 968,\n",
       " 23101: 969,\n",
       " 21744: 970,\n",
       " 72818: 971,\n",
       " 17021: 972,\n",
       " 17012: 973,\n",
       " 35651: 974,\n",
       " 35646: 975,\n",
       " 35648: 976,\n",
       " 22633: 977,\n",
       " 23439: 978,\n",
       " 23452: 979,\n",
       " 22776: 980,\n",
       " 21794: 981,\n",
       " 23329: 982,\n",
       " 23332: 983,\n",
       " 23333: 984,\n",
       " 23313: 985,\n",
       " 23415: 986,\n",
       " 23321: 987,\n",
       " 23322: 988,\n",
       " 23323: 989,\n",
       " 23396: 990,\n",
       " 23393: 991,\n",
       " 23534: 992,\n",
       " 23532: 993,\n",
       " 22173: 994,\n",
       " 21277: 995,\n",
       " 23404: 996,\n",
       " 23407: 997,\n",
       " 22507: 998,\n",
       " 23397: 999,\n",
       " ...}"
      ]
     },
     "execution_count": 224,
     "metadata": {},
     "output_type": "execute_result"
    }
   ],
   "source": [
    "corpus.dictionary"
   ]
  },
  {
   "cell_type": "code",
   "execution_count": 225,
   "id": "a564e1d3",
   "metadata": {},
   "outputs": [],
   "source": [
    "res_glove.add_dictionary(corpus.dictionary)"
   ]
  },
  {
   "cell_type": "code",
   "execution_count": 226,
   "id": "d4f46264",
   "metadata": {},
   "outputs": [],
   "source": [
    "corpus_dict_to_name = {}\n",
    "\n",
    "for zip_label in zip(train_csv_valid_prod['prod_unique_id'], train_csv_valid_prod['description']):\n",
    "    corpus_dict_to_name[zip_label[0]] = zip_label[1]"
   ]
  },
  {
   "cell_type": "code",
   "execution_count": 241,
   "id": "1ee6bf98",
   "metadata": {},
   "outputs": [
    {
     "data": {
      "text/plain": [
       "[(20725, 0.9982076287823266),\n",
       " (20727, 0.9971685532451882),\n",
       " (22383, 0.9970793814058561),\n",
       " (22384, 0.9969513834197969),\n",
       " (20728, 0.996945033725444),\n",
       " (22382, 0.9969320166460415),\n",
       " (22379, 0.9966126674603653),\n",
       " (20724, 0.9963685467177699),\n",
       " (20726, 0.9962111407889173),\n",
       " (22411, 0.9959241234412444),\n",
       " (20718, 0.9959052421973006),\n",
       " (22356, 0.9956619951754525),\n",
       " (21931, 0.9955715053706568),\n",
       " (22355, 0.9955139674646932),\n",
       " (21936, 0.9952461319599799),\n",
       " (22386, 0.9951700968252872),\n",
       " (20719, 0.9951236408178824),\n",
       " (22381, 0.9944842740735105),\n",
       " (20723, 0.9943837389325562),\n",
       " (22662, 0.9937528326771873)]"
      ]
     },
     "execution_count": 241,
     "metadata": {},
     "output_type": "execute_result"
    }
   ],
   "source": [
    "test_sim02 = res_glove.most_similar(85099, number=21)\n",
    "test_sim02"
   ]
  },
  {
   "cell_type": "code",
   "execution_count": 235,
   "id": "abb08c34",
   "metadata": {},
   "outputs": [
    {
     "data": {
      "text/plain": [
       "[(85099, 6338),\n",
       " (22386, 1328),\n",
       " (21931, 1163),\n",
       " (22411, 1043),\n",
       " (20725, 1038),\n",
       " (84997, 927),\n",
       " (21929, 878),\n",
       " (21928, 862),\n",
       " (85123, 855),\n",
       " (22383, 736),\n",
       " (22384, 731),\n",
       " (20727, 711),\n",
       " (21930, 678),\n",
       " (22385, 661),\n",
       " (20728, 660),\n",
       " (20724, 654),\n",
       " (20713, 638),\n",
       " (20712, 609),\n",
       " (22382, 585),\n",
       " (21212, 570),\n",
       " (23203, 562),\n",
       " (85049, 537),\n",
       " (20726, 529),\n",
       " (47566, 503),\n",
       " (22379, 471),\n",
       " (22356, 470),\n",
       " (20914, 468),\n",
       " (20711, 457),\n",
       " (22423, 449),\n",
       " (20723, 445)]"
      ]
     },
     "execution_count": 235,
     "metadata": {},
     "output_type": "execute_result"
    }
   ],
   "source": [
    "test_85099 = cal_co_occur(85099)\n",
    "test_85099[:30]"
   ]
  },
  {
   "cell_type": "code",
   "execution_count": 267,
   "id": "70303d93",
   "metadata": {},
   "outputs": [
    {
     "name": "stdout",
     "output_type": "stream",
     "text": [
      "22386 is founded.\n",
      "21931 is founded.\n",
      "22411 is founded.\n",
      "20725 is founded.\n",
      "22383 is founded.\n",
      "22384 is founded.\n"
     ]
    }
   ],
   "source": [
    "for i in range(1, 11):\n",
    "    for j in range(20):\n",
    "        if test_85099[i][0] == test_sim02[j][0]:\n",
    "            print(f\"{test_85099[i][0]} is founded.\")\n",
    "            break\n",
    "        "
   ]
  },
  {
   "cell_type": "code",
   "execution_count": null,
   "id": "322bee2f",
   "metadata": {},
   "outputs": [],
   "source": []
  }
 ],
 "metadata": {
  "kernelspec": {
   "display_name": "Python 3",
   "language": "python",
   "name": "python3"
  },
  "language_info": {
   "codemirror_mode": {
    "name": "ipython",
    "version": 3
   },
   "file_extension": ".py",
   "mimetype": "text/x-python",
   "name": "python",
   "nbconvert_exporter": "python",
   "pygments_lexer": "ipython3",
   "version": "3.7.7"
  }
 },
 "nbformat": 4,
 "nbformat_minor": 5
}
