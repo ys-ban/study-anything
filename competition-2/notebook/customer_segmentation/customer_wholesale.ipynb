{
 "cells": [
  {
   "cell_type": "code",
   "execution_count": 1,
   "id": "af2bcbc7",
   "metadata": {},
   "outputs": [],
   "source": [
    "import pandas as pd\n",
    "import numpy as np\n",
    "import matplotlib.pyplot as plt"
   ]
  },
  {
   "cell_type": "code",
   "execution_count": 3,
   "id": "a92f58e8",
   "metadata": {},
   "outputs": [],
   "source": [
    "train_csv = pd.read_csv('/opt/ml/code/input/train.csv')"
   ]
  },
  {
   "cell_type": "code",
   "execution_count": 4,
   "id": "9cec6c69",
   "metadata": {},
   "outputs": [
    {
     "data": {
      "text/html": [
       "<div>\n",
       "<style scoped>\n",
       "    .dataframe tbody tr th:only-of-type {\n",
       "        vertical-align: middle;\n",
       "    }\n",
       "\n",
       "    .dataframe tbody tr th {\n",
       "        vertical-align: top;\n",
       "    }\n",
       "\n",
       "    .dataframe thead th {\n",
       "        text-align: right;\n",
       "    }\n",
       "</style>\n",
       "<table border=\"1\" class=\"dataframe\">\n",
       "  <thead>\n",
       "    <tr style=\"text-align: right;\">\n",
       "      <th></th>\n",
       "      <th>order_id</th>\n",
       "      <th>product_id</th>\n",
       "      <th>description</th>\n",
       "      <th>quantity</th>\n",
       "      <th>order_date</th>\n",
       "      <th>price</th>\n",
       "      <th>customer_id</th>\n",
       "      <th>country</th>\n",
       "      <th>total</th>\n",
       "    </tr>\n",
       "  </thead>\n",
       "  <tbody>\n",
       "    <tr>\n",
       "      <th>0</th>\n",
       "      <td>489434</td>\n",
       "      <td>85048</td>\n",
       "      <td>15CM CHRISTMAS GLASS BALL 20 LIGHTS</td>\n",
       "      <td>12</td>\n",
       "      <td>2009-12-01 07:45:00</td>\n",
       "      <td>11.4675</td>\n",
       "      <td>13085</td>\n",
       "      <td>United Kingdom</td>\n",
       "      <td>137.61</td>\n",
       "    </tr>\n",
       "    <tr>\n",
       "      <th>1</th>\n",
       "      <td>489434</td>\n",
       "      <td>79323P</td>\n",
       "      <td>PINK CHERRY LIGHTS</td>\n",
       "      <td>12</td>\n",
       "      <td>2009-12-01 07:45:00</td>\n",
       "      <td>11.1375</td>\n",
       "      <td>13085</td>\n",
       "      <td>United Kingdom</td>\n",
       "      <td>133.65</td>\n",
       "    </tr>\n",
       "    <tr>\n",
       "      <th>2</th>\n",
       "      <td>489434</td>\n",
       "      <td>79323W</td>\n",
       "      <td>WHITE CHERRY LIGHTS</td>\n",
       "      <td>12</td>\n",
       "      <td>2009-12-01 07:45:00</td>\n",
       "      <td>11.1375</td>\n",
       "      <td>13085</td>\n",
       "      <td>United Kingdom</td>\n",
       "      <td>133.65</td>\n",
       "    </tr>\n",
       "    <tr>\n",
       "      <th>3</th>\n",
       "      <td>489434</td>\n",
       "      <td>22041</td>\n",
       "      <td>RECORD FRAME 7\" SINGLE SIZE</td>\n",
       "      <td>48</td>\n",
       "      <td>2009-12-01 07:45:00</td>\n",
       "      <td>3.4650</td>\n",
       "      <td>13085</td>\n",
       "      <td>United Kingdom</td>\n",
       "      <td>166.32</td>\n",
       "    </tr>\n",
       "    <tr>\n",
       "      <th>4</th>\n",
       "      <td>489434</td>\n",
       "      <td>21232</td>\n",
       "      <td>STRAWBERRY CERAMIC TRINKET BOX</td>\n",
       "      <td>24</td>\n",
       "      <td>2009-12-01 07:45:00</td>\n",
       "      <td>2.0625</td>\n",
       "      <td>13085</td>\n",
       "      <td>United Kingdom</td>\n",
       "      <td>49.50</td>\n",
       "    </tr>\n",
       "  </tbody>\n",
       "</table>\n",
       "</div>"
      ],
      "text/plain": [
       "  order_id product_id                          description  quantity  \\\n",
       "0   489434      85048  15CM CHRISTMAS GLASS BALL 20 LIGHTS        12   \n",
       "1   489434     79323P                   PINK CHERRY LIGHTS        12   \n",
       "2   489434     79323W                  WHITE CHERRY LIGHTS        12   \n",
       "3   489434      22041         RECORD FRAME 7\" SINGLE SIZE         48   \n",
       "4   489434      21232       STRAWBERRY CERAMIC TRINKET BOX        24   \n",
       "\n",
       "            order_date    price  customer_id         country   total  \n",
       "0  2009-12-01 07:45:00  11.4675        13085  United Kingdom  137.61  \n",
       "1  2009-12-01 07:45:00  11.1375        13085  United Kingdom  133.65  \n",
       "2  2009-12-01 07:45:00  11.1375        13085  United Kingdom  133.65  \n",
       "3  2009-12-01 07:45:00   3.4650        13085  United Kingdom  166.32  \n",
       "4  2009-12-01 07:45:00   2.0625        13085  United Kingdom   49.50  "
      ]
     },
     "execution_count": 4,
     "metadata": {},
     "output_type": "execute_result"
    }
   ],
   "source": [
    "train_csv.head()"
   ]
  },
  {
   "cell_type": "code",
   "execution_count": 5,
   "id": "32ccf28a",
   "metadata": {},
   "outputs": [],
   "source": [
    "customer_list = list(set(train_csv.customer_id))"
   ]
  },
  {
   "cell_type": "code",
   "execution_count": 6,
   "id": "a57a1d55",
   "metadata": {},
   "outputs": [
    {
     "data": {
      "text/plain": [
       "5914"
      ]
     },
     "execution_count": 6,
     "metadata": {},
     "output_type": "execute_result"
    }
   ],
   "source": [
    "len(customer_list)"
   ]
  },
  {
   "cell_type": "code",
   "execution_count": 7,
   "id": "7120da0d",
   "metadata": {},
   "outputs": [],
   "source": [
    "train_csv['y_m_d'] = [elem[:10] for elem in train_csv['order_date'].copy()]\n",
    "train_csv['y_m'] = [elem[:7] for elem in train_csv['order_date'].copy()]"
   ]
  },
  {
   "cell_type": "code",
   "execution_count": 8,
   "id": "b85f47d5",
   "metadata": {},
   "outputs": [
    {
     "data": {
      "text/html": [
       "<div>\n",
       "<style scoped>\n",
       "    .dataframe tbody tr th:only-of-type {\n",
       "        vertical-align: middle;\n",
       "    }\n",
       "\n",
       "    .dataframe tbody tr th {\n",
       "        vertical-align: top;\n",
       "    }\n",
       "\n",
       "    .dataframe thead th {\n",
       "        text-align: right;\n",
       "    }\n",
       "</style>\n",
       "<table border=\"1\" class=\"dataframe\">\n",
       "  <thead>\n",
       "    <tr style=\"text-align: right;\">\n",
       "      <th></th>\n",
       "      <th>order_id</th>\n",
       "      <th>product_id</th>\n",
       "      <th>description</th>\n",
       "      <th>quantity</th>\n",
       "      <th>order_date</th>\n",
       "      <th>price</th>\n",
       "      <th>customer_id</th>\n",
       "      <th>country</th>\n",
       "      <th>total</th>\n",
       "      <th>y_m_d</th>\n",
       "      <th>y_m</th>\n",
       "    </tr>\n",
       "  </thead>\n",
       "  <tbody>\n",
       "    <tr>\n",
       "      <th>0</th>\n",
       "      <td>489434</td>\n",
       "      <td>85048</td>\n",
       "      <td>15CM CHRISTMAS GLASS BALL 20 LIGHTS</td>\n",
       "      <td>12</td>\n",
       "      <td>2009-12-01 07:45:00</td>\n",
       "      <td>11.4675</td>\n",
       "      <td>13085</td>\n",
       "      <td>United Kingdom</td>\n",
       "      <td>137.61</td>\n",
       "      <td>2009-12-01</td>\n",
       "      <td>2009-12</td>\n",
       "    </tr>\n",
       "    <tr>\n",
       "      <th>1</th>\n",
       "      <td>489434</td>\n",
       "      <td>79323P</td>\n",
       "      <td>PINK CHERRY LIGHTS</td>\n",
       "      <td>12</td>\n",
       "      <td>2009-12-01 07:45:00</td>\n",
       "      <td>11.1375</td>\n",
       "      <td>13085</td>\n",
       "      <td>United Kingdom</td>\n",
       "      <td>133.65</td>\n",
       "      <td>2009-12-01</td>\n",
       "      <td>2009-12</td>\n",
       "    </tr>\n",
       "    <tr>\n",
       "      <th>2</th>\n",
       "      <td>489434</td>\n",
       "      <td>79323W</td>\n",
       "      <td>WHITE CHERRY LIGHTS</td>\n",
       "      <td>12</td>\n",
       "      <td>2009-12-01 07:45:00</td>\n",
       "      <td>11.1375</td>\n",
       "      <td>13085</td>\n",
       "      <td>United Kingdom</td>\n",
       "      <td>133.65</td>\n",
       "      <td>2009-12-01</td>\n",
       "      <td>2009-12</td>\n",
       "    </tr>\n",
       "    <tr>\n",
       "      <th>3</th>\n",
       "      <td>489434</td>\n",
       "      <td>22041</td>\n",
       "      <td>RECORD FRAME 7\" SINGLE SIZE</td>\n",
       "      <td>48</td>\n",
       "      <td>2009-12-01 07:45:00</td>\n",
       "      <td>3.4650</td>\n",
       "      <td>13085</td>\n",
       "      <td>United Kingdom</td>\n",
       "      <td>166.32</td>\n",
       "      <td>2009-12-01</td>\n",
       "      <td>2009-12</td>\n",
       "    </tr>\n",
       "    <tr>\n",
       "      <th>4</th>\n",
       "      <td>489434</td>\n",
       "      <td>21232</td>\n",
       "      <td>STRAWBERRY CERAMIC TRINKET BOX</td>\n",
       "      <td>24</td>\n",
       "      <td>2009-12-01 07:45:00</td>\n",
       "      <td>2.0625</td>\n",
       "      <td>13085</td>\n",
       "      <td>United Kingdom</td>\n",
       "      <td>49.50</td>\n",
       "      <td>2009-12-01</td>\n",
       "      <td>2009-12</td>\n",
       "    </tr>\n",
       "  </tbody>\n",
       "</table>\n",
       "</div>"
      ],
      "text/plain": [
       "  order_id product_id                          description  quantity  \\\n",
       "0   489434      85048  15CM CHRISTMAS GLASS BALL 20 LIGHTS        12   \n",
       "1   489434     79323P                   PINK CHERRY LIGHTS        12   \n",
       "2   489434     79323W                  WHITE CHERRY LIGHTS        12   \n",
       "3   489434      22041         RECORD FRAME 7\" SINGLE SIZE         48   \n",
       "4   489434      21232       STRAWBERRY CERAMIC TRINKET BOX        24   \n",
       "\n",
       "            order_date    price  customer_id         country   total  \\\n",
       "0  2009-12-01 07:45:00  11.4675        13085  United Kingdom  137.61   \n",
       "1  2009-12-01 07:45:00  11.1375        13085  United Kingdom  133.65   \n",
       "2  2009-12-01 07:45:00  11.1375        13085  United Kingdom  133.65   \n",
       "3  2009-12-01 07:45:00   3.4650        13085  United Kingdom  166.32   \n",
       "4  2009-12-01 07:45:00   2.0625        13085  United Kingdom   49.50   \n",
       "\n",
       "        y_m_d      y_m  \n",
       "0  2009-12-01  2009-12  \n",
       "1  2009-12-01  2009-12  \n",
       "2  2009-12-01  2009-12  \n",
       "3  2009-12-01  2009-12  \n",
       "4  2009-12-01  2009-12  "
      ]
     },
     "execution_count": 8,
     "metadata": {},
     "output_type": "execute_result"
    }
   ],
   "source": [
    "train_csv.head()"
   ]
  },
  {
   "cell_type": "code",
   "execution_count": 10,
   "id": "9eaf2c9c",
   "metadata": {},
   "outputs": [],
   "source": [
    "customer_date_grouped = train_csv.groupby(['customer_id', 'y_m'])[['quantity', 'total']].sum()"
   ]
  },
  {
   "cell_type": "code",
   "execution_count": 11,
   "id": "14dfab57",
   "metadata": {},
   "outputs": [
    {
     "data": {
      "text/html": [
       "<div>\n",
       "<style scoped>\n",
       "    .dataframe tbody tr th:only-of-type {\n",
       "        vertical-align: middle;\n",
       "    }\n",
       "\n",
       "    .dataframe tbody tr th {\n",
       "        vertical-align: top;\n",
       "    }\n",
       "\n",
       "    .dataframe thead th {\n",
       "        text-align: right;\n",
       "    }\n",
       "</style>\n",
       "<table border=\"1\" class=\"dataframe\">\n",
       "  <thead>\n",
       "    <tr style=\"text-align: right;\">\n",
       "      <th></th>\n",
       "      <th></th>\n",
       "      <th>quantity</th>\n",
       "      <th>total</th>\n",
       "    </tr>\n",
       "    <tr>\n",
       "      <th>customer_id</th>\n",
       "      <th>y_m</th>\n",
       "      <th></th>\n",
       "      <th></th>\n",
       "    </tr>\n",
       "  </thead>\n",
       "  <tbody>\n",
       "    <tr>\n",
       "      <th rowspan=\"5\" valign=\"top\">12346</th>\n",
       "      <th>2009-12</th>\n",
       "      <td>26</td>\n",
       "      <td>187.2750</td>\n",
       "    </tr>\n",
       "    <tr>\n",
       "      <th>2010-01</th>\n",
       "      <td>19</td>\n",
       "      <td>-22.2750</td>\n",
       "    </tr>\n",
       "    <tr>\n",
       "      <th>2010-03</th>\n",
       "      <td>5</td>\n",
       "      <td>44.6325</td>\n",
       "    </tr>\n",
       "    <tr>\n",
       "      <th>2010-06</th>\n",
       "      <td>5</td>\n",
       "      <td>-285.9285</td>\n",
       "    </tr>\n",
       "    <tr>\n",
       "      <th>2010-10</th>\n",
       "      <td>-2</td>\n",
       "      <td>-9.0750</td>\n",
       "    </tr>\n",
       "  </tbody>\n",
       "</table>\n",
       "</div>"
      ],
      "text/plain": [
       "                     quantity     total\n",
       "customer_id y_m                        \n",
       "12346       2009-12        26  187.2750\n",
       "            2010-01        19  -22.2750\n",
       "            2010-03         5   44.6325\n",
       "            2010-06         5 -285.9285\n",
       "            2010-10        -2   -9.0750"
      ]
     },
     "execution_count": 11,
     "metadata": {},
     "output_type": "execute_result"
    }
   ],
   "source": [
    "customer_date_grouped.head()"
   ]
  },
  {
   "cell_type": "code",
   "execution_count": 19,
   "id": "819688cd",
   "metadata": {},
   "outputs": [
    {
     "data": {
      "text/html": [
       "<div>\n",
       "<style scoped>\n",
       "    .dataframe tbody tr th:only-of-type {\n",
       "        vertical-align: middle;\n",
       "    }\n",
       "\n",
       "    .dataframe tbody tr th {\n",
       "        vertical-align: top;\n",
       "    }\n",
       "\n",
       "    .dataframe thead th {\n",
       "        text-align: right;\n",
       "    }\n",
       "</style>\n",
       "<table border=\"1\" class=\"dataframe\">\n",
       "  <thead>\n",
       "    <tr style=\"text-align: right;\">\n",
       "      <th></th>\n",
       "      <th>quantity</th>\n",
       "      <th>total</th>\n",
       "    </tr>\n",
       "    <tr>\n",
       "      <th>customer_id</th>\n",
       "      <th></th>\n",
       "      <th></th>\n",
       "    </tr>\n",
       "  </thead>\n",
       "  <tbody>\n",
       "    <tr>\n",
       "      <th>12346</th>\n",
       "      <td>26</td>\n",
       "      <td>187.2750</td>\n",
       "    </tr>\n",
       "    <tr>\n",
       "      <th>12349</th>\n",
       "      <td>-5</td>\n",
       "      <td>-39.8475</td>\n",
       "    </tr>\n",
       "    <tr>\n",
       "      <th>12358</th>\n",
       "      <td>309</td>\n",
       "      <td>2359.2195</td>\n",
       "    </tr>\n",
       "    <tr>\n",
       "      <th>12359</th>\n",
       "      <td>397</td>\n",
       "      <td>1255.1385</td>\n",
       "    </tr>\n",
       "    <tr>\n",
       "      <th>12362</th>\n",
       "      <td>1</td>\n",
       "      <td>214.5000</td>\n",
       "    </tr>\n",
       "    <tr>\n",
       "      <th>...</th>\n",
       "      <td>...</td>\n",
       "      <td>...</td>\n",
       "    </tr>\n",
       "    <tr>\n",
       "      <th>18271</th>\n",
       "      <td>89</td>\n",
       "      <td>317.7075</td>\n",
       "    </tr>\n",
       "    <tr>\n",
       "      <th>18275</th>\n",
       "      <td>224</td>\n",
       "      <td>614.8560</td>\n",
       "    </tr>\n",
       "    <tr>\n",
       "      <th>18276</th>\n",
       "      <td>193</td>\n",
       "      <td>359.7825</td>\n",
       "    </tr>\n",
       "    <tr>\n",
       "      <th>18286</th>\n",
       "      <td>114</td>\n",
       "      <td>763.8675</td>\n",
       "    </tr>\n",
       "    <tr>\n",
       "      <th>18287</th>\n",
       "      <td>-2</td>\n",
       "      <td>-8.4150</td>\n",
       "    </tr>\n",
       "  </tbody>\n",
       "</table>\n",
       "<p>1045 rows × 2 columns</p>\n",
       "</div>"
      ],
      "text/plain": [
       "             quantity      total\n",
       "customer_id                     \n",
       "12346              26   187.2750\n",
       "12349              -5   -39.8475\n",
       "12358             309  2359.2195\n",
       "12359             397  1255.1385\n",
       "12362               1   214.5000\n",
       "...               ...        ...\n",
       "18271              89   317.7075\n",
       "18275             224   614.8560\n",
       "18276             193   359.7825\n",
       "18286             114   763.8675\n",
       "18287              -2    -8.4150\n",
       "\n",
       "[1045 rows x 2 columns]"
      ]
     },
     "execution_count": 19,
     "metadata": {},
     "output_type": "execute_result"
    }
   ],
   "source": [
    "customer_date_grouped.xs('2009-12', level=1)"
   ]
  },
  {
   "cell_type": "code",
   "execution_count": 79,
   "id": "2378a23a",
   "metadata": {},
   "outputs": [
    {
     "data": {
      "text/plain": [
       "(array([1.000e+00, 0.000e+00, 1.185e+03, 1.100e+01, 2.000e+00, 1.000e+00,\n",
       "        0.000e+00, 0.000e+00, 0.000e+00, 2.000e+00]),\n",
       " array([-19603.386  , -10614.54405,  -1625.7021 ,   7363.13985,\n",
       "         16351.9818 ,  25340.82375,  34329.6657 ,  43318.50765,\n",
       "         52307.3496 ,  61296.19155,  70285.0335 ]),\n",
       " <a list of 10 Patch objects>)"
      ]
     },
     "execution_count": 79,
     "metadata": {},
     "output_type": "execute_result"
    },
    {
     "data": {
      "image/png": "[encoded data removed]",
      "text/plain": [
       "<Figure size 432x288 with 1 Axes>"
      ]
     },
     "metadata": {
      "needs_background": "light"
     },
     "output_type": "display_data"
    }
   ],
   "source": [
    "plt.hist(customer_date_grouped.xs('2010-09', level=1)['total'])"
   ]
  },
  {
   "cell_type": "code",
   "execution_count": 85,
   "id": "c000290d",
   "metadata": {},
   "outputs": [
    {
     "data": {
      "text/plain": [
       "count     1202.000000\n",
       "mean      1068.683930\n",
       "std       3319.825839\n",
       "min     -19603.386000\n",
       "25%        321.304500\n",
       "50%        567.410250\n",
       "75%       1010.769375\n",
       "max      70285.033500\n",
       "Name: total, dtype: float64"
      ]
     },
     "execution_count": 85,
     "metadata": {},
     "output_type": "execute_result"
    }
   ],
   "source": [
    "customer_date_grouped.xs('2010-09', level=1)['total'].describe()"
   ]
  },
  {
   "cell_type": "code",
   "execution_count": 86,
   "id": "64645268",
   "metadata": {},
   "outputs": [
    {
     "data": {
      "text/plain": [
       "1010.7693750000003"
      ]
     },
     "execution_count": 86,
     "metadata": {},
     "output_type": "execute_result"
    }
   ],
   "source": [
    "customer_date_grouped.xs('2010-09', level=1)['total'].describe()['75%']"
   ]
  },
  {
   "cell_type": "code",
   "execution_count": 84,
   "id": "5b3585c4",
   "metadata": {},
   "outputs": [],
   "source": [
    "y_m_index = list(set(train_csv.y_m))"
   ]
  },
  {
   "cell_type": "code",
   "execution_count": 89,
   "id": "f90d9b6b",
   "metadata": {},
   "outputs": [
    {
     "data": {
      "text/plain": [
       "24"
      ]
     },
     "execution_count": 89,
     "metadata": {},
     "output_type": "execute_result"
    }
   ],
   "source": [
    "len(y_m_index)"
   ]
  },
  {
   "cell_type": "code",
   "execution_count": 87,
   "id": "59a0cdae",
   "metadata": {},
   "outputs": [],
   "source": [
    "total_quantile = [[] for _ in y_m_index]"
   ]
  },
  {
   "cell_type": "code",
   "execution_count": 88,
   "id": "8d80e69f",
   "metadata": {},
   "outputs": [],
   "source": [
    "for i, y_m in enumerate(y_m_index):\n",
    "    total_quantile[i].append(customer_date_grouped.xs(y_m, level=1)['total'].describe()['25%'])\n",
    "    total_quantile[i].append(customer_date_grouped.xs(y_m, level=1)['total'].describe()['50%'])\n",
    "    total_quantile[i].append(customer_date_grouped.xs(y_m, level=1)['total'].describe()['75%'])"
   ]
  },
  {
   "cell_type": "code",
   "execution_count": 90,
   "id": "0c73ae81",
   "metadata": {},
   "outputs": [],
   "source": [
    "total_lower_quantile = []\n",
    "total_middle_quantile = []\n",
    "total_upper_quantile = []\n",
    "\n",
    "for i in range(24):\n",
    "    total_lower_quantile.append(total_quantile[i][0])\n",
    "    total_middle_quantile.append(total_quantile[i][1])\n",
    "    total_upper_quantile.append(total_quantile[i][2])"
   ]
  },
  {
   "cell_type": "code",
   "execution_count": 104,
   "id": "04521fd4",
   "metadata": {},
   "outputs": [
    {
     "data": {
      "text/plain": [
       "<matplotlib.legend.Legend at 0x7f5db4b66250>"
      ]
     },
     "execution_count": 104,
     "metadata": {},
     "output_type": "execute_result"
    },
    {
     "data": {
      "image/png": "[encoded data removed]",
      "text/plain": [
       "<Figure size 432x288 with 1 Axes>"
      ]
     },
     "metadata": {
      "needs_background": "light"
     },
     "output_type": "display_data"
    }
   ],
   "source": [
    "plt.plot(range(24), total_lower_quantile, label=\"lower\")\n",
    "plt.plot(range(24), total_middle_quantile, label=\"middle\")\n",
    "plt.plot(range(24), total_upper_quantile, label=\"upper\")\n",
    "plt.plot(range(24), [300]*24, \"-.\", alpha=0.5)\n",
    "plt.ylim((0, 1200))\n",
    "plt.legend()"
   ]
  },
  {
   "cell_type": "code",
   "execution_count": 111,
   "id": "866e55f3",
   "metadata": {},
   "outputs": [],
   "source": [
    "total_2010_01 = (customer_date_grouped.xs('2010-01', level=1)['total']>1000)"
   ]
  },
  {
   "cell_type": "code",
   "execution_count": 112,
   "id": "50960908",
   "metadata": {},
   "outputs": [
    {
     "data": {
      "text/plain": [
       "Int64Index([12346, 12361, 12382, 12404, 12406, 12417, 12431, 12437, 12439,\n",
       "            12454,\n",
       "            ...\n",
       "            18212, 18220, 18223, 18225, 18229, 18231, 18242, 18252, 18259,\n",
       "            18268],\n",
       "           dtype='int64', name='customer_id', length=786)"
      ]
     },
     "execution_count": 112,
     "metadata": {},
     "output_type": "execute_result"
    }
   ],
   "source": [
    "total_2010_01.index"
   ]
  },
  {
   "cell_type": "code",
   "execution_count": 118,
   "id": "b0b246c0",
   "metadata": {},
   "outputs": [],
   "source": [
    "def get_customer_over(y_m, total_lim):\n",
    "    total_y_m = customer_date_grouped.xs(y_m, level=1)['total']\n",
    "    total_y_m = total_y_m[total_y_m>total_lim]\n",
    "    return set(total_y_m.index)"
   ]
  },
  {
   "cell_type": "code",
   "execution_count": 125,
   "id": "e5ee05bb",
   "metadata": {},
   "outputs": [],
   "source": [
    "cust_2010_01_over_1000 = get_customer_over('2010-01', 1000)\n",
    "cust_2010_02_over_1000 = get_customer_over('2010-02', 1000)\n",
    "cust_2010_03_over_1000 = get_customer_over('2010-03', 1000)\n",
    "cust_2010_04_over_1000 = get_customer_over('2010-04', 1000)"
   ]
  },
  {
   "cell_type": "code",
   "execution_count": 126,
   "id": "30538a16",
   "metadata": {},
   "outputs": [
    {
     "name": "stdout",
     "output_type": "stream",
     "text": [
      "180\n",
      "183\n",
      "249\n",
      "238\n"
     ]
    }
   ],
   "source": [
    "print(len(cust_2010_01_over_1000))\n",
    "print(len(cust_2010_02_over_1000))\n",
    "print(len(cust_2010_03_over_1000))\n",
    "print(len(cust_2010_04_over_1000))"
   ]
  },
  {
   "cell_type": "code",
   "execution_count": 127,
   "id": "f80d8151",
   "metadata": {},
   "outputs": [
    {
     "data": {
      "text/plain": [
       "64"
      ]
     },
     "execution_count": 127,
     "metadata": {},
     "output_type": "execute_result"
    }
   ],
   "source": [
    "len(cust_2010_01_over_1000 & cust_2010_02_over_1000)"
   ]
  },
  {
   "cell_type": "code",
   "execution_count": 128,
   "id": "98be13bc",
   "metadata": {},
   "outputs": [
    {
     "data": {
      "text/plain": [
       "72"
      ]
     },
     "execution_count": 128,
     "metadata": {},
     "output_type": "execute_result"
    }
   ],
   "source": [
    "len(cust_2010_02_over_1000 & cust_2010_03_over_1000)"
   ]
  },
  {
   "cell_type": "code",
   "execution_count": 129,
   "id": "e3b5eac0",
   "metadata": {},
   "outputs": [
    {
     "data": {
      "text/plain": [
       "83"
      ]
     },
     "execution_count": 129,
     "metadata": {},
     "output_type": "execute_result"
    }
   ],
   "source": [
    "len(cust_2010_03_over_1000 & cust_2010_04_over_1000)"
   ]
  },
  {
   "cell_type": "code",
   "execution_count": 130,
   "id": "9742a2b9",
   "metadata": {},
   "outputs": [
    {
     "data": {
      "text/plain": [
       "37"
      ]
     },
     "execution_count": 130,
     "metadata": {},
     "output_type": "execute_result"
    }
   ],
   "source": [
    "len(cust_2010_03_over_1000 & cust_2010_04_over_1000 & cust_2010_01_over_1000 & cust_2010_02_over_1000)"
   ]
  },
  {
   "cell_type": "code",
   "execution_count": 138,
   "id": "589bab32",
   "metadata": {},
   "outputs": [],
   "source": [
    "def get_customer_topn(y_m, n, print_og=False):\n",
    "    total_y_m = customer_date_grouped.xs(y_m, level=1)['total']\n",
    "    total_y_m = total_y_m.sort_values()\n",
    "    if print_og:\n",
    "        print(total_y_m)\n",
    "    return set(total_y_m[-n:].index)"
   ]
  },
  {
   "cell_type": "code",
   "execution_count": 139,
   "id": "6d6ad4e2",
   "metadata": {},
   "outputs": [
    {
     "name": "stdout",
     "output_type": "stream",
     "text": [
      "customer_id\n",
      "17940    -2080.5840\n",
      "17943     -272.2995\n",
      "12533     -216.8100\n",
      "14285     -207.5370\n",
      "14290     -189.7170\n",
      "            ...    \n",
      "14911    15382.0095\n",
      "13694    32342.2770\n",
      "14646    47680.5780\n",
      "18102    63616.2450\n",
      "14156    80476.7535\n",
      "Name: total, Length: 786, dtype: float64\n"
     ]
    }
   ],
   "source": [
    "cust_2010_01_top200 = get_customer_topn('2010-01', 200, True)\n"
   ]
  },
  {
   "cell_type": "code",
   "execution_count": 140,
   "id": "13b28ee6",
   "metadata": {},
   "outputs": [],
   "source": [
    "cust_2010_02_top200 = get_customer_topn('2010-02', 200)\n",
    "cust_2010_03_top200 = get_customer_topn('2010-03', 200)\n",
    "cust_2010_04_top200 = get_customer_topn('2010-04', 200)"
   ]
  },
  {
   "cell_type": "code",
   "execution_count": 141,
   "id": "abc19621",
   "metadata": {},
   "outputs": [
    {
     "name": "stdout",
     "output_type": "stream",
     "text": [
      "200\n",
      "200\n",
      "200\n",
      "200\n"
     ]
    }
   ],
   "source": [
    "print(len(cust_2010_01_top200))\n",
    "print(len(cust_2010_02_top200))\n",
    "print(len(cust_2010_03_top200))\n",
    "print(len(cust_2010_04_top200))"
   ]
  },
  {
   "cell_type": "code",
   "execution_count": 142,
   "id": "14ea7db9",
   "metadata": {},
   "outputs": [
    {
     "data": {
      "text/plain": [
       "70"
      ]
     },
     "execution_count": 142,
     "metadata": {},
     "output_type": "execute_result"
    }
   ],
   "source": [
    "len(cust_2010_01_top200 & cust_2010_02_top200)"
   ]
  },
  {
   "cell_type": "code",
   "execution_count": 143,
   "id": "c434ba9e",
   "metadata": {},
   "outputs": [
    {
     "data": {
      "text/plain": [
       "66"
      ]
     },
     "execution_count": 143,
     "metadata": {},
     "output_type": "execute_result"
    }
   ],
   "source": [
    "len(cust_2010_03_top200 & cust_2010_02_top200)"
   ]
  },
  {
   "cell_type": "code",
   "execution_count": 144,
   "id": "a37a63be",
   "metadata": {},
   "outputs": [
    {
     "data": {
      "text/plain": [
       "66"
      ]
     },
     "execution_count": 144,
     "metadata": {},
     "output_type": "execute_result"
    }
   ],
   "source": [
    "len(cust_2010_03_top200 & cust_2010_04_top200)"
   ]
  },
  {
   "cell_type": "code",
   "execution_count": null,
   "id": "24f79c49",
   "metadata": {},
   "outputs": [],
   "source": []
  }
 ],
 "metadata": {
  "kernelspec": {
   "display_name": "Python 3",
   "language": "python",
   "name": "python3"
  },
  "language_info": {
   "codemirror_mode": {
    "name": "ipython",
    "version": 3
   },
   "file_extension": ".py",
   "mimetype": "text/x-python",
   "name": "python",
   "nbconvert_exporter": "python",
   "pygments_lexer": "ipython3",
   "version": "3.7.7"
  }
 },
 "nbformat": 4,
 "nbformat_minor": 5
}
